{
 "cells": [
  {
   "cell_type": "code",
   "execution_count": 2,
   "id": "cae51eb8",
   "metadata": {
    "scrolled": true
   },
   "outputs": [
    {
     "name": "stdout",
     "output_type": "stream",
     "text": [
      "Requirement already satisfied: palmerpenguins in /Users/richlegendary/anaconda3/lib/python3.11/site-packages (0.1.4)\n",
      "Requirement already satisfied: pandas in /Users/richlegendary/anaconda3/lib/python3.11/site-packages (from palmerpenguins) (2.0.3)\n",
      "Requirement already satisfied: numpy in /Users/richlegendary/anaconda3/lib/python3.11/site-packages (from palmerpenguins) (1.24.3)\n",
      "Requirement already satisfied: python-dateutil>=2.8.2 in /Users/richlegendary/anaconda3/lib/python3.11/site-packages (from pandas->palmerpenguins) (2.8.2)\n",
      "Requirement already satisfied: pytz>=2020.1 in /Users/richlegendary/anaconda3/lib/python3.11/site-packages (from pandas->palmerpenguins) (2023.3.post1)\n",
      "Requirement already satisfied: tzdata>=2022.1 in /Users/richlegendary/anaconda3/lib/python3.11/site-packages (from pandas->palmerpenguins) (2023.3)\n",
      "Requirement already satisfied: six>=1.5 in /Users/richlegendary/anaconda3/lib/python3.11/site-packages (from python-dateutil>=2.8.2->pandas->palmerpenguins) (1.16.0)\n"
     ]
    }
   ],
   "source": [
    "!pip install palmerpenguins"
   ]
  },
  {
   "cell_type": "code",
   "execution_count": 3,
   "id": "8f869e99",
   "metadata": {
    "scrolled": true
   },
   "outputs": [
    {
     "name": "stdout",
     "output_type": "stream",
     "text": [
      "Requirement already satisfied: scikit_learn in /Users/richlegendary/anaconda3/lib/python3.11/site-packages (1.3.0)\r\n",
      "Requirement already satisfied: numpy>=1.17.3 in /Users/richlegendary/anaconda3/lib/python3.11/site-packages (from scikit_learn) (1.24.3)\r\n",
      "Requirement already satisfied: scipy>=1.5.0 in /Users/richlegendary/anaconda3/lib/python3.11/site-packages (from scikit_learn) (1.11.1)\r\n",
      "Requirement already satisfied: joblib>=1.1.1 in /Users/richlegendary/anaconda3/lib/python3.11/site-packages (from scikit_learn) (1.2.0)\r\n",
      "Requirement already satisfied: threadpoolctl>=2.0.0 in /Users/richlegendary/anaconda3/lib/python3.11/site-packages (from scikit_learn) (2.2.0)\r\n"
     ]
    }
   ],
   "source": [
    "!pip install scikit_learn"
   ]
  },
  {
   "cell_type": "code",
   "execution_count": 4,
   "id": "6b4ad801",
   "metadata": {},
   "outputs": [],
   "source": [
    "import numpy as np\n",
    "import pandas as pd\n",
    "from palmerpenguins import load_penguins\n",
    "from sklearn.pipeline import Pipeline\n",
    "from sklearn.compose import make_column_selector, ColumnTransformer\n",
    "from sklearn.preprocessing import StandardScaler, OneHotEncoder, PolynomialFeatures\n",
    "from sklearn.linear_model import LinearRegression, Ridge, Lasso, ElasticNet \n",
    "from sklearn.model_selection import train_test_split, cross_val_score\n",
    "from sklearn.metrics import r2_score\n",
    "from sklearn.model_selection import GridSearchCV"
   ]
  },
  {
   "cell_type": "code",
   "execution_count": 5,
   "id": "0c776ce6",
   "metadata": {},
   "outputs": [],
   "source": [
    "import pandas as pd\n",
    "from sklearn.pipeline import Pipeline\n",
    "from sklearn.neighbors import KNeighborsRegressor\n",
    "from sklearn.tree import DecisionTreeRegressor\n"
   ]
  },
  {
   "cell_type": "markdown",
   "id": "87e33cbe",
   "metadata": {},
   "source": [
    "Palmer Penguins Modeling\n",
    "Import the Palmer Penguins dataset and print out the first few rows.\n",
    "\n",
    "Suppose we want to predict species using the other variables in the dataset.\n",
    "\n",
    "Dummify all variables that require this."
   ]
  },
  {
   "cell_type": "code",
   "execution_count": 6,
   "id": "5979080f",
   "metadata": {
    "scrolled": true
   },
   "outputs": [
    {
     "data": {
      "text/html": [
       "<div>\n",
       "<style scoped>\n",
       "    .dataframe tbody tr th:only-of-type {\n",
       "        vertical-align: middle;\n",
       "    }\n",
       "\n",
       "    .dataframe tbody tr th {\n",
       "        vertical-align: top;\n",
       "    }\n",
       "\n",
       "    .dataframe thead th {\n",
       "        text-align: right;\n",
       "    }\n",
       "</style>\n",
       "<table border=\"1\" class=\"dataframe\">\n",
       "  <thead>\n",
       "    <tr style=\"text-align: right;\">\n",
       "      <th></th>\n",
       "      <th>species</th>\n",
       "      <th>island</th>\n",
       "      <th>bill_length_mm</th>\n",
       "      <th>bill_depth_mm</th>\n",
       "      <th>flipper_length_mm</th>\n",
       "      <th>body_mass_g</th>\n",
       "      <th>sex</th>\n",
       "      <th>year</th>\n",
       "    </tr>\n",
       "  </thead>\n",
       "  <tbody>\n",
       "    <tr>\n",
       "      <th>0</th>\n",
       "      <td>Adelie</td>\n",
       "      <td>Torgersen</td>\n",
       "      <td>39.1</td>\n",
       "      <td>18.7</td>\n",
       "      <td>181.0</td>\n",
       "      <td>3750.0</td>\n",
       "      <td>male</td>\n",
       "      <td>2007</td>\n",
       "    </tr>\n",
       "    <tr>\n",
       "      <th>1</th>\n",
       "      <td>Adelie</td>\n",
       "      <td>Torgersen</td>\n",
       "      <td>39.5</td>\n",
       "      <td>17.4</td>\n",
       "      <td>186.0</td>\n",
       "      <td>3800.0</td>\n",
       "      <td>female</td>\n",
       "      <td>2007</td>\n",
       "    </tr>\n",
       "    <tr>\n",
       "      <th>2</th>\n",
       "      <td>Adelie</td>\n",
       "      <td>Torgersen</td>\n",
       "      <td>40.3</td>\n",
       "      <td>18.0</td>\n",
       "      <td>195.0</td>\n",
       "      <td>3250.0</td>\n",
       "      <td>female</td>\n",
       "      <td>2007</td>\n",
       "    </tr>\n",
       "    <tr>\n",
       "      <th>4</th>\n",
       "      <td>Adelie</td>\n",
       "      <td>Torgersen</td>\n",
       "      <td>36.7</td>\n",
       "      <td>19.3</td>\n",
       "      <td>193.0</td>\n",
       "      <td>3450.0</td>\n",
       "      <td>female</td>\n",
       "      <td>2007</td>\n",
       "    </tr>\n",
       "    <tr>\n",
       "      <th>5</th>\n",
       "      <td>Adelie</td>\n",
       "      <td>Torgersen</td>\n",
       "      <td>39.3</td>\n",
       "      <td>20.6</td>\n",
       "      <td>190.0</td>\n",
       "      <td>3650.0</td>\n",
       "      <td>male</td>\n",
       "      <td>2007</td>\n",
       "    </tr>\n",
       "  </tbody>\n",
       "</table>\n",
       "</div>"
      ],
      "text/plain": [
       "  species     island  bill_length_mm  bill_depth_mm  flipper_length_mm  \\\n",
       "0  Adelie  Torgersen            39.1           18.7              181.0   \n",
       "1  Adelie  Torgersen            39.5           17.4              186.0   \n",
       "2  Adelie  Torgersen            40.3           18.0              195.0   \n",
       "4  Adelie  Torgersen            36.7           19.3              193.0   \n",
       "5  Adelie  Torgersen            39.3           20.6              190.0   \n",
       "\n",
       "   body_mass_g     sex  year  \n",
       "0       3750.0    male  2007  \n",
       "1       3800.0  female  2007  \n",
       "2       3250.0  female  2007  \n",
       "4       3450.0  female  2007  \n",
       "5       3650.0    male  2007  "
      ]
     },
     "execution_count": 6,
     "metadata": {},
     "output_type": "execute_result"
    }
   ],
   "source": [
    "penguins = load_penguins()\n",
    "penguins = penguins.dropna()\n",
    "penguins.head()"
   ]
  },
  {
   "cell_type": "code",
   "execution_count": 13,
   "id": "ff65927e",
   "metadata": {},
   "outputs": [],
   "source": [
    "ct1 = ColumnTransformer(\n",
    "    [(\"dummify_s\", OneHotEncoder(sparse_output = False), ['species']),\n",
    "    (\"dummify_i\", OneHotEncoder(sparse_output = False), ['island']),\n",
    "    (\"dummify_sex\", OneHotEncoder(sparse_output = False), ['sex']),]\n",
    "    ,remainder = \"passthrough\"\n",
    ").set_output(transform = 'pandas')\n",
    "ct2 = ColumnTransformer(\n",
    "  [\n",
    "    (\"standardize\", StandardScaler()\n",
    "     ,['remainder__bill_length_mm','remainder__flipper_length_mm','remainder__body_mass_g'])\n",
    "  ],\n",
    "  remainder = \"passthrough\"\n",
    ")\n"
   ]
  },
  {
   "cell_type": "markdown",
   "id": "1853f9ec",
   "metadata": {},
   "source": [
    "Let's use the other variables to predict bill_depth_mm. Prepare your data and fit the following models on the entire dataset:\n",
    "\n",
    "Your best multiple linear regression model from before\n",
    "Two kNN models (for different values of K)\n",
    "A decision tree model\n",
    "Create a plot like the right plot of Fig 1. in our Model Validation chapter with the training and test error plotted for each of your four models.\n",
    "\n",
    "Which of your models was best?"
   ]
  },
  {
   "cell_type": "code",
   "execution_count": 52,
   "id": "461ca37c",
   "metadata": {},
   "outputs": [],
   "source": [
    "X = penguins.drop([\"bill_depth_mm\"], axis = 1)\n",
    "y = penguins[\"bill_depth_mm\"]"
   ]
  },
  {
   "cell_type": "markdown",
   "id": "7103b135",
   "metadata": {},
   "source": [
    "My first Knn"
   ]
  },
  {
   "cell_type": "code",
   "execution_count": 15,
   "id": "7a74229e",
   "metadata": {},
   "outputs": [],
   "source": [
    "knn_pipeline_1 = Pipeline(\n",
    "  [(\"dummifying\", ct1),\n",
    "   ('standardizing',ct2),\n",
    "  (\"k_nearest_neighbour\", KNeighborsRegressor(5))]\n",
    ")"
   ]
  },
  {
   "cell_type": "code",
   "execution_count": 53,
   "id": "0915ad74",
   "metadata": {},
   "outputs": [],
   "source": [
    "X_train, X_test, y_train, y_test = train_test_split(X, y, test_size=0.25, random_state=42)"
   ]
  },
  {
   "cell_type": "code",
   "execution_count": 17,
   "id": "2dfcb29d",
   "metadata": {},
   "outputs": [],
   "source": [
    "from sklearn.metrics import mean_squared_error"
   ]
  },
  {
   "cell_type": "code",
   "execution_count": 54,
   "id": "5fcf817c",
   "metadata": {},
   "outputs": [
    {
     "data": {
      "text/plain": [
       "0.7992238095238097"
      ]
     },
     "execution_count": 54,
     "metadata": {},
     "output_type": "execute_result"
    }
   ],
   "source": [
    "knn_pipeline_1.fit(X_train, y_train)\n",
    "\n",
    "\n",
    "y_preds_1 = knn_pipeline_1.predict(X_test)\n",
    "fitted_knn_1_pipeline=knn_pipeline_1.fit(X_train,y_train)\n",
    "y_train_1 = fitted_knn_1_pipeline.predict(X_train)\n",
    "mse1 = mean_squared_error(y_test, y_preds_1)\n",
    "mse1"
   ]
  },
  {
   "cell_type": "markdown",
   "id": "53efd9ec",
   "metadata": {},
   "source": [
    "My second Knn"
   ]
  },
  {
   "cell_type": "code",
   "execution_count": 19,
   "id": "1ef75b5d",
   "metadata": {},
   "outputs": [],
   "source": [
    "knn_pipeline_2 = Pipeline(\n",
    "  [(\"dummifying\", ct1),\n",
    "   ('standardizing',ct2),\n",
    "  (\"k_nearest_neighbour\", KNeighborsRegressor(20))]\n",
    ")"
   ]
  },
  {
   "cell_type": "code",
   "execution_count": 55,
   "id": "78fa8f24",
   "metadata": {},
   "outputs": [
    {
     "data": {
      "text/plain": [
       "0.8341499999999998"
      ]
     },
     "execution_count": 55,
     "metadata": {},
     "output_type": "execute_result"
    }
   ],
   "source": [
    "knn_pipeline_2.fit(X_train, y_train)\n",
    "\n",
    "\n",
    "y_preds_2 = knn_pipeline_2.predict(X_test)\n",
    "fitted_knn_2_pipeline=knn_pipeline_2.fit(X_train,y_train)\n",
    "y_train_2 = fitted_knn_2_pipeline.predict(X_train)\n",
    "mse2 = mean_squared_error(y_test, y_preds_2)\n",
    "mse2"
   ]
  },
  {
   "cell_type": "markdown",
   "id": "a15369f9",
   "metadata": {},
   "source": [
    "Decision Tree Model"
   ]
  },
  {
   "cell_type": "code",
   "execution_count": 25,
   "id": "7fd6313c",
   "metadata": {},
   "outputs": [],
   "source": [
    "Decision_tree_pipeline = Pipeline(\n",
    "  [(\"dummifying\", ct1),\n",
    "   ('standardizing',ct2),\n",
    "  (\"decision_tree\", DecisionTreeRegressor())]\n",
    ")"
   ]
  },
  {
   "cell_type": "code",
   "execution_count": 56,
   "id": "f20d819f",
   "metadata": {},
   "outputs": [
    {
     "data": {
      "text/plain": [
       "1.4846428571428576"
      ]
     },
     "execution_count": 56,
     "metadata": {},
     "output_type": "execute_result"
    }
   ],
   "source": [
    "Decision_tree_pipeline.fit(X_train, y_train)\n",
    "\n",
    "\n",
    "y_preds_3 = Decision_tree_pipeline.predict(X_test)\n",
    "fitted_decision_tree_pipeline=Decision_tree_pipeline.fit(X_train,y_train)\n",
    "y_train_3 = fitted_decision_tree_pipeline.predict(X_train)\n",
    "mse3 = mean_squared_error(y_test, y_preds_3)\n",
    "mse3"
   ]
  },
  {
   "cell_type": "markdown",
   "id": "79ecc5b9",
   "metadata": {},
   "source": [
    "Previous best linear"
   ]
  },
  {
   "cell_type": "code",
   "execution_count": 57,
   "id": "2ac38ed4",
   "metadata": {},
   "outputs": [
    {
     "data": {
      "text/plain": [
       "3.8692629859561016"
      ]
     },
     "execution_count": 57,
     "metadata": {},
     "output_type": "execute_result"
    }
   ],
   "source": [
    "x = myData.drop(['bill_depth_mm', 'year','species','island','body_mass_g'], axis=1)\n",
    "\n",
    "\n",
    "x_train, x_test, y_train, y_test = train_test_split(x,y,test_size=0.25)\n",
    "\n",
    "x_train\n",
    "\n",
    "\n",
    "lr = LinearRegression()\n",
    "enc = OneHotEncoder()\n",
    "\n",
    "ct = ColumnTransformer(\n",
    "    [\n",
    "    (\"dummify_sex\", enc, ['sex'])]\n",
    ")\n",
    "\n",
    "my_pipeline = Pipeline(\n",
    "    [('dummify_everything', ct), ('ols', lr)]\n",
    ")\n",
    "\n",
    "\n",
    "fitted_pipeline=my_pipeline.fit(x_train,y_train)\n",
    "fitted_pipeline\n",
    "\n",
    "y_preds_4 = fitted_pipeline.predict(x_test)\n",
    "\n",
    "y_train_4 = fitted_pipeline.predict(x_train)\n",
    "mse4 = mean_squared_error(y_test, y_preds_4)\n",
    "mse4"
   ]
  },
  {
   "cell_type": "markdown",
   "id": "4548560c",
   "metadata": {},
   "source": [
    "KNN with 5 neighbors is my best model out of the four options."
   ]
  },
  {
   "cell_type": "markdown",
   "id": "ba213aaa",
   "metadata": {},
   "source": [
    "Graph"
   ]
  },
  {
   "cell_type": "code",
   "execution_count": 58,
   "id": "6b594a44",
   "metadata": {},
   "outputs": [],
   "source": [
    "msetrain1 = mean_squared_error(y_train, y_train_1)\n",
    "msetrain2 = mean_squared_error(y_train, y_train_2)\n",
    "msetrain3 = mean_squared_error(y_train, y_train_3)\n",
    "msetrain4 = mean_squared_error(y_train, y_train_4)"
   ]
  },
  {
   "cell_type": "code",
   "execution_count": 60,
   "id": "a8ce570d",
   "metadata": {},
   "outputs": [
    {
     "data": {
      "text/html": [
       "<div>\n",
       "<style scoped>\n",
       "    .dataframe tbody tr th:only-of-type {\n",
       "        vertical-align: middle;\n",
       "    }\n",
       "\n",
       "    .dataframe tbody tr th {\n",
       "        vertical-align: top;\n",
       "    }\n",
       "\n",
       "    .dataframe thead th {\n",
       "        text-align: right;\n",
       "    }\n",
       "</style>\n",
       "<table border=\"1\" class=\"dataframe\">\n",
       "  <thead>\n",
       "    <tr style=\"text-align: right;\">\n",
       "      <th></th>\n",
       "      <th>mse</th>\n",
       "      <th>group</th>\n",
       "      <th>predictor</th>\n",
       "    </tr>\n",
       "  </thead>\n",
       "  <tbody>\n",
       "    <tr>\n",
       "      <th>0</th>\n",
       "      <td>0.799224</td>\n",
       "      <td>test</td>\n",
       "      <td>knn(5)</td>\n",
       "    </tr>\n",
       "    <tr>\n",
       "      <th>1</th>\n",
       "      <td>0.834150</td>\n",
       "      <td>test</td>\n",
       "      <td>knn(10)</td>\n",
       "    </tr>\n",
       "    <tr>\n",
       "      <th>2</th>\n",
       "      <td>1.484643</td>\n",
       "      <td>test</td>\n",
       "      <td>decisionTree</td>\n",
       "    </tr>\n",
       "    <tr>\n",
       "      <th>3</th>\n",
       "      <td>3.869263</td>\n",
       "      <td>test</td>\n",
       "      <td>linear</td>\n",
       "    </tr>\n",
       "    <tr>\n",
       "      <th>4</th>\n",
       "      <td>7.348316</td>\n",
       "      <td>train</td>\n",
       "      <td>knn(5)</td>\n",
       "    </tr>\n",
       "    <tr>\n",
       "      <th>5</th>\n",
       "      <td>7.139623</td>\n",
       "      <td>train</td>\n",
       "      <td>knn(10)</td>\n",
       "    </tr>\n",
       "    <tr>\n",
       "      <th>6</th>\n",
       "      <td>7.538474</td>\n",
       "      <td>train</td>\n",
       "      <td>decisionTree</td>\n",
       "    </tr>\n",
       "    <tr>\n",
       "      <th>7</th>\n",
       "      <td>3.173242</td>\n",
       "      <td>train</td>\n",
       "      <td>linear</td>\n",
       "    </tr>\n",
       "  </tbody>\n",
       "</table>\n",
       "</div>"
      ],
      "text/plain": [
       "        mse  group     predictor\n",
       "0  0.799224   test        knn(5)\n",
       "1  0.834150   test       knn(10)\n",
       "2  1.484643   test  decisionTree\n",
       "3  3.869263   test        linear\n",
       "4  7.348316  train        knn(5)\n",
       "5  7.139623  train       knn(10)\n",
       "6  7.538474  train  decisionTree\n",
       "7  3.173242  train        linear"
      ]
     },
     "execution_count": 60,
     "metadata": {},
     "output_type": "execute_result"
    }
   ],
   "source": [
    "from pandas.core.frame import DataFrame\n",
    "df = pd.DataFrame(columns=['mse', 'group', 'predictor'])\n",
    "df['mse'] = [mse1, mse2, mse3, mse4, msetrain1, msetrain2, msetrain3, msetrain4]\n",
    "df['group'] = ['test', 'test', 'test', 'test', 'train', 'train', 'train', 'train']\n",
    "df['predictor'] = ['knn(5)', 'knn(10)', 'decisionTree', 'linear', 'knn(5)', 'knn(10)', 'decisionTree', 'linear']\n",
    "df"
   ]
  },
  {
   "cell_type": "code",
   "execution_count": 62,
   "id": "140aca7a",
   "metadata": {},
   "outputs": [],
   "source": [
    "from plotnine import ggplot, aes, geom_point, geom_bar,scale_y_continuous, geom_line"
   ]
  },
  {
   "cell_type": "code",
   "execution_count": 66,
   "id": "0eaf7ff5",
   "metadata": {},
   "outputs": [
    {
     "data": {
      "image/png": "[encoded data removed]",
      "text/plain": [
       "<Figure size 640x480 with 1 Axes>"
      ]
     },
     "metadata": {
      "image/png": {
       "height": 480,
       "width": 640
      }
     },
     "output_type": "display_data"
    },
    {
     "data": {
      "text/plain": [
       "<Figure Size: (640 x 480)>"
      ]
     },
     "execution_count": 66,
     "metadata": {},
     "output_type": "execute_result"
    }
   ],
   "source": [
    "p = ggplot(df, aes(x='predictor', y='mse', color = 'group'))\n",
    "\n",
    "p += geom_point()\n",
    "\n",
    "\n",
    "\n",
    "p"
   ]
  }
 ],
 "metadata": {
  "kernelspec": {
   "display_name": "Python 3 (ipykernel)",
   "language": "python",
   "name": "python3"
  },
  "language_info": {
   "codemirror_mode": {
    "name": "ipython",
    "version": 3
   },
   "file_extension": ".py",
   "mimetype": "text/x-python",
   "name": "python",
   "nbconvert_exporter": "python",
   "pygments_lexer": "ipython3",
   "version": "3.11.5"
  }
 },
 "nbformat": 4,
 "nbformat_minor": 5
}
