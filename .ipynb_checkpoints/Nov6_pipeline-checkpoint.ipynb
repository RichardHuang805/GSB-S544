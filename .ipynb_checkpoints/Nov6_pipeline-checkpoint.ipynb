{
 "cells": [
  {
   "cell_type": "code",
   "execution_count": 2,
   "id": "34ee4669",
   "metadata": {},
   "outputs": [],
   "source": [
    "import pandas as pd\n",
    "import numpy as np\n",
    "from sklearn.pipeline import Pipeline\n",
    "from sklearn.preprocessing import StandardScaler, OneHotEncoder, PolynomialFeatures\n",
    "from sklearn.linear_model import LinearRegression\n",
    "from sklearn.model_selection import train_test_split\n",
    "from sklearn.metrics import r2_score"
   ]
  },
  {
   "cell_type": "code",
   "execution_count": 3,
   "id": "1b6e0b7e",
   "metadata": {},
   "outputs": [],
   "source": [
    "ames = pd.read_csv(\"/Users/richlegendary/Desktop/GSB-S544/AmesHousing.csv\")"
   ]
  },
  {
   "cell_type": "code",
   "execution_count": 4,
   "id": "1ada5f58",
   "metadata": {},
   "outputs": [
    {
     "data": {
      "text/plain": [
       "array([ 70312.81696396, -15726.68229575])"
      ]
     },
     "execution_count": 4,
     "metadata": {},
     "output_type": "execute_result"
    }
   ],
   "source": [
    "lr = LinearRegression()\n",
    "X = ames[[\"Gr Liv Area\", \"TotRms AbvGrd\"]]\n",
    "y = ames[\"SalePrice\"]\n",
    "\n",
    "\n",
    "\n",
    "X_train, X_test, y_train, y_test = train_test_split(X, y)\n",
    "\n",
    "X_train_s = (X_train - X_train.mean())/X_train.std()\n",
    "\n",
    "lr_fitted = lr.fit(X_train_s, y_train)\n",
    "lr_fitted.coef_\n"
   ]
  },
  {
   "cell_type": "code",
   "execution_count": 5,
   "id": "6b0de16c",
   "metadata": {},
   "outputs": [
    {
     "data": {
      "text/html": [
       "<style>#sk-container-id-1 {color: black;}#sk-container-id-1 pre{padding: 0;}#sk-container-id-1 div.sk-toggleable {background-color: white;}#sk-container-id-1 label.sk-toggleable__label {cursor: pointer;display: block;width: 100%;margin-bottom: 0;padding: 0.3em;box-sizing: border-box;text-align: center;}#sk-container-id-1 label.sk-toggleable__label-arrow:before {content: \"▸\";float: left;margin-right: 0.25em;color: #696969;}#sk-container-id-1 label.sk-toggleable__label-arrow:hover:before {color: black;}#sk-container-id-1 div.sk-estimator:hover label.sk-toggleable__label-arrow:before {color: black;}#sk-container-id-1 div.sk-toggleable__content {max-height: 0;max-width: 0;overflow: hidden;text-align: left;background-color: #f0f8ff;}#sk-container-id-1 div.sk-toggleable__content pre {margin: 0.2em;color: black;border-radius: 0.25em;background-color: #f0f8ff;}#sk-container-id-1 input.sk-toggleable__control:checked~div.sk-toggleable__content {max-height: 200px;max-width: 100%;overflow: auto;}#sk-container-id-1 input.sk-toggleable__control:checked~label.sk-toggleable__label-arrow:before {content: \"▾\";}#sk-container-id-1 div.sk-estimator input.sk-toggleable__control:checked~label.sk-toggleable__label {background-color: #d4ebff;}#sk-container-id-1 div.sk-label input.sk-toggleable__control:checked~label.sk-toggleable__label {background-color: #d4ebff;}#sk-container-id-1 input.sk-hidden--visually {border: 0;clip: rect(1px 1px 1px 1px);clip: rect(1px, 1px, 1px, 1px);height: 1px;margin: -1px;overflow: hidden;padding: 0;position: absolute;width: 1px;}#sk-container-id-1 div.sk-estimator {font-family: monospace;background-color: #f0f8ff;border: 1px dotted black;border-radius: 0.25em;box-sizing: border-box;margin-bottom: 0.5em;}#sk-container-id-1 div.sk-estimator:hover {background-color: #d4ebff;}#sk-container-id-1 div.sk-parallel-item::after {content: \"\";width: 100%;border-bottom: 1px solid gray;flex-grow: 1;}#sk-container-id-1 div.sk-label:hover label.sk-toggleable__label {background-color: #d4ebff;}#sk-container-id-1 div.sk-serial::before {content: \"\";position: absolute;border-left: 1px solid gray;box-sizing: border-box;top: 0;bottom: 0;left: 50%;z-index: 0;}#sk-container-id-1 div.sk-serial {display: flex;flex-direction: column;align-items: center;background-color: white;padding-right: 0.2em;padding-left: 0.2em;position: relative;}#sk-container-id-1 div.sk-item {position: relative;z-index: 1;}#sk-container-id-1 div.sk-parallel {display: flex;align-items: stretch;justify-content: center;background-color: white;position: relative;}#sk-container-id-1 div.sk-item::before, #sk-container-id-1 div.sk-parallel-item::before {content: \"\";position: absolute;border-left: 1px solid gray;box-sizing: border-box;top: 0;bottom: 0;left: 50%;z-index: -1;}#sk-container-id-1 div.sk-parallel-item {display: flex;flex-direction: column;z-index: 1;position: relative;background-color: white;}#sk-container-id-1 div.sk-parallel-item:first-child::after {align-self: flex-end;width: 50%;}#sk-container-id-1 div.sk-parallel-item:last-child::after {align-self: flex-start;width: 50%;}#sk-container-id-1 div.sk-parallel-item:only-child::after {width: 0;}#sk-container-id-1 div.sk-dashed-wrapped {border: 1px dashed gray;margin: 0 0.4em 0.5em 0.4em;box-sizing: border-box;padding-bottom: 0.4em;background-color: white;}#sk-container-id-1 div.sk-label label {font-family: monospace;font-weight: bold;display: inline-block;line-height: 1.2em;}#sk-container-id-1 div.sk-label-container {text-align: center;}#sk-container-id-1 div.sk-container {/* jupyter's `normalize.less` sets `[hidden] { display: none; }` but bootstrap.min.css set `[hidden] { display: none !important; }` so we also need the `!important` here to be able to override the default hidden behavior on the sphinx rendered scikit-learn.org. See: https://github.com/scikit-learn/scikit-learn/issues/21755 */display: inline-block !important;position: relative;}#sk-container-id-1 div.sk-text-repr-fallback {display: none;}</style><div id=\"sk-container-id-1\" class=\"sk-top-container\"><div class=\"sk-text-repr-fallback\"><pre>Pipeline(steps=[StandardScaler(), LinearRegression()])</pre><b>In a Jupyter environment, please rerun this cell to show the HTML representation or trust the notebook. <br />On GitHub, the HTML representation is unable to render, please try loading this page with nbviewer.org.</b></div><div class=\"sk-container\" hidden><div class=\"sk-item\"><div class=\"sk-estimator sk-toggleable\"><input class=\"sk-toggleable__control sk-hidden--visually\" id=\"sk-estimator-id-1\" type=\"checkbox\" checked><label for=\"sk-estimator-id-1\" class=\"sk-toggleable__label sk-toggleable__label-arrow\">Pipeline</label><div class=\"sk-toggleable__content\"><pre>Pipeline(steps=[StandardScaler(), LinearRegression()])</pre></div></div></div></div></div>"
      ],
      "text/plain": [
       "Pipeline(steps=[StandardScaler(), LinearRegression()])"
      ]
     },
     "execution_count": 5,
     "metadata": {},
     "output_type": "execute_result"
    }
   ],
   "source": [
    "lr_pipeline = Pipeline(\n",
    "  [StandardScaler(),\n",
    "  LinearRegression()]\n",
    ")\n",
    "\n",
    "lr_pipeline"
   ]
  },
  {
   "cell_type": "code",
   "execution_count": 6,
   "id": "db9fe142",
   "metadata": {},
   "outputs": [
    {
     "data": {
      "text/html": [
       "<style>#sk-container-id-2 {color: black;}#sk-container-id-2 pre{padding: 0;}#sk-container-id-2 div.sk-toggleable {background-color: white;}#sk-container-id-2 label.sk-toggleable__label {cursor: pointer;display: block;width: 100%;margin-bottom: 0;padding: 0.3em;box-sizing: border-box;text-align: center;}#sk-container-id-2 label.sk-toggleable__label-arrow:before {content: \"▸\";float: left;margin-right: 0.25em;color: #696969;}#sk-container-id-2 label.sk-toggleable__label-arrow:hover:before {color: black;}#sk-container-id-2 div.sk-estimator:hover label.sk-toggleable__label-arrow:before {color: black;}#sk-container-id-2 div.sk-toggleable__content {max-height: 0;max-width: 0;overflow: hidden;text-align: left;background-color: #f0f8ff;}#sk-container-id-2 div.sk-toggleable__content pre {margin: 0.2em;color: black;border-radius: 0.25em;background-color: #f0f8ff;}#sk-container-id-2 input.sk-toggleable__control:checked~div.sk-toggleable__content {max-height: 200px;max-width: 100%;overflow: auto;}#sk-container-id-2 input.sk-toggleable__control:checked~label.sk-toggleable__label-arrow:before {content: \"▾\";}#sk-container-id-2 div.sk-estimator input.sk-toggleable__control:checked~label.sk-toggleable__label {background-color: #d4ebff;}#sk-container-id-2 div.sk-label input.sk-toggleable__control:checked~label.sk-toggleable__label {background-color: #d4ebff;}#sk-container-id-2 input.sk-hidden--visually {border: 0;clip: rect(1px 1px 1px 1px);clip: rect(1px, 1px, 1px, 1px);height: 1px;margin: -1px;overflow: hidden;padding: 0;position: absolute;width: 1px;}#sk-container-id-2 div.sk-estimator {font-family: monospace;background-color: #f0f8ff;border: 1px dotted black;border-radius: 0.25em;box-sizing: border-box;margin-bottom: 0.5em;}#sk-container-id-2 div.sk-estimator:hover {background-color: #d4ebff;}#sk-container-id-2 div.sk-parallel-item::after {content: \"\";width: 100%;border-bottom: 1px solid gray;flex-grow: 1;}#sk-container-id-2 div.sk-label:hover label.sk-toggleable__label {background-color: #d4ebff;}#sk-container-id-2 div.sk-serial::before {content: \"\";position: absolute;border-left: 1px solid gray;box-sizing: border-box;top: 0;bottom: 0;left: 50%;z-index: 0;}#sk-container-id-2 div.sk-serial {display: flex;flex-direction: column;align-items: center;background-color: white;padding-right: 0.2em;padding-left: 0.2em;position: relative;}#sk-container-id-2 div.sk-item {position: relative;z-index: 1;}#sk-container-id-2 div.sk-parallel {display: flex;align-items: stretch;justify-content: center;background-color: white;position: relative;}#sk-container-id-2 div.sk-item::before, #sk-container-id-2 div.sk-parallel-item::before {content: \"\";position: absolute;border-left: 1px solid gray;box-sizing: border-box;top: 0;bottom: 0;left: 50%;z-index: -1;}#sk-container-id-2 div.sk-parallel-item {display: flex;flex-direction: column;z-index: 1;position: relative;background-color: white;}#sk-container-id-2 div.sk-parallel-item:first-child::after {align-self: flex-end;width: 50%;}#sk-container-id-2 div.sk-parallel-item:last-child::after {align-self: flex-start;width: 50%;}#sk-container-id-2 div.sk-parallel-item:only-child::after {width: 0;}#sk-container-id-2 div.sk-dashed-wrapped {border: 1px dashed gray;margin: 0 0.4em 0.5em 0.4em;box-sizing: border-box;padding-bottom: 0.4em;background-color: white;}#sk-container-id-2 div.sk-label label {font-family: monospace;font-weight: bold;display: inline-block;line-height: 1.2em;}#sk-container-id-2 div.sk-label-container {text-align: center;}#sk-container-id-2 div.sk-container {/* jupyter's `normalize.less` sets `[hidden] { display: none; }` but bootstrap.min.css set `[hidden] { display: none !important; }` so we also need the `!important` here to be able to override the default hidden behavior on the sphinx rendered scikit-learn.org. See: https://github.com/scikit-learn/scikit-learn/issues/21755 */display: inline-block !important;position: relative;}#sk-container-id-2 div.sk-text-repr-fallback {display: none;}</style><div id=\"sk-container-id-2\" class=\"sk-top-container\"><div class=\"sk-text-repr-fallback\"><pre>Pipeline(steps=[(&#x27;standardize&#x27;, StandardScaler()),\n",
       "                (&#x27;linear_regression&#x27;, LinearRegression())])</pre><b>In a Jupyter environment, please rerun this cell to show the HTML representation or trust the notebook. <br />On GitHub, the HTML representation is unable to render, please try loading this page with nbviewer.org.</b></div><div class=\"sk-container\" hidden><div class=\"sk-item sk-dashed-wrapped\"><div class=\"sk-label-container\"><div class=\"sk-label sk-toggleable\"><input class=\"sk-toggleable__control sk-hidden--visually\" id=\"sk-estimator-id-2\" type=\"checkbox\" ><label for=\"sk-estimator-id-2\" class=\"sk-toggleable__label sk-toggleable__label-arrow\">Pipeline</label><div class=\"sk-toggleable__content\"><pre>Pipeline(steps=[(&#x27;standardize&#x27;, StandardScaler()),\n",
       "                (&#x27;linear_regression&#x27;, LinearRegression())])</pre></div></div></div><div class=\"sk-serial\"><div class=\"sk-item\"><div class=\"sk-estimator sk-toggleable\"><input class=\"sk-toggleable__control sk-hidden--visually\" id=\"sk-estimator-id-3\" type=\"checkbox\" ><label for=\"sk-estimator-id-3\" class=\"sk-toggleable__label sk-toggleable__label-arrow\">StandardScaler</label><div class=\"sk-toggleable__content\"><pre>StandardScaler()</pre></div></div></div><div class=\"sk-item\"><div class=\"sk-estimator sk-toggleable\"><input class=\"sk-toggleable__control sk-hidden--visually\" id=\"sk-estimator-id-4\" type=\"checkbox\" ><label for=\"sk-estimator-id-4\" class=\"sk-toggleable__label sk-toggleable__label-arrow\">LinearRegression</label><div class=\"sk-toggleable__content\"><pre>LinearRegression()</pre></div></div></div></div></div></div></div>"
      ],
      "text/plain": [
       "Pipeline(steps=[('standardize', StandardScaler()),\n",
       "                ('linear_regression', LinearRegression())])"
      ]
     },
     "execution_count": 6,
     "metadata": {},
     "output_type": "execute_result"
    }
   ],
   "source": [
    "lr_pipeline = Pipeline(\n",
    "  [(\"standardize\", StandardScaler()),\n",
    "  (\"linear_regression\", LinearRegression())]\n",
    ")\n",
    "\n",
    "lr_pipeline"
   ]
  },
  {
   "cell_type": "code",
   "execution_count": 7,
   "id": "725b439c",
   "metadata": {},
   "outputs": [
    {
     "data": {
      "text/html": [
       "<style>#sk-container-id-3 {color: black;}#sk-container-id-3 pre{padding: 0;}#sk-container-id-3 div.sk-toggleable {background-color: white;}#sk-container-id-3 label.sk-toggleable__label {cursor: pointer;display: block;width: 100%;margin-bottom: 0;padding: 0.3em;box-sizing: border-box;text-align: center;}#sk-container-id-3 label.sk-toggleable__label-arrow:before {content: \"▸\";float: left;margin-right: 0.25em;color: #696969;}#sk-container-id-3 label.sk-toggleable__label-arrow:hover:before {color: black;}#sk-container-id-3 div.sk-estimator:hover label.sk-toggleable__label-arrow:before {color: black;}#sk-container-id-3 div.sk-toggleable__content {max-height: 0;max-width: 0;overflow: hidden;text-align: left;background-color: #f0f8ff;}#sk-container-id-3 div.sk-toggleable__content pre {margin: 0.2em;color: black;border-radius: 0.25em;background-color: #f0f8ff;}#sk-container-id-3 input.sk-toggleable__control:checked~div.sk-toggleable__content {max-height: 200px;max-width: 100%;overflow: auto;}#sk-container-id-3 input.sk-toggleable__control:checked~label.sk-toggleable__label-arrow:before {content: \"▾\";}#sk-container-id-3 div.sk-estimator input.sk-toggleable__control:checked~label.sk-toggleable__label {background-color: #d4ebff;}#sk-container-id-3 div.sk-label input.sk-toggleable__control:checked~label.sk-toggleable__label {background-color: #d4ebff;}#sk-container-id-3 input.sk-hidden--visually {border: 0;clip: rect(1px 1px 1px 1px);clip: rect(1px, 1px, 1px, 1px);height: 1px;margin: -1px;overflow: hidden;padding: 0;position: absolute;width: 1px;}#sk-container-id-3 div.sk-estimator {font-family: monospace;background-color: #f0f8ff;border: 1px dotted black;border-radius: 0.25em;box-sizing: border-box;margin-bottom: 0.5em;}#sk-container-id-3 div.sk-estimator:hover {background-color: #d4ebff;}#sk-container-id-3 div.sk-parallel-item::after {content: \"\";width: 100%;border-bottom: 1px solid gray;flex-grow: 1;}#sk-container-id-3 div.sk-label:hover label.sk-toggleable__label {background-color: #d4ebff;}#sk-container-id-3 div.sk-serial::before {content: \"\";position: absolute;border-left: 1px solid gray;box-sizing: border-box;top: 0;bottom: 0;left: 50%;z-index: 0;}#sk-container-id-3 div.sk-serial {display: flex;flex-direction: column;align-items: center;background-color: white;padding-right: 0.2em;padding-left: 0.2em;position: relative;}#sk-container-id-3 div.sk-item {position: relative;z-index: 1;}#sk-container-id-3 div.sk-parallel {display: flex;align-items: stretch;justify-content: center;background-color: white;position: relative;}#sk-container-id-3 div.sk-item::before, #sk-container-id-3 div.sk-parallel-item::before {content: \"\";position: absolute;border-left: 1px solid gray;box-sizing: border-box;top: 0;bottom: 0;left: 50%;z-index: -1;}#sk-container-id-3 div.sk-parallel-item {display: flex;flex-direction: column;z-index: 1;position: relative;background-color: white;}#sk-container-id-3 div.sk-parallel-item:first-child::after {align-self: flex-end;width: 50%;}#sk-container-id-3 div.sk-parallel-item:last-child::after {align-self: flex-start;width: 50%;}#sk-container-id-3 div.sk-parallel-item:only-child::after {width: 0;}#sk-container-id-3 div.sk-dashed-wrapped {border: 1px dashed gray;margin: 0 0.4em 0.5em 0.4em;box-sizing: border-box;padding-bottom: 0.4em;background-color: white;}#sk-container-id-3 div.sk-label label {font-family: monospace;font-weight: bold;display: inline-block;line-height: 1.2em;}#sk-container-id-3 div.sk-label-container {text-align: center;}#sk-container-id-3 div.sk-container {/* jupyter's `normalize.less` sets `[hidden] { display: none; }` but bootstrap.min.css set `[hidden] { display: none !important; }` so we also need the `!important` here to be able to override the default hidden behavior on the sphinx rendered scikit-learn.org. See: https://github.com/scikit-learn/scikit-learn/issues/21755 */display: inline-block !important;position: relative;}#sk-container-id-3 div.sk-text-repr-fallback {display: none;}</style><div id=\"sk-container-id-3\" class=\"sk-top-container\"><div class=\"sk-text-repr-fallback\"><pre>Pipeline(steps=[(&#x27;preprocessing&#x27;,\n",
       "                 ColumnTransformer(transformers=[(&#x27;dummify&#x27;,\n",
       "                                                  OneHotEncoder(sparse_output=False),\n",
       "                                                  [&#x27;Bldg Type&#x27;]),\n",
       "                                                 (&#x27;standardize&#x27;,\n",
       "                                                  StandardScaler(),\n",
       "                                                  [&#x27;Gr Liv Area&#x27;,\n",
       "                                                   &#x27;TotRms AbvGrd&#x27;])])),\n",
       "                (&#x27;linear_regression&#x27;, LinearRegression())])</pre><b>In a Jupyter environment, please rerun this cell to show the HTML representation or trust the notebook. <br />On GitHub, the HTML representation is unable to render, please try loading this page with nbviewer.org.</b></div><div class=\"sk-container\" hidden><div class=\"sk-item sk-dashed-wrapped\"><div class=\"sk-label-container\"><div class=\"sk-label sk-toggleable\"><input class=\"sk-toggleable__control sk-hidden--visually\" id=\"sk-estimator-id-5\" type=\"checkbox\" ><label for=\"sk-estimator-id-5\" class=\"sk-toggleable__label sk-toggleable__label-arrow\">Pipeline</label><div class=\"sk-toggleable__content\"><pre>Pipeline(steps=[(&#x27;preprocessing&#x27;,\n",
       "                 ColumnTransformer(transformers=[(&#x27;dummify&#x27;,\n",
       "                                                  OneHotEncoder(sparse_output=False),\n",
       "                                                  [&#x27;Bldg Type&#x27;]),\n",
       "                                                 (&#x27;standardize&#x27;,\n",
       "                                                  StandardScaler(),\n",
       "                                                  [&#x27;Gr Liv Area&#x27;,\n",
       "                                                   &#x27;TotRms AbvGrd&#x27;])])),\n",
       "                (&#x27;linear_regression&#x27;, LinearRegression())])</pre></div></div></div><div class=\"sk-serial\"><div class=\"sk-item sk-dashed-wrapped\"><div class=\"sk-label-container\"><div class=\"sk-label sk-toggleable\"><input class=\"sk-toggleable__control sk-hidden--visually\" id=\"sk-estimator-id-6\" type=\"checkbox\" ><label for=\"sk-estimator-id-6\" class=\"sk-toggleable__label sk-toggleable__label-arrow\">preprocessing: ColumnTransformer</label><div class=\"sk-toggleable__content\"><pre>ColumnTransformer(transformers=[(&#x27;dummify&#x27;, OneHotEncoder(sparse_output=False),\n",
       "                                 [&#x27;Bldg Type&#x27;]),\n",
       "                                (&#x27;standardize&#x27;, StandardScaler(),\n",
       "                                 [&#x27;Gr Liv Area&#x27;, &#x27;TotRms AbvGrd&#x27;])])</pre></div></div></div><div class=\"sk-parallel\"><div class=\"sk-parallel-item\"><div class=\"sk-item\"><div class=\"sk-label-container\"><div class=\"sk-label sk-toggleable\"><input class=\"sk-toggleable__control sk-hidden--visually\" id=\"sk-estimator-id-7\" type=\"checkbox\" ><label for=\"sk-estimator-id-7\" class=\"sk-toggleable__label sk-toggleable__label-arrow\">dummify</label><div class=\"sk-toggleable__content\"><pre>[&#x27;Bldg Type&#x27;]</pre></div></div></div><div class=\"sk-serial\"><div class=\"sk-item\"><div class=\"sk-estimator sk-toggleable\"><input class=\"sk-toggleable__control sk-hidden--visually\" id=\"sk-estimator-id-8\" type=\"checkbox\" ><label for=\"sk-estimator-id-8\" class=\"sk-toggleable__label sk-toggleable__label-arrow\">OneHotEncoder</label><div class=\"sk-toggleable__content\"><pre>OneHotEncoder(sparse_output=False)</pre></div></div></div></div></div></div><div class=\"sk-parallel-item\"><div class=\"sk-item\"><div class=\"sk-label-container\"><div class=\"sk-label sk-toggleable\"><input class=\"sk-toggleable__control sk-hidden--visually\" id=\"sk-estimator-id-9\" type=\"checkbox\" ><label for=\"sk-estimator-id-9\" class=\"sk-toggleable__label sk-toggleable__label-arrow\">standardize</label><div class=\"sk-toggleable__content\"><pre>[&#x27;Gr Liv Area&#x27;, &#x27;TotRms AbvGrd&#x27;]</pre></div></div></div><div class=\"sk-serial\"><div class=\"sk-item\"><div class=\"sk-estimator sk-toggleable\"><input class=\"sk-toggleable__control sk-hidden--visually\" id=\"sk-estimator-id-10\" type=\"checkbox\" ><label for=\"sk-estimator-id-10\" class=\"sk-toggleable__label sk-toggleable__label-arrow\">StandardScaler</label><div class=\"sk-toggleable__content\"><pre>StandardScaler()</pre></div></div></div></div></div></div></div></div><div class=\"sk-item\"><div class=\"sk-estimator sk-toggleable\"><input class=\"sk-toggleable__control sk-hidden--visually\" id=\"sk-estimator-id-11\" type=\"checkbox\" ><label for=\"sk-estimator-id-11\" class=\"sk-toggleable__label sk-toggleable__label-arrow\">LinearRegression</label><div class=\"sk-toggleable__content\"><pre>LinearRegression()</pre></div></div></div></div></div></div></div>"
      ],
      "text/plain": [
       "Pipeline(steps=[('preprocessing',\n",
       "                 ColumnTransformer(transformers=[('dummify',\n",
       "                                                  OneHotEncoder(sparse_output=False),\n",
       "                                                  ['Bldg Type']),\n",
       "                                                 ('standardize',\n",
       "                                                  StandardScaler(),\n",
       "                                                  ['Gr Liv Area',\n",
       "                                                   'TotRms AbvGrd'])])),\n",
       "                ('linear_regression', LinearRegression())])"
      ]
     },
     "execution_count": 7,
     "metadata": {},
     "output_type": "execute_result"
    }
   ],
   "source": [
    "from sklearn.compose import ColumnTransformer\n",
    "\n",
    "ct = ColumnTransformer(\n",
    "  [\n",
    "    (\"dummify\", OneHotEncoder(sparse_output = False), [\"Bldg Type\"]),\n",
    "    (\"standardize\", StandardScaler(), [\"Gr Liv Area\", \"TotRms AbvGrd\"])\n",
    "  ],\n",
    "  remainder = \"drop\"\n",
    ")\n",
    "\n",
    "\n",
    "lr_pipeline = Pipeline(\n",
    "  [(\"preprocessing\", ct),\n",
    "  (\"linear_regression\", LinearRegression())]\n",
    ")\n",
    "\n",
    "lr_pipeline"
   ]
  },
  {
   "cell_type": "markdown",
   "id": "939b7cea",
   "metadata": {},
   "source": [
    "Practice Activity"
   ]
  },
  {
   "cell_type": "markdown",
   "id": "ff64ebe6",
   "metadata": {},
   "source": [
    "Consider four possible models for predicting house prices:\n",
    "\n",
    "Using only the size and number of rooms.\n",
    "Using size, number of rooms, and building type.\n",
    "Using size and building type, and their interaction.\n",
    "Using a 5-degree polynomial on size, a 5-degree polynomial on number of rooms, and also building type.\n",
    "Set up a pipeline for each of these four models.\n",
    "\n",
    "Then, get predictions on the test set for each of your pipelines, and compute the root mean squared error. Which model performed best?\n",
    "\n",
    "Note: You should only use the function train_test_split() one time in your code; that is, we should be predicting on the same test set for all three models."
   ]
  },
  {
   "cell_type": "markdown",
   "id": "8feae493",
   "metadata": {},
   "source": [
    "1. Using only the size and number of rooms."
   ]
  },
  {
   "cell_type": "code",
   "execution_count": 8,
   "id": "0ef6a469",
   "metadata": {},
   "outputs": [],
   "source": [
    "X = ames.drop(\"SalePrice\", axis = 1)\n",
    "y = ames[\"SalePrice\"]\n",
    "\n",
    "\n",
    "\n",
    "X_train, X_test, y_train, y_test = train_test_split(X, y)"
   ]
  },
  {
   "cell_type": "code",
   "execution_count": 9,
   "id": "2ab1e7be",
   "metadata": {},
   "outputs": [],
   "source": [
    "from sklearn.compose import ColumnTransformer\n",
    "\n",
    "ct = ColumnTransformer(\n",
    "  [\n",
    "    (\"standardize\", StandardScaler(), [\"Gr Liv Area\", \"TotRms AbvGrd\"])\n",
    "  ],\n",
    "  remainder = \"drop\"\n",
    ")\n",
    "\n",
    "\n",
    "lr_pipeline_1 = Pipeline(\n",
    "  [(\"preprocessing\", ct),\n",
    "  (\"linear_regression\", LinearRegression())]\n",
    ")\n",
    "lr_fitted = lr_pipeline_1.fit(X_train, y_train)"
   ]
  },
  {
   "cell_type": "code",
   "execution_count": 11,
   "id": "2d2efe29",
   "metadata": {},
   "outputs": [],
   "source": [
    "from sklearn.metrics import mean_squared_error"
   ]
  },
  {
   "cell_type": "code",
   "execution_count": 12,
   "id": "219aae8a",
   "metadata": {
    "scrolled": true
   },
   "outputs": [
    {
     "data": {
      "text/plain": [
       "3412844753.55724"
      ]
     },
     "execution_count": 12,
     "metadata": {},
     "output_type": "execute_result"
    }
   ],
   "source": [
    "y_pred_1 = lr_fitted.predict(X_test)\n",
    "mse1 = mean_squared_error(y_test, y_pred_1)\n",
    "mse1"
   ]
  },
  {
   "cell_type": "markdown",
   "id": "d225f8d7",
   "metadata": {},
   "source": [
    "2. Using size, number of rooms, and building type."
   ]
  },
  {
   "cell_type": "code",
   "execution_count": 13,
   "id": "5d5aac3e",
   "metadata": {},
   "outputs": [
    {
     "data": {
      "text/plain": [
       "3201532997.1364255"
      ]
     },
     "execution_count": 13,
     "metadata": {},
     "output_type": "execute_result"
    }
   ],
   "source": [
    "ct = ColumnTransformer(\n",
    "  [\n",
    "    (\"dummify\", OneHotEncoder(sparse_output = False), [\"Bldg Type\"]),\n",
    "    (\"standardize\", StandardScaler(), [\"Gr Liv Area\", \"TotRms AbvGrd\"])\n",
    "  ],\n",
    "  remainder = \"drop\"\n",
    ")\n",
    "\n",
    "\n",
    "lr_pipeline_2 = Pipeline(\n",
    "  [(\"preprocessing\", ct),\n",
    "  (\"linear_regression\", LinearRegression())]\n",
    ")\n",
    "\n",
    "lr_fitted = lr_pipeline_2.fit(X_train, y_train)\n",
    "\n",
    "y_pred_2 = lr_fitted.predict(X_test)\n",
    "mse2 = mean_squared_error(y_test, y_pred_2)\n",
    "mse2"
   ]
  },
  {
   "cell_type": "markdown",
   "id": "0ec86ddb",
   "metadata": {},
   "source": [
    "3. Using size and building type, and their interaction."
   ]
  },
  {
   "cell_type": "code",
   "execution_count": 18,
   "id": "1b559a30",
   "metadata": {},
   "outputs": [
    {
     "data": {
      "text/plain": [
       "array(['1Fam', 'TwnhsE', 'Twnhs', 'Duplex', '2fmCon'], dtype=object)"
      ]
     },
     "execution_count": 18,
     "metadata": {},
     "output_type": "execute_result"
    }
   ],
   "source": [
    "X[\"Bldg Type\"].unique()"
   ]
  },
  {
   "cell_type": "markdown",
   "id": "cca28017",
   "metadata": {},
   "source": [
    "we just need to include four of the five building type in our model, because one of them will be the reference level."
   ]
  },
  {
   "cell_type": "code",
   "execution_count": 19,
   "id": "0775a37e",
   "metadata": {
    "scrolled": true
   },
   "outputs": [
    {
     "data": {
      "text/html": [
       "<div>\n",
       "<style scoped>\n",
       "    .dataframe tbody tr th:only-of-type {\n",
       "        vertical-align: middle;\n",
       "    }\n",
       "\n",
       "    .dataframe tbody tr th {\n",
       "        vertical-align: top;\n",
       "    }\n",
       "\n",
       "    .dataframe thead th {\n",
       "        text-align: right;\n",
       "    }\n",
       "</style>\n",
       "<table border=\"1\" class=\"dataframe\">\n",
       "  <thead>\n",
       "    <tr style=\"text-align: right;\">\n",
       "      <th></th>\n",
       "      <th>interaction__1</th>\n",
       "      <th>interaction__remainder__Gr Liv Area</th>\n",
       "      <th>interaction__dummify__Bldg Type_1Fam</th>\n",
       "      <th>interaction__dummify__Bldg Type_TwnhsE</th>\n",
       "      <th>interaction__dummify__Bldg Type_Twnhs</th>\n",
       "      <th>interaction__dummify__Bldg Type_Duplex</th>\n",
       "      <th>interaction__remainder__Gr Liv Area dummify__Bldg Type_1Fam</th>\n",
       "      <th>interaction__remainder__Gr Liv Area dummify__Bldg Type_TwnhsE</th>\n",
       "      <th>interaction__remainder__Gr Liv Area dummify__Bldg Type_Twnhs</th>\n",
       "      <th>interaction__remainder__Gr Liv Area dummify__Bldg Type_Duplex</th>\n",
       "      <th>interaction__dummify__Bldg Type_1Fam dummify__Bldg Type_TwnhsE</th>\n",
       "      <th>interaction__dummify__Bldg Type_1Fam dummify__Bldg Type_Twnhs</th>\n",
       "      <th>interaction__dummify__Bldg Type_1Fam dummify__Bldg Type_Duplex</th>\n",
       "      <th>interaction__dummify__Bldg Type_TwnhsE dummify__Bldg Type_Twnhs</th>\n",
       "      <th>interaction__dummify__Bldg Type_TwnhsE dummify__Bldg Type_Duplex</th>\n",
       "      <th>interaction__dummify__Bldg Type_Twnhs dummify__Bldg Type_Duplex</th>\n",
       "    </tr>\n",
       "  </thead>\n",
       "  <tbody>\n",
       "    <tr>\n",
       "      <th>1161</th>\n",
       "      <td>1.0</td>\n",
       "      <td>1245.0</td>\n",
       "      <td>0.0</td>\n",
       "      <td>1.0</td>\n",
       "      <td>0.0</td>\n",
       "      <td>0.0</td>\n",
       "      <td>0.0</td>\n",
       "      <td>1245.0</td>\n",
       "      <td>0.0</td>\n",
       "      <td>0.0</td>\n",
       "      <td>0.0</td>\n",
       "      <td>0.0</td>\n",
       "      <td>0.0</td>\n",
       "      <td>0.0</td>\n",
       "      <td>0.0</td>\n",
       "      <td>0.0</td>\n",
       "    </tr>\n",
       "    <tr>\n",
       "      <th>2773</th>\n",
       "      <td>1.0</td>\n",
       "      <td>1525.0</td>\n",
       "      <td>1.0</td>\n",
       "      <td>0.0</td>\n",
       "      <td>0.0</td>\n",
       "      <td>0.0</td>\n",
       "      <td>1525.0</td>\n",
       "      <td>0.0</td>\n",
       "      <td>0.0</td>\n",
       "      <td>0.0</td>\n",
       "      <td>0.0</td>\n",
       "      <td>0.0</td>\n",
       "      <td>0.0</td>\n",
       "      <td>0.0</td>\n",
       "      <td>0.0</td>\n",
       "      <td>0.0</td>\n",
       "    </tr>\n",
       "    <tr>\n",
       "      <th>1834</th>\n",
       "      <td>1.0</td>\n",
       "      <td>1378.0</td>\n",
       "      <td>0.0</td>\n",
       "      <td>1.0</td>\n",
       "      <td>0.0</td>\n",
       "      <td>0.0</td>\n",
       "      <td>0.0</td>\n",
       "      <td>1378.0</td>\n",
       "      <td>0.0</td>\n",
       "      <td>0.0</td>\n",
       "      <td>0.0</td>\n",
       "      <td>0.0</td>\n",
       "      <td>0.0</td>\n",
       "      <td>0.0</td>\n",
       "      <td>0.0</td>\n",
       "      <td>0.0</td>\n",
       "    </tr>\n",
       "    <tr>\n",
       "      <th>2100</th>\n",
       "      <td>1.0</td>\n",
       "      <td>1494.0</td>\n",
       "      <td>1.0</td>\n",
       "      <td>0.0</td>\n",
       "      <td>0.0</td>\n",
       "      <td>0.0</td>\n",
       "      <td>1494.0</td>\n",
       "      <td>0.0</td>\n",
       "      <td>0.0</td>\n",
       "      <td>0.0</td>\n",
       "      <td>0.0</td>\n",
       "      <td>0.0</td>\n",
       "      <td>0.0</td>\n",
       "      <td>0.0</td>\n",
       "      <td>0.0</td>\n",
       "      <td>0.0</td>\n",
       "    </tr>\n",
       "    <tr>\n",
       "      <th>552</th>\n",
       "      <td>1.0</td>\n",
       "      <td>841.0</td>\n",
       "      <td>1.0</td>\n",
       "      <td>0.0</td>\n",
       "      <td>0.0</td>\n",
       "      <td>0.0</td>\n",
       "      <td>841.0</td>\n",
       "      <td>0.0</td>\n",
       "      <td>0.0</td>\n",
       "      <td>0.0</td>\n",
       "      <td>0.0</td>\n",
       "      <td>0.0</td>\n",
       "      <td>0.0</td>\n",
       "      <td>0.0</td>\n",
       "      <td>0.0</td>\n",
       "      <td>0.0</td>\n",
       "    </tr>\n",
       "    <tr>\n",
       "      <th>...</th>\n",
       "      <td>...</td>\n",
       "      <td>...</td>\n",
       "      <td>...</td>\n",
       "      <td>...</td>\n",
       "      <td>...</td>\n",
       "      <td>...</td>\n",
       "      <td>...</td>\n",
       "      <td>...</td>\n",
       "      <td>...</td>\n",
       "      <td>...</td>\n",
       "      <td>...</td>\n",
       "      <td>...</td>\n",
       "      <td>...</td>\n",
       "      <td>...</td>\n",
       "      <td>...</td>\n",
       "      <td>...</td>\n",
       "    </tr>\n",
       "    <tr>\n",
       "      <th>1665</th>\n",
       "      <td>1.0</td>\n",
       "      <td>1422.0</td>\n",
       "      <td>1.0</td>\n",
       "      <td>0.0</td>\n",
       "      <td>0.0</td>\n",
       "      <td>0.0</td>\n",
       "      <td>1422.0</td>\n",
       "      <td>0.0</td>\n",
       "      <td>0.0</td>\n",
       "      <td>0.0</td>\n",
       "      <td>0.0</td>\n",
       "      <td>0.0</td>\n",
       "      <td>0.0</td>\n",
       "      <td>0.0</td>\n",
       "      <td>0.0</td>\n",
       "      <td>0.0</td>\n",
       "    </tr>\n",
       "    <tr>\n",
       "      <th>1648</th>\n",
       "      <td>1.0</td>\n",
       "      <td>1930.0</td>\n",
       "      <td>1.0</td>\n",
       "      <td>0.0</td>\n",
       "      <td>0.0</td>\n",
       "      <td>0.0</td>\n",
       "      <td>1930.0</td>\n",
       "      <td>0.0</td>\n",
       "      <td>0.0</td>\n",
       "      <td>0.0</td>\n",
       "      <td>0.0</td>\n",
       "      <td>0.0</td>\n",
       "      <td>0.0</td>\n",
       "      <td>0.0</td>\n",
       "      <td>0.0</td>\n",
       "      <td>0.0</td>\n",
       "    </tr>\n",
       "    <tr>\n",
       "      <th>700</th>\n",
       "      <td>1.0</td>\n",
       "      <td>1701.0</td>\n",
       "      <td>0.0</td>\n",
       "      <td>0.0</td>\n",
       "      <td>0.0</td>\n",
       "      <td>0.0</td>\n",
       "      <td>0.0</td>\n",
       "      <td>0.0</td>\n",
       "      <td>0.0</td>\n",
       "      <td>0.0</td>\n",
       "      <td>0.0</td>\n",
       "      <td>0.0</td>\n",
       "      <td>0.0</td>\n",
       "      <td>0.0</td>\n",
       "      <td>0.0</td>\n",
       "      <td>0.0</td>\n",
       "    </tr>\n",
       "    <tr>\n",
       "      <th>894</th>\n",
       "      <td>1.0</td>\n",
       "      <td>876.0</td>\n",
       "      <td>1.0</td>\n",
       "      <td>0.0</td>\n",
       "      <td>0.0</td>\n",
       "      <td>0.0</td>\n",
       "      <td>876.0</td>\n",
       "      <td>0.0</td>\n",
       "      <td>0.0</td>\n",
       "      <td>0.0</td>\n",
       "      <td>0.0</td>\n",
       "      <td>0.0</td>\n",
       "      <td>0.0</td>\n",
       "      <td>0.0</td>\n",
       "      <td>0.0</td>\n",
       "      <td>0.0</td>\n",
       "    </tr>\n",
       "    <tr>\n",
       "      <th>2133</th>\n",
       "      <td>1.0</td>\n",
       "      <td>1668.0</td>\n",
       "      <td>1.0</td>\n",
       "      <td>0.0</td>\n",
       "      <td>0.0</td>\n",
       "      <td>0.0</td>\n",
       "      <td>1668.0</td>\n",
       "      <td>0.0</td>\n",
       "      <td>0.0</td>\n",
       "      <td>0.0</td>\n",
       "      <td>0.0</td>\n",
       "      <td>0.0</td>\n",
       "      <td>0.0</td>\n",
       "      <td>0.0</td>\n",
       "      <td>0.0</td>\n",
       "      <td>0.0</td>\n",
       "    </tr>\n",
       "  </tbody>\n",
       "</table>\n",
       "<p>2197 rows × 16 columns</p>\n",
       "</div>"
      ],
      "text/plain": [
       "      interaction__1  interaction__remainder__Gr Liv Area  \\\n",
       "1161             1.0                               1245.0   \n",
       "2773             1.0                               1525.0   \n",
       "1834             1.0                               1378.0   \n",
       "2100             1.0                               1494.0   \n",
       "552              1.0                                841.0   \n",
       "...              ...                                  ...   \n",
       "1665             1.0                               1422.0   \n",
       "1648             1.0                               1930.0   \n",
       "700              1.0                               1701.0   \n",
       "894              1.0                                876.0   \n",
       "2133             1.0                               1668.0   \n",
       "\n",
       "      interaction__dummify__Bldg Type_1Fam  \\\n",
       "1161                                   0.0   \n",
       "2773                                   1.0   \n",
       "1834                                   0.0   \n",
       "2100                                   1.0   \n",
       "552                                    1.0   \n",
       "...                                    ...   \n",
       "1665                                   1.0   \n",
       "1648                                   1.0   \n",
       "700                                    0.0   \n",
       "894                                    1.0   \n",
       "2133                                   1.0   \n",
       "\n",
       "      interaction__dummify__Bldg Type_TwnhsE  \\\n",
       "1161                                     1.0   \n",
       "2773                                     0.0   \n",
       "1834                                     1.0   \n",
       "2100                                     0.0   \n",
       "552                                      0.0   \n",
       "...                                      ...   \n",
       "1665                                     0.0   \n",
       "1648                                     0.0   \n",
       "700                                      0.0   \n",
       "894                                      0.0   \n",
       "2133                                     0.0   \n",
       "\n",
       "      interaction__dummify__Bldg Type_Twnhs  \\\n",
       "1161                                    0.0   \n",
       "2773                                    0.0   \n",
       "1834                                    0.0   \n",
       "2100                                    0.0   \n",
       "552                                     0.0   \n",
       "...                                     ...   \n",
       "1665                                    0.0   \n",
       "1648                                    0.0   \n",
       "700                                     0.0   \n",
       "894                                     0.0   \n",
       "2133                                    0.0   \n",
       "\n",
       "      interaction__dummify__Bldg Type_Duplex  \\\n",
       "1161                                     0.0   \n",
       "2773                                     0.0   \n",
       "1834                                     0.0   \n",
       "2100                                     0.0   \n",
       "552                                      0.0   \n",
       "...                                      ...   \n",
       "1665                                     0.0   \n",
       "1648                                     0.0   \n",
       "700                                      0.0   \n",
       "894                                      0.0   \n",
       "2133                                     0.0   \n",
       "\n",
       "      interaction__remainder__Gr Liv Area dummify__Bldg Type_1Fam  \\\n",
       "1161                                                0.0             \n",
       "2773                                             1525.0             \n",
       "1834                                                0.0             \n",
       "2100                                             1494.0             \n",
       "552                                               841.0             \n",
       "...                                                 ...             \n",
       "1665                                             1422.0             \n",
       "1648                                             1930.0             \n",
       "700                                                 0.0             \n",
       "894                                               876.0             \n",
       "2133                                             1668.0             \n",
       "\n",
       "      interaction__remainder__Gr Liv Area dummify__Bldg Type_TwnhsE  \\\n",
       "1161                                             1245.0               \n",
       "2773                                                0.0               \n",
       "1834                                             1378.0               \n",
       "2100                                                0.0               \n",
       "552                                                 0.0               \n",
       "...                                                 ...               \n",
       "1665                                                0.0               \n",
       "1648                                                0.0               \n",
       "700                                                 0.0               \n",
       "894                                                 0.0               \n",
       "2133                                                0.0               \n",
       "\n",
       "      interaction__remainder__Gr Liv Area dummify__Bldg Type_Twnhs  \\\n",
       "1161                                                0.0              \n",
       "2773                                                0.0              \n",
       "1834                                                0.0              \n",
       "2100                                                0.0              \n",
       "552                                                 0.0              \n",
       "...                                                 ...              \n",
       "1665                                                0.0              \n",
       "1648                                                0.0              \n",
       "700                                                 0.0              \n",
       "894                                                 0.0              \n",
       "2133                                                0.0              \n",
       "\n",
       "      interaction__remainder__Gr Liv Area dummify__Bldg Type_Duplex  \\\n",
       "1161                                                0.0               \n",
       "2773                                                0.0               \n",
       "1834                                                0.0               \n",
       "2100                                                0.0               \n",
       "552                                                 0.0               \n",
       "...                                                 ...               \n",
       "1665                                                0.0               \n",
       "1648                                                0.0               \n",
       "700                                                 0.0               \n",
       "894                                                 0.0               \n",
       "2133                                                0.0               \n",
       "\n",
       "      interaction__dummify__Bldg Type_1Fam dummify__Bldg Type_TwnhsE  \\\n",
       "1161                                                0.0                \n",
       "2773                                                0.0                \n",
       "1834                                                0.0                \n",
       "2100                                                0.0                \n",
       "552                                                 0.0                \n",
       "...                                                 ...                \n",
       "1665                                                0.0                \n",
       "1648                                                0.0                \n",
       "700                                                 0.0                \n",
       "894                                                 0.0                \n",
       "2133                                                0.0                \n",
       "\n",
       "      interaction__dummify__Bldg Type_1Fam dummify__Bldg Type_Twnhs  \\\n",
       "1161                                                0.0               \n",
       "2773                                                0.0               \n",
       "1834                                                0.0               \n",
       "2100                                                0.0               \n",
       "552                                                 0.0               \n",
       "...                                                 ...               \n",
       "1665                                                0.0               \n",
       "1648                                                0.0               \n",
       "700                                                 0.0               \n",
       "894                                                 0.0               \n",
       "2133                                                0.0               \n",
       "\n",
       "      interaction__dummify__Bldg Type_1Fam dummify__Bldg Type_Duplex  \\\n",
       "1161                                                0.0                \n",
       "2773                                                0.0                \n",
       "1834                                                0.0                \n",
       "2100                                                0.0                \n",
       "552                                                 0.0                \n",
       "...                                                 ...                \n",
       "1665                                                0.0                \n",
       "1648                                                0.0                \n",
       "700                                                 0.0                \n",
       "894                                                 0.0                \n",
       "2133                                                0.0                \n",
       "\n",
       "      interaction__dummify__Bldg Type_TwnhsE dummify__Bldg Type_Twnhs  \\\n",
       "1161                                                0.0                 \n",
       "2773                                                0.0                 \n",
       "1834                                                0.0                 \n",
       "2100                                                0.0                 \n",
       "552                                                 0.0                 \n",
       "...                                                 ...                 \n",
       "1665                                                0.0                 \n",
       "1648                                                0.0                 \n",
       "700                                                 0.0                 \n",
       "894                                                 0.0                 \n",
       "2133                                                0.0                 \n",
       "\n",
       "      interaction__dummify__Bldg Type_TwnhsE dummify__Bldg Type_Duplex  \\\n",
       "1161                                                0.0                  \n",
       "2773                                                0.0                  \n",
       "1834                                                0.0                  \n",
       "2100                                                0.0                  \n",
       "552                                                 0.0                  \n",
       "...                                                 ...                  \n",
       "1665                                                0.0                  \n",
       "1648                                                0.0                  \n",
       "700                                                 0.0                  \n",
       "894                                                 0.0                  \n",
       "2133                                                0.0                  \n",
       "\n",
       "      interaction__dummify__Bldg Type_Twnhs dummify__Bldg Type_Duplex  \n",
       "1161                                                0.0                \n",
       "2773                                                0.0                \n",
       "1834                                                0.0                \n",
       "2100                                                0.0                \n",
       "552                                                 0.0                \n",
       "...                                                 ...                \n",
       "1665                                                0.0                \n",
       "1648                                                0.0                \n",
       "700                                                 0.0                \n",
       "894                                                 0.0                \n",
       "2133                                                0.0                \n",
       "\n",
       "[2197 rows x 16 columns]"
      ]
     },
     "execution_count": 19,
     "metadata": {},
     "output_type": "execute_result"
    }
   ],
   "source": [
    "ct_dummies = ColumnTransformer(\n",
    "  [(\"dummify\", OneHotEncoder(sparse_output = False), [\"Bldg Type\"])],\n",
    "  remainder = \"passthrough\"\n",
    ").set_output(transform = \"pandas\")\n",
    "\n",
    "ct_inter = ColumnTransformer(\n",
    "  [\n",
    "    (\"interaction\", PolynomialFeatures(interaction_only = True), [\"remainder__Gr Liv Area\", \"dummify__Bldg Type_1Fam\",\"dummify__Bldg Type_TwnhsE\",\"dummify__Bldg Type_Twnhs\",\"dummify__Bldg Type_Duplex\"]),\n",
    "  ],\n",
    "  remainder = \"drop\"\n",
    ").set_output(transform = \"pandas\")\n",
    "\n",
    "X_train_dummified = ct_dummies.fit_transform(X_train)\n",
    "X_train_dummified\n",
    "ct_inter.fit_transform(X_train_dummified)"
   ]
  },
  {
   "cell_type": "code",
   "execution_count": 20,
   "id": "d887f686",
   "metadata": {},
   "outputs": [
    {
     "data": {
      "text/plain": [
       "3078821771.794034"
      ]
     },
     "execution_count": 20,
     "metadata": {},
     "output_type": "execute_result"
    }
   ],
   "source": [
    "lr_pipeline_3 = Pipeline(\n",
    "  [(\"dummies\", ct_dummies),\n",
    "   (\"preprocessing\", ct_inter),\n",
    "  (\"linear_regression\", LinearRegression())]\n",
    ")\n",
    "\n",
    "lr_fitted = lr_pipeline_3.fit(X_train, y_train)\n",
    "\n",
    "\n",
    "y_pred_3 = lr_fitted.predict(X_test)\n",
    "mse3 = mean_squared_error(y_test, y_pred_3)\n",
    "mse3"
   ]
  },
  {
   "cell_type": "markdown",
   "id": "15c2773c",
   "metadata": {},
   "source": [
    "4. Using a 5-degree polynomial on size, a 5-degree polynomial on number of rooms, and also building type. "
   ]
  },
  {
   "cell_type": "code",
   "execution_count": 22,
   "id": "aede510c",
   "metadata": {},
   "outputs": [],
   "source": [
    "ct_dummies = ColumnTransformer(\n",
    "  [(\"dummify\", OneHotEncoder(sparse_output = False), [\"Bldg Type\"])],\n",
    "  remainder = \"passthrough\"\n",
    ").set_output(transform = \"pandas\")"
   ]
  },
  {
   "cell_type": "code",
   "execution_count": 23,
   "id": "1449f66f",
   "metadata": {},
   "outputs": [],
   "source": [
    "ct_5degree = ColumnTransformer(\n",
    "    [('5 degree', PolynomialFeatures(degree = 5, include_bias = False), ['remainder__Gr Liv Area','remainder__TotRms AbvGrd']),\n",
    "    ],\n",
    "     remainder = 'drop').set_output(transform = \"pandas\")"
   ]
  },
  {
   "cell_type": "code",
   "execution_count": 24,
   "id": "b8c07cc9",
   "metadata": {},
   "outputs": [
    {
     "data": {
      "text/plain": [
       "6695077577.554809"
      ]
     },
     "execution_count": 24,
     "metadata": {},
     "output_type": "execute_result"
    }
   ],
   "source": [
    "lr_pipeline_4 = Pipeline(\n",
    "  [(\"dummies\", ct_dummies),\n",
    "   (\"polynomial\", ct_5degree),\n",
    "  (\"linear_regression\", LinearRegression())]\n",
    ")\n",
    "\n",
    "\n",
    "lr_fitted = lr_pipeline_4.fit(X_train, y_train)\n",
    "\n",
    "\n",
    "y_pred_4 = lr_fitted.predict(X_test)\n",
    "mse4 = mean_squared_error(y_test, y_pred_4)\n",
    "mse4"
   ]
  },
  {
   "cell_type": "markdown",
   "id": "ba4d9fd2",
   "metadata": {},
   "source": [
    "cv score"
   ]
  },
  {
   "cell_type": "code",
   "execution_count": 50,
   "id": "df221548",
   "metadata": {},
   "outputs": [],
   "source": [
    "from sklearn.model_selection import cross_val_score"
   ]
  },
  {
   "cell_type": "code",
   "execution_count": 60,
   "id": "03b6bd01",
   "metadata": {},
   "outputs": [],
   "source": [
    "scores = cross_val_score(lr_pipeline_1, X, y, cv=5, scoring='neg_mean_squared_error')\n",
    "mse1 = abs(scores.mean())"
   ]
  },
  {
   "cell_type": "code",
   "execution_count": 65,
   "id": "8a393090",
   "metadata": {},
   "outputs": [
    {
     "data": {
      "text/plain": [
       "2950901126.9849825"
      ]
     },
     "execution_count": 65,
     "metadata": {},
     "output_type": "execute_result"
    }
   ],
   "source": [
    "scores = cross_val_score(lr_pipeline_2, X, y, cv=5, scoring='neg_mean_squared_error')\n",
    "mse2 = abs(scores.mean())\n",
    "mse2"
   ]
  },
  {
   "cell_type": "code",
   "execution_count": 62,
   "id": "cbca86ed",
   "metadata": {},
   "outputs": [],
   "source": [
    "scores = cross_val_score(lr_pipeline_3, X, y, cv=5, scoring='neg_mean_squared_error')\n",
    "mse3 = abs(scores.mean())"
   ]
  },
  {
   "cell_type": "code",
   "execution_count": 63,
   "id": "3719cc85",
   "metadata": {},
   "outputs": [],
   "source": [
    "scores = cross_val_score(lr_pipeline_4, X, y, cv=5, scoring='neg_mean_squared_error')\n",
    "mse4 = abs(scores.mean())"
   ]
  },
  {
   "cell_type": "code",
   "execution_count": 64,
   "id": "85c4204c",
   "metadata": {},
   "outputs": [
    {
     "data": {
      "text/plain": [
       "2950901126.9849825"
      ]
     },
     "execution_count": 64,
     "metadata": {},
     "output_type": "execute_result"
    }
   ],
   "source": [
    "min(mse1,mse2,mse3,mse4)"
   ]
  },
  {
   "cell_type": "markdown",
   "id": "f5a1899c",
   "metadata": {},
   "source": [
    "The second model is the best, which is the one with size, number of rooms, and building type. This model has the smallest mse, indicating that it did the best job on prediciting Salesprice."
   ]
  },
  {
   "cell_type": "markdown",
   "id": "8948e9d6",
   "metadata": {},
   "source": [
    "Consider one hundred modeling options for house price:\n",
    "\n",
    "House size, trying degrees 1 through 10\n",
    "Number of rooms, trying degrees 1 through 10\n",
    "Building Type\n",
    "Hint: The dictionary of possible values that you make to give to GridSearchCV will have two elements instead of one.\n",
    "\n",
    "Q1: Which model performed the best?"
   ]
  },
  {
   "cell_type": "code",
   "execution_count": 36,
   "id": "c7dc5224",
   "metadata": {
    "scrolled": true
   },
   "outputs": [
    {
     "data": {
      "text/html": [
       "<div>\n",
       "<style scoped>\n",
       "    .dataframe tbody tr th:only-of-type {\n",
       "        vertical-align: middle;\n",
       "    }\n",
       "\n",
       "    .dataframe tbody tr th {\n",
       "        vertical-align: top;\n",
       "    }\n",
       "\n",
       "    .dataframe thead th {\n",
       "        text-align: right;\n",
       "    }\n",
       "</style>\n",
       "<table border=\"1\" class=\"dataframe\">\n",
       "  <thead>\n",
       "    <tr style=\"text-align: right;\">\n",
       "      <th></th>\n",
       "      <th>Gr Liv Area Degrees</th>\n",
       "      <th>TotRms AbvGrd Degrees</th>\n",
       "      <th>Mean Test Score</th>\n",
       "    </tr>\n",
       "  </thead>\n",
       "  <tbody>\n",
       "    <tr>\n",
       "      <th>0</th>\n",
       "      <td>1</td>\n",
       "      <td>1</td>\n",
       "      <td>0.532882</td>\n",
       "    </tr>\n",
       "    <tr>\n",
       "      <th>1</th>\n",
       "      <td>1</td>\n",
       "      <td>2</td>\n",
       "      <td>0.532383</td>\n",
       "    </tr>\n",
       "    <tr>\n",
       "      <th>2</th>\n",
       "      <td>1</td>\n",
       "      <td>3</td>\n",
       "      <td>0.535924</td>\n",
       "    </tr>\n",
       "    <tr>\n",
       "      <th>3</th>\n",
       "      <td>1</td>\n",
       "      <td>4</td>\n",
       "      <td>0.541529</td>\n",
       "    </tr>\n",
       "    <tr>\n",
       "      <th>4</th>\n",
       "      <td>1</td>\n",
       "      <td>5</td>\n",
       "      <td>0.541066</td>\n",
       "    </tr>\n",
       "    <tr>\n",
       "      <th>...</th>\n",
       "      <td>...</td>\n",
       "      <td>...</td>\n",
       "      <td>...</td>\n",
       "    </tr>\n",
       "    <tr>\n",
       "      <th>95</th>\n",
       "      <td>10</td>\n",
       "      <td>6</td>\n",
       "      <td>-16.187893</td>\n",
       "    </tr>\n",
       "    <tr>\n",
       "      <th>96</th>\n",
       "      <td>10</td>\n",
       "      <td>7</td>\n",
       "      <td>-16.187893</td>\n",
       "    </tr>\n",
       "    <tr>\n",
       "      <th>97</th>\n",
       "      <td>10</td>\n",
       "      <td>8</td>\n",
       "      <td>-16.187893</td>\n",
       "    </tr>\n",
       "    <tr>\n",
       "      <th>98</th>\n",
       "      <td>10</td>\n",
       "      <td>9</td>\n",
       "      <td>-16.187856</td>\n",
       "    </tr>\n",
       "    <tr>\n",
       "      <th>99</th>\n",
       "      <td>10</td>\n",
       "      <td>10</td>\n",
       "      <td>-16.187856</td>\n",
       "    </tr>\n",
       "  </tbody>\n",
       "</table>\n",
       "<p>100 rows × 3 columns</p>\n",
       "</div>"
      ],
      "text/plain": [
       "   Gr Liv Area Degrees TotRms AbvGrd Degrees  Mean Test Score\n",
       "0                    1                     1         0.532882\n",
       "1                    1                     2         0.532383\n",
       "2                    1                     3         0.535924\n",
       "3                    1                     4         0.541529\n",
       "4                    1                     5         0.541066\n",
       "..                 ...                   ...              ...\n",
       "95                  10                     6       -16.187893\n",
       "96                  10                     7       -16.187893\n",
       "97                  10                     8       -16.187893\n",
       "98                  10                     9       -16.187856\n",
       "99                  10                    10       -16.187856\n",
       "\n",
       "[100 rows x 3 columns]"
      ]
     },
     "execution_count": 36,
     "metadata": {},
     "output_type": "execute_result"
    }
   ],
   "source": [
    "from sklearn.model_selection import GridSearchCV\n",
    "from sklearn.preprocessing import PolynomialFeatures, OneHotEncoder\n",
    "from sklearn.compose import ColumnTransformer\n",
    "from sklearn.pipeline import Pipeline\n",
    "from sklearn.linear_model import LinearRegression\n",
    "import numpy as np\n",
    "\n",
    "ct_poly = ColumnTransformer(\n",
    "  transformers=[\n",
    "    (\"dummify\", OneHotEncoder(sparse_output=False), [\"Bldg Type\"]),\n",
    "    (\"polynomial1\", PolynomialFeatures(), [\"Gr Liv Area\"]),\n",
    "    (\"polynomial2\", PolynomialFeatures(), [\"TotRms AbvGrd\"]),\n",
    "  ],\n",
    "  remainder=\"drop\"\n",
    ")\n",
    "\n",
    "lr_pipeline_poly = Pipeline(\n",
    "  [(\"preprocessing\", ct_poly),\n",
    "   (\"linear_regression\", LinearRegression())]\n",
    ")\n",
    "\n",
    "degrees = {\n",
    "    'preprocessing__polynomial1__degree': np.arange(1, 11),  \n",
    "    'preprocessing__polynomial2__degree': np.arange(1, 11)   \n",
    "}\n",
    "\n",
    "gscv = GridSearchCV(lr_pipeline_poly, degrees, cv=5, scoring='r2')\n",
    "gscv_fitted = gscv.fit(X, y)\n",
    "\n",
    "result_df = pd.DataFrame({\n",
    "    \"Gr Liv Area Degrees\": gscv_fitted.cv_results_['param_preprocessing__polynomial1__degree'],\n",
    "    \"TotRms AbvGrd Degrees\": gscv_fitted.cv_results_['param_preprocessing__polynomial2__degree'],\n",
    "    \"Mean Test Score\": gscv_fitted.cv_results_['mean_test_score']\n",
    "})\n",
    "result_df"
   ]
  },
  {
   "cell_type": "code",
   "execution_count": 38,
   "id": "ee012e43",
   "metadata": {},
   "outputs": [
    {
     "name": "stdout",
     "output_type": "stream",
     "text": [
      "Gr Liv Area Degrees             3\n",
      "TotRms AbvGrd Degrees           1\n",
      "Mean Test Score          0.557641\n",
      "Name: 20, dtype: object\n"
     ]
    }
   ],
   "source": [
    "max_index = result_df['Mean Test Score'].idxmax()\n",
    "\n",
    "row_with_max_value = result_df.loc[max_index]\n",
    "\n",
    "print(row_with_max_value)"
   ]
  },
  {
   "cell_type": "markdown",
   "id": "c66f85a0",
   "metadata": {},
   "source": [
    "With 3 degree of Size and 1 degree on rooms, it generates the highest R2 which is 55.77%. That will be our best model."
   ]
  },
  {
   "cell_type": "markdown",
   "id": "32d0c99f",
   "metadata": {},
   "source": [
    "Q2: What downsides do you see of trying all possible model options? How might you go about choosing a smaller number of tuning values to try?"
   ]
  },
  {
   "cell_type": "markdown",
   "id": "b9214658",
   "metadata": {},
   "source": [
    "The biggest downside is probably overfitting. Like trying 10th degree on size to predict Saleprice just doesn't make sense. It would also be hard to explain the model in words. \n",
    "A smaller number of tuning values will reduce this issue, but then underfitting could happen as well."
   ]
  }
 ],
 "metadata": {
  "kernelspec": {
   "display_name": "Python 3 (ipykernel)",
   "language": "python",
   "name": "python3"
  },
  "language_info": {
   "codemirror_mode": {
    "name": "ipython",
    "version": 3
   },
   "file_extension": ".py",
   "mimetype": "text/x-python",
   "name": "python",
   "nbconvert_exporter": "python",
   "pygments_lexer": "ipython3",
   "version": "3.11.5"
  }
 },
 "nbformat": 4,
 "nbformat_minor": 5
}
