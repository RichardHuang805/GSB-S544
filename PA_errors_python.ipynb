{
<<<<<<< HEAD
 "cells": [
  {
   "cell_type": "markdown",
   "metadata": {
    "colab_type": "text",
    "id": "view-in-github"
   },
   "source": [
    "<a href=\"https://colab.research.google.com/github/RichardHuang805/GSB-S544/blob/main/PA_errors_python.ipynb\" target=\"_parent\"><img src=\"https://colab.research.google.com/assets/colab-badge.svg\" alt=\"Open In Colab\"/></a>"
   ]
  },
  {
   "cell_type": "raw",
   "metadata": {
    "id": "Wm7rfPnRrrqm"
   },
   "source": [
    "---\n",
    "title: 'Practice Activity: Basic Syntax'\n",
    "output: html\n",
    "---"
   ]
  },
  {
   "cell_type": "markdown",
   "metadata": {
    "id": "0mbR_4URrrqo"
   },
   "source": [
    "## Overview\n",
    "\n",
    "In this PA, you will will be creating and manipulating basic objects to uncover a top secret message.\n",
    "\n",
    "### Hint 1\n",
    "\n",
    "As you work through this PA, you will encounter some code that does not work as you want it to.  Don't despair!  Errors (when R is unable to run your code) and bugs (when the code doesn't do what you hoped) are a natural part of coding.  Even the best of the best deal with these problems regularly - learning to track down the issue is a skill that you can learn and practice.\n",
    "\n",
    "Google is your friend!  If an error is confusing, copy it into Google and see what other people are saying.  If you don't know how to do something, search for it.\n",
    "\n",
    "### Hint 2\n",
    "\n",
    "Just because there is no error message doesn't mean everything went smoothly.  You should be regularly printing out your objects, to see they contain the information and format that you expect.\n",
    "\n",
    "For example, if you have an object named `my_thing`, you might first want to simply look at the object by typing its name.\n",
    "\n",
    "However, you might also want to make sure it is the right **object type** and/or the right **object structure**.\n"
   ]
  },
  {
   "cell_type": "code",
   "execution_count": 3,
   "metadata": {
    "id": "D5pSzgxjrrqq"
   },
   "outputs": [
    {
     "ename": "NameError",
     "evalue": "name 'my_thing' is not defined",
     "output_type": "error",
     "traceback": [
      "\u001b[0;31m---------------------------------------------------------------------------\u001b[0m",
      "\u001b[0;31mNameError\u001b[0m                                 Traceback (most recent call last)",
      "Cell \u001b[0;32mIn[3], line 1\u001b[0m\n\u001b[0;32m----> 1\u001b[0m \u001b[38;5;28mtype\u001b[39m(my_thing)\n\u001b[1;32m      2\u001b[0m \u001b[38;5;28mlen\u001b[39m(my_thing)\n",
      "\u001b[0;31mNameError\u001b[0m: name 'my_thing' is not defined"
     ]
    }
   ],
   "source": [
    "type(my_thing)\n",
    "len(my_thing)"
   ]
  },
  {
   "cell_type": "markdown",
   "metadata": {
    "id": "QpUJsmq0rrqr"
   },
   "source": [
    "## Part One: Setup\n",
    "\n",
    "Each of the following code chunks will cause an error and/or do the desired task incorrectly.  Find the mistake, and correct it to complete the intended action.\n",
    "\n",
    "\n",
    "\n",
    "\n",
    "1. Create lists containing the upper case letters, lower case letters, and some punctuation marks.\n"
   ]
  },
  {
   "cell_type": "code",
   "execution_count": 44,
   "metadata": {
    "colab": {
     "base_uri": "https://localhost:8080/",
     "height": 143
    },
    "id": "tk5bezBJrrqs",
    "outputId": "4ed6b62e-bd9b-41a0-831e-efc52b595226"
   },
   "outputs": [],
   "source": [
    "lower_case = [\"a\", \"b\", \"c\", \"d\", \"e\", \"f\", \"g\", \"h\", \"i\", \"j\", \"k\", \"l\", \"m\", \"n\", \"o\", \"p\", \"q\", \"r\", \"s\", \"t\", \"u\", \"v\", \"w\", \"x\", \"y\", \"z\"]\n",
    "\n",
    "upper_case = [\"A\", \"B\", \"C\", \"D\", \"E\", \"F\", \"G\", \"H\" \"I\", \"J\", \"K\", \"L\", \"M\", \"N\", \"O\", \"P\", \"Q\", \"R\", \"S\", \"T\", \"U\", \"V\", \"W\", \"X\", \"Y\", \"Z\"]\n",
    "\n",
    "punctuation = [\".\", \",\", \"!\", \"?\", \"'\", '\"', \"(\", \")\", \" \", \"-\", \";\", \":\"]"
   ]
  },
  {
   "cell_type": "markdown",
   "metadata": {
    "id": "ZejwK6urrrqs"
   },
   "source": [
    "2. Make one long list containing all the symbols.  Find the length of this list.\n"
   ]
  },
  {
   "cell_type": "code",
   "execution_count": 45,
   "metadata": {
    "id": "l8ZVLLXWrrqs"
   },
   "outputs": [
    {
     "data": {
      "text/plain": [
       "63"
      ]
     },
     "execution_count": 45,
     "metadata": {},
     "output_type": "execute_result"
    }
   ],
   "source": [
    "all_symbols = lower_case+ upper_case+ punctuation\n",
    "\n",
    "len(all_symbols)"
   ]
  },
  {
   "cell_type": "markdown",
   "metadata": {
    "id": "HvgV76Dbrrqt"
   },
   "source": [
    "3. Repeat the previous steps, but instead of using *list* type objects, use **numpy arrays**.  Don't forget to **import** the numpy library!\n"
   ]
  },
  {
   "cell_type": "code",
   "execution_count": 46,
   "metadata": {
    "id": "x9YyIMP6rrqt"
   },
   "outputs": [],
   "source": [
    "import numpy as np\n",
    "\n",
    "lower_case = np.array([\"a\", \"b\", \"c\", \"d\", \"e\", \"f\", \"g\", \"h\", \"i\", \"j\", \"k\", \"l\", \"m\", \"n\", \"o\", \"p\", \"q\", \"r\", \"s\", \"t\", \"u\", \"v\", \"w\", \"x\", \"y\", \"z\"])\n",
    "\n",
    "upper_case = np.array([\"A\", \"B\", \"C\", \"D\", \"E\", \"F\", \"G\", \"H\", \"I\", \"J\", \"K\", \"L\", \"M\", \"N\", \"O\", \"P\", \"Q\", \"R\", \"S\", \"T\", \"U\", \"V\", \"W\", \"X\", \"Y\", \"Z\"])\n",
    "\n",
    "punctuation = np.array([\".\", \",\", \"!\", \"?\", \"'\", '\"', \"(\", \")\", \" \", \"-\", \";\", \":\"])\n",
    "\n",
    "## Use np.concatenate to combine into long array\n",
    "all_symbols = np.concatenate((lower_case, upper_case, punctuation))"
   ]
  },
  {
   "cell_type": "markdown",
   "metadata": {
    "id": "rpbAtPlXrrqt"
   },
   "source": [
    "4. Make a **pandas data frame**, with one column called \"Symbol\" containing the `all_symbols` array.\n"
   ]
  },
  {
   "cell_type": "code",
   "execution_count": 6,
   "metadata": {},
   "outputs": [
    {
     "data": {
      "text/html": [
       "<div>\n",
       "<style scoped>\n",
       "    .dataframe tbody tr th:only-of-type {\n",
       "        vertical-align: middle;\n",
       "    }\n",
       "\n",
       "    .dataframe tbody tr th {\n",
       "        vertical-align: top;\n",
       "    }\n",
       "\n",
       "    .dataframe thead th {\n",
       "        text-align: right;\n",
       "    }\n",
       "</style>\n",
       "<table border=\"1\" class=\"dataframe\">\n",
       "  <thead>\n",
       "    <tr style=\"text-align: right;\">\n",
       "      <th></th>\n",
       "      <th>Symbol</th>\n",
       "    </tr>\n",
       "  </thead>\n",
       "  <tbody>\n",
       "    <tr>\n",
       "      <th>0</th>\n",
       "      <td>a</td>\n",
       "    </tr>\n",
       "    <tr>\n",
       "      <th>1</th>\n",
       "      <td>b</td>\n",
       "    </tr>\n",
       "    <tr>\n",
       "      <th>2</th>\n",
       "      <td>c</td>\n",
       "    </tr>\n",
       "    <tr>\n",
       "      <th>3</th>\n",
       "      <td>d</td>\n",
       "    </tr>\n",
       "    <tr>\n",
       "      <th>4</th>\n",
       "      <td>e</td>\n",
       "    </tr>\n",
       "    <tr>\n",
       "      <th>...</th>\n",
       "      <td>...</td>\n",
       "    </tr>\n",
       "    <tr>\n",
       "      <th>59</th>\n",
       "      <td>)</td>\n",
       "    </tr>\n",
       "    <tr>\n",
       "      <th>60</th>\n",
       "      <td></td>\n",
       "    </tr>\n",
       "    <tr>\n",
       "      <th>61</th>\n",
       "      <td>-</td>\n",
       "    </tr>\n",
       "    <tr>\n",
       "      <th>62</th>\n",
       "      <td>;</td>\n",
       "    </tr>\n",
       "    <tr>\n",
       "      <th>63</th>\n",
       "      <td>:</td>\n",
       "    </tr>\n",
       "  </tbody>\n",
       "</table>\n",
       "<p>64 rows × 1 columns</p>\n",
       "</div>"
      ],
      "text/plain": [
       "   Symbol\n",
       "0       a\n",
       "1       b\n",
       "2       c\n",
       "3       d\n",
       "4       e\n",
       "..    ...\n",
       "59      )\n",
       "60       \n",
       "61      -\n",
       "62      ;\n",
       "63      :\n",
       "\n",
       "[64 rows x 1 columns]"
      ]
     },
     "execution_count": 6,
     "metadata": {},
     "output_type": "execute_result"
    }
   ],
   "source": [
    "symbols_df"
   ]
  },
  {
   "cell_type": "code",
   "execution_count": 47,
   "metadata": {
    "id": "K103ZvNVrrqu"
   },
   "outputs": [],
   "source": [
    "import pandas as pd\n",
    "\n",
    "symbols_df = pd.DataFrame(all_symbols)\n",
    "\n",
    "symbols_df.columns = [\"Symbol\"]"
   ]
  },
  {
   "cell_type": "code",
   "execution_count": 84,
   "metadata": {},
   "outputs": [],
   "source": [
    "symbols_df.index = range(1, 65)"
   ]
  },
  {
   "cell_type": "code",
   "execution_count": 85,
   "metadata": {},
   "outputs": [
    {
     "data": {
      "text/html": [
       "<div>\n",
       "<style scoped>\n",
       "    .dataframe tbody tr th:only-of-type {\n",
       "        vertical-align: middle;\n",
       "    }\n",
       "\n",
       "    .dataframe tbody tr th {\n",
       "        vertical-align: top;\n",
       "    }\n",
       "\n",
       "    .dataframe thead th {\n",
       "        text-align: right;\n",
       "    }\n",
       "</style>\n",
       "<table border=\"1\" class=\"dataframe\">\n",
       "  <thead>\n",
       "    <tr style=\"text-align: right;\">\n",
       "      <th></th>\n",
       "      <th>Symbol</th>\n",
       "    </tr>\n",
       "  </thead>\n",
       "  <tbody>\n",
       "    <tr>\n",
       "      <th>1</th>\n",
       "      <td>a</td>\n",
       "    </tr>\n",
       "    <tr>\n",
       "      <th>2</th>\n",
       "      <td>b</td>\n",
       "    </tr>\n",
       "    <tr>\n",
       "      <th>3</th>\n",
       "      <td>c</td>\n",
       "    </tr>\n",
       "    <tr>\n",
       "      <th>4</th>\n",
       "      <td>d</td>\n",
       "    </tr>\n",
       "    <tr>\n",
       "      <th>5</th>\n",
       "      <td>e</td>\n",
       "    </tr>\n",
       "    <tr>\n",
       "      <th>...</th>\n",
       "      <td>...</td>\n",
       "    </tr>\n",
       "    <tr>\n",
       "      <th>60</th>\n",
       "      <td>)</td>\n",
       "    </tr>\n",
       "    <tr>\n",
       "      <th>61</th>\n",
       "      <td></td>\n",
       "    </tr>\n",
       "    <tr>\n",
       "      <th>62</th>\n",
       "      <td>-</td>\n",
       "    </tr>\n",
       "    <tr>\n",
       "      <th>63</th>\n",
       "      <td>;</td>\n",
       "    </tr>\n",
       "    <tr>\n",
       "      <th>64</th>\n",
       "      <td>:</td>\n",
       "    </tr>\n",
       "  </tbody>\n",
       "</table>\n",
       "<p>64 rows × 1 columns</p>\n",
       "</div>"
      ],
      "text/plain": [
       "   Symbol\n",
       "1       a\n",
       "2       b\n",
       "3       c\n",
       "4       d\n",
       "5       e\n",
       "..    ...\n",
       "60      )\n",
       "61       \n",
       "62      -\n",
       "63      ;\n",
       "64      :\n",
       "\n",
       "[64 rows x 1 columns]"
      ]
     },
     "execution_count": 85,
     "metadata": {},
     "output_type": "execute_result"
    }
   ],
   "source": [
    "symbols_df"
   ]
  },
  {
   "cell_type": "markdown",
   "metadata": {
    "id": "L-m2LLyHrrqu"
   },
   "source": [
    "## Part Two: Decoding the secret message.\n"
   ]
  },
  {
   "cell_type": "code",
   "execution_count": 70,
   "metadata": {
    "id": "iP7Zj5hPrrqu"
   },
   "outputs": [],
   "source": [
    "top_secret = pd.read_csv(\"https://www.dropbox.com/s/k72h1zewk4gtqep/PA_Secret_Code?dl=1\", header=None)\n",
    "\n",
    "top_secret = top_secret[0].to_numpy()"
   ]
  },
  {
   "cell_type": "markdown",
   "metadata": {
    "id": "T3ui38Z9rrqu"
   },
   "source": [
    "### Hint\n",
    "\n",
    "Recall that basic math operations are **vectorized**.  This means you don't have to repeat the process for each item in a list; you can apply the math to the whole thing at once.\n",
    "\n",
    "### Instructions\n",
    "\n",
    "By altering this top secret set of numbers, you will be able to create a message.  Write your own code to complete the steps below.\n",
    "\n",
    "1. Add 14 to every number.\n",
    "\n",
    "\n",
    "\n",
    "2. Multiply every number by 18, then subtract 257.\n",
    "3. Exponentiate every number.  (That is, do e^[number].  You may have to Google how to do this!)\n",
    "4. Square every number.\n",
    "\n",
    "**Checkpoint:** Headquarters has informed you that at this stage of decoding, there should be 352 numbers in the secret message that are below 17.  Write code to check if this is true for your data.\n",
    "\n",
    "\n",
    "5. Turn your one-dimensional array of numbers into a two-dimensional array (matrix) with 5 columns.\n",
    "6. Separately from your top secret numbers, create an array of all the even numbers between 1 and 382. Name it \"evens\". That is, \"evens\" should contain 2, 4, 6, 8 ..., 382.\n",
    "7. Subtract the \"evens\" vector from the first column of your secret message matrix.\n",
    "8. Subtract 100 from all numbers in the 18-24th rows of the 3rd column.\n",
    "9. Multiply all numbers in the 4th and 5th column by 2.\n",
    "10. Turn your matrix back into a one dimensional array.\n",
    "\n",
    "\n",
    "**Checkpoint:** Headquarters has informed you that at this stage of decoding, all numbers in indices 500 and beyond are below 100.  Write code to check if your numbers fulfill this requirement.\n",
    "\n",
    "11. Take the square root of all numbers in indices 37 to 464.\n",
    "12. Round all numbers to the nearest whole number.\n",
    "13. Replace all instances of the number 39 with 20.\n",
    "\n",
    "**Checkpoint:** Headquarters has informed you that your final message should have 344 even numbers.  Write code to check if your numbers fulfill this requirement.\n",
    "\n",
    "## Part 3: The secret message!\n",
    "\n",
    "Run the following to discover the final message!  Google the first line of this message, if you do not recognize it, to see what it is.\n"
   ]
  },
  {
   "cell_type": "code",
   "execution_count": 71,
   "metadata": {},
   "outputs": [],
   "source": [
    "top_secret = top_secret+14\n",
    "top_secret = top_secret*18-257\n",
    "top_secret = np.exp(top_secret)\n",
    "top_secret = top_secret**2"
   ]
  },
  {
   "cell_type": "code",
   "execution_count": 72,
   "metadata": {},
   "outputs": [
    {
     "data": {
      "text/plain": [
       "0"
      ]
     },
     "execution_count": 72,
     "metadata": {},
     "output_type": "execute_result"
    }
   ],
   "source": [
    "top_secret = top_secret.reshape(5, -1).T\n",
    "evens = np.arange(2, 384, 2)\n",
    "top_secret[:,0] = top_secret[:,0] - evens\n",
    "top_secret[17:24, 2] = top_secret[17:24, 2] - 100\n",
    "top_secret[:,3:5] = top_secret[:,3:5]*2\n",
    "top_secret = top_secret.T.flatten()\n",
    "\n",
    "sum(top_secret[500:955] >= 100)"
   ]
  },
  {
   "cell_type": "code",
   "execution_count": 73,
   "metadata": {},
   "outputs": [],
   "source": [
    "top_secret[37:464] = np.sqrt(top_secret[37:464] )"
   ]
  },
  {
   "cell_type": "code",
   "execution_count": 74,
   "metadata": {},
   "outputs": [],
   "source": [
    "top_secret = np.round(top_secret)"
   ]
  },
  {
   "cell_type": "code",
   "execution_count": 75,
   "metadata": {},
   "outputs": [],
   "source": [
    "top_secret[top_secret == 39] = 20"
   ]
  },
  {
   "cell_type": "code",
   "execution_count": 81,
   "metadata": {},
   "outputs": [
    {
     "data": {
      "text/plain": [
       "array([57., 46., 23.,  1., 19., 61.,  2., 18.,  9., 12., 12.,  9.,  7.,\n",
       "       54., 61.,  1., 14.,  4., 61., 20.,  8.,  5., 61., 19., 12.,  9.,\n",
       "       20.,  8., 25., 61., 20., 15., 22.,  5., 19., 61., 61., 61., 30.,\n",
       "        9.,  4., 61.,  7., 25., 18.,  5., 61.,  1., 14.,  4., 61.,  7.,\n",
       "        9., 13.,  2., 12.,  5., 61.,  9., 14., 61., 20.,  8.,  5., 61.,\n",
       "       23.,  1.,  2.,  5., 64., 61., 27., 12., 12., 61., 13.,  9., 13.,\n",
       "       19., 25., 61., 23.,  5., 18.,  5., 61., 20.,  8.,  5., 61.,  2.,\n",
       "       15., 18., 15.,  7., 15., 22.,  5., 19., 54., 61., 61., 61., 27.,\n",
       "       14.,  4., 61., 20.,  8.,  5., 61., 13., 15., 13.,  5., 61., 18.,\n",
       "        1., 20.,  8., 19., 61., 15., 21., 20.,  7., 18.,  1.,  2.,  5.,\n",
       "       53., 61., 58., 28.,  5., 23.,  1., 18.,  5., 61., 20.,  8.,  5.,\n",
       "       61., 36.,  1.,  2.,  2.,  5., 18., 23., 15.,  3., 11., 54., 61.,\n",
       "       13., 25., 61., 19., 15., 14., 55., 61., 61., 61., 46.,  8.,  5.,\n",
       "       61., 10.,  1., 23., 19., 61., 20.,  8.,  1., 20., 61.,  2.,  9.,\n",
       "       20.,  5., 54., 61., 20.,  8.,  5., 61.,  3., 12.,  1., 23., 19.,\n",
       "       61., 20.,  8.,  1., 20., 61.,  3.,  1., 20.,  3.,  8., 55., 61.,\n",
       "       28.,  5., 23.,  1., 18.,  5., 61., 20.,  8.,  5., 61., 36., 21.,\n",
       "        2., 10., 21.,  2., 61.,  2.,  9., 18.,  4., 54., 61.,  1., 14.,\n",
       "        4., 61., 19.,  8., 21., 14., 61., 61., 61., 46.,  8.,  5., 61.,\n",
       "        6., 18., 21., 13.,  9., 15., 21., 19., 61., 28.,  1., 14.,  4.,\n",
       "        5., 18., 19., 14.,  1., 20.,  3.,  8., 55., 58., 61., 34.,  5.,\n",
       "       61., 20., 15., 15., 11., 61.,  8.,  9., 19., 61., 22., 15., 18.,\n",
       "       16.,  1., 12., 61., 19., 23., 15., 18.,  4., 61.,  9., 14., 61.,\n",
       "        8.,  1., 14.,  4., 63., 61., 61., 61., 38., 15., 14.,  7., 61.,\n",
       "       20.,  9., 13.,  5., 61., 20.,  8.,  5., 61., 13.,  1., 14., 24.,\n",
       "       15., 13.,  5., 61.,  6., 15.,  5., 61.,  8.,  5., 61., 19., 15.,\n",
       "       21.,  7.,  8., 20., 62., 61., 45., 15., 61., 18.,  5., 19., 20.,\n",
       "        5.,  4., 61.,  8.,  5., 61.,  2., 25., 61., 20.,  8.,  5., 61.,\n",
       "       46., 21., 13., 20., 21., 13., 61., 20., 18.,  5.,  5., 61., 61.,\n",
       "       61., 27., 14.,  4., 61., 19., 20., 15., 15.,  4., 61.,  1., 23.,\n",
       "        8.,  9., 12.,  5., 61.,  9., 14., 61., 20.,  8., 15., 21.,  7.,\n",
       "        8., 20., 53., 61., 27., 14.,  4., 54., 61.,  1., 19., 61.,  9.,\n",
       "       14., 61., 21.,  6.,  6.,  9., 19.,  8., 61., 20.,  8., 15., 21.,\n",
       "        7.,  8., 20., 61.,  8.,  5., 61., 19., 20., 15., 15.,  4., 54.,\n",
       "       61., 61., 61., 46.,  8.,  5., 61., 36.,  1.,  2.,  2.,  5., 18.,\n",
       "       23., 15.,  3., 11., 54., 61., 23.,  9., 20., 64., 61.,  5., 25.,\n",
       "        5., 19., 61., 15.,  6., 61.,  6., 12.,  1., 13.,  5., 54., 61.,\n",
       "       29.,  1., 13.,  5., 61., 23.,  8.,  9.,  6.,  6., 12.,  9., 14.,\n",
       "        7., 61., 20.,  8., 18., 15., 21.,  7.,  8., 61., 20.,  8.,  5.,\n",
       "       61., 20., 21., 12.,  7.,  5., 25., 61., 23., 15., 15.,  4., 54.,\n",
       "       61., 61., 61., 27., 14.,  4., 61.,  2., 21., 18.,  2., 12.,  5.,\n",
       "        4., 61.,  1., 19., 61.,  9., 20., 61.,  3.,  1., 13.,  5., 55.,\n",
       "       61., 41., 14.,  5., 54., 61., 20., 23., 15., 55., 61., 41., 14.,\n",
       "        5., 54., 61., 20., 23., 15., 55., 61., 27., 14.,  4., 61., 20.,\n",
       "        8., 18., 15., 21.,  7.,  8., 61.,  1., 14.,  4., 61., 20.,  8.,\n",
       "       18., 15., 21.,  7.,  8., 61., 61., 61., 46.,  8.,  5., 61., 22.,\n",
       "       15., 18., 16.,  1., 12., 61.,  2., 12.,  1.,  4.,  5., 61., 23.,\n",
       "        5., 14., 20., 61., 19., 14.,  9.,  3., 11.,  5., 18., 62., 19.,\n",
       "       14.,  1.,  3., 11., 55., 61., 34.,  5., 61., 12.,  5.,  6., 20.,\n",
       "       61.,  9., 20., 61.,  4.,  5.,  1.,  4., 54., 61.,  1., 14.,  4.,\n",
       "       61., 23.,  9., 20.,  8., 61.,  9., 20., 19., 61.,  8.,  5.,  1.,\n",
       "        4., 61., 61., 61., 34.,  5., 61., 23.,  5., 14., 20., 61.,  7.,\n",
       "        1., 12., 21., 13., 16.,  8.,  9., 14.,  7., 61.,  2.,  1.,  3.,\n",
       "       11., 53., 61., 58., 27., 14.,  4., 61.,  8.,  1., 19., 20., 61.,\n",
       "       20.,  8., 15., 21., 61., 19., 12.,  1.,  9., 14., 61., 20.,  8.,\n",
       "        5., 61., 36.,  1.,  2.,  2.,  5., 18., 23., 15.,  3., 11., 56.,\n",
       "       61., 61., 61., 29., 15., 13.,  5., 61., 20., 15., 61., 13., 25.,\n",
       "       61.,  1., 18., 13., 19., 54., 61., 13., 25., 61.,  2.,  5.,  1.,\n",
       "       13.,  9., 19.,  8., 61.,  2., 15., 25., 55., 61., 41., 61.,  6.,\n",
       "       18.,  1.,  2., 10., 15., 21., 19., 61.,  4.,  1., 25., 55., 61.,\n",
       "       29.,  1., 12., 12., 15., 15.,  8., 55., 61., 29.,  1., 12., 12.,\n",
       "        1., 25., 55., 58., 61., 61., 61., 34.,  5., 61.,  3.,  8., 15.,\n",
       "       18., 20., 12.,  5.,  4., 61.,  9., 14., 61.,  8.,  9., 19., 61.,\n",
       "       10., 15., 25., 53., 61., 57., 46., 23.,  1., 19., 61.,  2., 18.,\n",
       "        9., 12., 12.,  9.,  7., 54., 61.,  1., 14.,  4., 61., 20.,  8.,\n",
       "        5., 61., 19., 12.,  9., 20.,  8., 25., 61., 20., 15., 22.,  5.,\n",
       "       19., 61., 61., 61., 30.,  9.,  4., 61.,  7., 25., 18.,  5., 61.,\n",
       "        1., 14.,  4., 61.,  7.,  9., 13.,  2., 12.,  5., 61.,  9., 14.,\n",
       "       61., 20.,  8.,  5., 61., 23.,  1.,  2.,  5., 64., 61., 27., 12.,\n",
       "       12., 61., 13.,  9., 13., 19., 25., 61., 23.,  5., 18.,  5., 61.,\n",
       "       20.,  8.,  5., 61.,  2., 15., 18., 15.,  7., 15., 22.,  5., 19.,\n",
       "       54., 61., 61., 61., 27., 14.,  4., 61., 20.,  8.,  5., 61., 13.,\n",
       "       15., 13.,  5., 61., 18.,  1., 20.,  8., 19., 61., 15., 21., 20.,\n",
       "        7., 18.,  1.,  2.,  5., 53.])"
      ]
     },
     "execution_count": 81,
     "metadata": {},
     "output_type": "execute_result"
    }
   ],
   "source": [
    "even_mask = top_secret % 2 == 0\n",
    "\n",
    "# Count the number of even elements\n",
    "even_count = np.sum(even_mask)\n",
    "\n",
    "even_count\n",
    "\n",
    "top_secret"
   ]
  },
  {
   "cell_type": "code",
   "execution_count": 86,
   "metadata": {
    "id": "v_bB8VNvrrqu"
   },
   "outputs": [
    {
     "data": {
      "text/plain": [
       "'\\'Twas brillig, and the slithy toves   Did gyre and gimble in the wabe: All mimsy were the borogoves,   And the mome raths outgrabe. \"Beware the Jabberwock, my son!   The jaws that bite, the claws that catch! Beware the Jubjub bird, and shun   The frumious Bandersnatch!\" He took his vorpal sword in hand;   Long time the manxome foe he sought- So rested he by the Tumtum tree   And stood awhile in thought. And, as in uffish thought he stood,   The Jabberwock, wit: eyes of flame, Came whiffling through the tulgey wood,   And burbled as it came! One, two! One, two! And through and through   The vorpal blade went snicker-snack! He left it dead, and with its head   He went galumphing back. \"And hast thou slain the Jabberwock?   Come to my arms, my beamish boy! O frabjous day! Callooh! Callay!\"   He chortled in his joy. \\'Twas brillig, and the slithy toves   Did gyre and gimble in the wabe: All mimsy were the borogoves,   And the mome raths outgrabe.'"
      ]
     },
     "execution_count": 86,
     "metadata": {},
     "output_type": "execute_result"
    }
   ],
   "source": [
    "''.join(map(str, symbols_df.loc[top_secret][\"Symbol\"]))"
   ]
  }
 ],
 "metadata": {
  "colab": {
   "include_colab_link": true,
   "provenance": []
  },
  "kernelspec": {
   "display_name": "Python 3 (ipykernel)",
   "language": "python",
   "name": "python3"
  },
  "language_info": {
   "codemirror_mode": {
    "name": "ipython",
    "version": 3
   },
   "file_extension": ".py",
   "mimetype": "text/x-python",
   "name": "python",
   "nbconvert_exporter": "python",
   "pygments_lexer": "ipython3",
   "version": "3.11.4"
  }
 },
 "nbformat": 4,
 "nbformat_minor": 1
}
=======
  "cells": [
    {
      "cell_type": "markdown",
      "metadata": {
        "id": "view-in-github",
        "colab_type": "text"
      },
      "source": [
        "<a href=\"https://colab.research.google.com/github/RichardHuang805/GSB-S544/blob/main/PA_errors_python.ipynb\" target=\"_parent\"><img src=\"https://colab.research.google.com/assets/colab-badge.svg\" alt=\"Open In Colab\"/></a>"
      ]
    },
    {
      "cell_type": "raw",
      "metadata": {
        "id": "Wm7rfPnRrrqm"
      },
      "source": [
        "---\n",
        "title: 'Practice Activity: Basic Syntax'\n",
        "output: html\n",
        "---"
      ]
    },
    {
      "cell_type": "markdown",
      "metadata": {
        "id": "0mbR_4URrrqo"
      },
      "source": [
        "## Overview\n",
        "\n",
        "In this PA, you will will be creating and manipulating basic objects to uncover a top secret message.\n",
        "\n",
        "### Hint 1\n",
        "\n",
        "As you work through this PA, you will encounter some code that does not work as you want it to.  Don't despair!  Errors (when R is unable to run your code) and bugs (when the code doesn't do what you hoped) are a natural part of coding.  Even the best of the best deal with these problems regularly - learning to track down the issue is a skill that you can learn and practice.\n",
        "\n",
        "Google is your friend!  If an error is confusing, copy it into Google and see what other people are saying.  If you don't know how to do something, search for it.\n",
        "\n",
        "### Hint 2\n",
        "\n",
        "Just because there is no error message doesn't mean everything went smoothly.  You should be regularly printing out your objects, to see they contain the information and format that you expect.\n",
        "\n",
        "For example, if you have an object named `my_thing`, you might first want to simply look at the object by typing its name.\n",
        "\n",
        "However, you might also want to make sure it is the right **object type** and/or the right **object structure**.\n"
      ]
    },
    {
      "cell_type": "code",
      "metadata": {
        "id": "D5pSzgxjrrqq"
      },
      "source": [
        "type(my_thing)\n",
        "len(my_thing)"
      ],
      "execution_count": null,
      "outputs": []
    },
    {
      "cell_type": "markdown",
      "metadata": {
        "id": "QpUJsmq0rrqr"
      },
      "source": [
        "## Part One: Setup\n",
        "\n",
        "Each of the following code chunks will cause an error and/or do the desired task incorrectly.  Find the mistake, and correct it to complete the intended action.\n",
        "\n",
        "\n",
        "\n",
        "\n",
        "1. Create lists containing the upper case letters, lower case letters, and some punctuation marks.\n"
      ]
    },
    {
      "cell_type": "code",
      "metadata": {
        "id": "tk5bezBJrrqs",
        "outputId": "4ed6b62e-bd9b-41a0-831e-efc52b595226",
        "colab": {
          "base_uri": "https://localhost:8080/",
          "height": 143
        }
      },
      "source": [
        "lower_case = [\"a\", \"b\", \"c\", \"d\", \"e\", \"f\", \"g\", \"h\", \"i\", \"j\", \"k\", \"l\", \"m\", \"n\", \"o\", \"p\", \"q\", \"r\", \"s\", \"t\", \"u\", \"v\", \"w\", \"x\", \"y\", \"z\"]\n",
        "\n",
        "upper_case = [\"A\", \"B\", \"C\", \"D\", \"E\", \"F\", \"G\", \"H\" \"I\", \"J\", \"K\", \"L\", \"M\", \"N\", \"O\", \"P\", \"Q\", \"R\", \"S\", \"T\", \"U\", \"V\", \"W\", \"X\", \"Y\", \"Z\"]\n",
        "\n",
        "punctuation = [\".\", \",\", \"!\", \"?\", \"'\", \"\"\", \"(\", \")\", \" \", \"-\", \";\", \":\"]"
      ],
      "execution_count": null,
      "outputs": [
        {
          "output_type": "error",
          "ename": "SyntaxError",
          "evalue": "ignored",
          "traceback": [
            "\u001b[0;36m  File \u001b[0;32m\"<ipython-input-1-dd35ac19d8c9>\"\u001b[0;36m, line \u001b[0;32m5\u001b[0m\n\u001b[0;31m    punctuation = [\".\", \",\", \"!\", \"?\", \"'\", \"\"\", \"(\", \")\", \" \", \"-\", \";\", \":\"]\u001b[0m\n\u001b[0m                                            ^\u001b[0m\n\u001b[0;31mSyntaxError\u001b[0m\u001b[0;31m:\u001b[0m incomplete input\n"
          ]
        }
      ]
    },
    {
      "cell_type": "markdown",
      "metadata": {
        "id": "ZejwK6urrrqs"
      },
      "source": [
        "2. Make one long list containing all the symbols.  Find the length of this list.\n"
      ]
    },
    {
      "cell_type": "code",
      "metadata": {
        "id": "l8ZVLLXWrrqs"
      },
      "source": [
        "all_symbols = [lower_case, upper_case, punctuation]\n",
        "\n",
        "len(all_symbols)"
      ],
      "execution_count": null,
      "outputs": []
    },
    {
      "cell_type": "markdown",
      "metadata": {
        "id": "HvgV76Dbrrqt"
      },
      "source": [
        "3. Repeat the previous steps, but instead of using *list* type objects, use **numpy arrays**.  Don't forget to **import** the numpy library!\n"
      ]
    },
    {
      "cell_type": "code",
      "metadata": {
        "id": "x9YyIMP6rrqt"
      },
      "source": [
        "import numpy as np\n",
        "\n",
        "lower_case = array([\"a\", \"b\", \"c\", \"d\", \"e\", \"f\", \"g\", \"h\", \"i\", \"j\", \"k\", \"l\", \"m\", \"n\", \"o\", \"p\", \"q\", \"r\", \"s\", \"t\", \"u\", \"v\", \"w\", \"x\", \"y\", \"z\"])\n",
        "\n",
        "upper_case = array([\"A\", \"B\", \"C\", \"D\", \"E\", \"F\", \"G\", \"H\", \"I\", \"J\", \"K\", \"L\", \"M\", \"N\", \"O\", \"P\", \"Q\", \"R\", \"S\", \"T\", \"U\", \"V\", \"W\", \"X\", \"Y\", \"Z\"])\n",
        "\n",
        "punctuation = array([\".\", \",\", \"!\", \"?\", \"'\", \"\\\"\", \"(\", \")\", \" \", \"-\", \";\", \":\"])\n",
        "\n",
        "## Use np.concatenate to combine into long array\n",
        "all_symbols = np.concatenate(lower_case, upper_case, punctuation)"
      ],
      "execution_count": null,
      "outputs": []
    },
    {
      "cell_type": "markdown",
      "metadata": {
        "id": "rpbAtPlXrrqt"
      },
      "source": [
        "4. Make a **pandas data frame**, with one column called \"Symbol\" containing the `all_symbols` array.\n"
      ]
    },
    {
      "cell_type": "code",
      "metadata": {
        "id": "K103ZvNVrrqu"
      },
      "source": [
        "import pandas as pd\n",
        "\n",
        "symbols_df = pd.dataframe(all_symbols)\n",
        "\n",
        "symbols_df.rename(columns = \"Symbol\")"
      ],
      "execution_count": null,
      "outputs": []
    },
    {
      "cell_type": "markdown",
      "metadata": {
        "id": "L-m2LLyHrrqu"
      },
      "source": [
        "## Part Two: Decoding the secret message.\n"
      ]
    },
    {
      "cell_type": "code",
      "metadata": {
        "id": "iP7Zj5hPrrqu"
      },
      "source": [
        "top_secret = pd.read_csv(\"https://www.dropbox.com/s/k72h1zewk4gtqep/PA_Secret_Code?dl=1\", header=None)\n",
        "\n",
        "top_secret = top_secret['0'].to_numpy()"
      ],
      "execution_count": null,
      "outputs": []
    },
    {
      "cell_type": "markdown",
      "metadata": {
        "id": "T3ui38Z9rrqu"
      },
      "source": [
        "### Hint\n",
        "\n",
        "Recall that basic math operations are **vectorized**.  This means you don't have to repeat the process for each item in a list; you can apply the math to the whole thing at once.\n",
        "\n",
        "### Instructions\n",
        "\n",
        "By altering this top secret set of numbers, you will be able to create a message.  Write your own code to complete the steps below.\n",
        "\n",
        "1. Add 14 to every number.\n",
        "2. Multiply every number by 18, then subtract 257.\n",
        "3. Exponentiate every number.  (That is, do e^[number].  You may have to Google how to do this!)\n",
        "4. Square every number.\n",
        "\n",
        "**Checkpoint:** Headquarters has informed you that at this stage of decoding, there should be 352 numbers in the secret message that are below 17.  Write code to check if this is true for your data.\n",
        "\n",
        "\n",
        "5. Turn your one-dimensional array of numbers into a two-dimensional array (matrix) with 5 columns.\n",
        "6. Separately from your top secret numbers, create an array of all the even numbers between 1 and 382. Name it \"evens\". That is, \"evens\" should contain 2, 4, 6, 8 ..., 382.\n",
        "7. Subtract the \"evens\" vector from the first column of your secret message matrix.\n",
        "8. Subtract 100 from all numbers in the 18-24th rows of the 3rd column.\n",
        "9. Multiply all numbers in the 4th and 5th column by 2.\n",
        "10. Turn your matrix back into a one dimensional array.\n",
        "\n",
        "\n",
        "**Checkpoint:** Headquarters has informed you that at this stage of decoding, all numbers in indices 500 and beyond are below 100.  Write code to check if your numbers fulfill this requirement.\n",
        "\n",
        "11. Take the square root of all numbers in indices 38 to 465.\n",
        "12. Round all numbers to the nearest whole number.\n",
        "13. Replace all instances of the number 39 with 20.\n",
        "\n",
        "**Checkpoint:** Headquarters has informed you that your final message should have 344 even numbers.  Write code to check if your numbers fulfill this requirement.\n",
        "\n",
        "## Part 3: The secret message!\n",
        "\n",
        "Run the following to discover the final message!  Google the first line of this message, if you do not recognize it, to see what it is.\n"
      ]
    },
    {
      "cell_type": "code",
      "metadata": {
        "id": "v_bB8VNvrrqu"
      },
      "source": [
        "''.join(map(str, symbols_df.loc[top_secret]['Symbol']))"
      ],
      "execution_count": null,
      "outputs": []
    }
  ],
  "metadata": {
    "kernelspec": {
      "name": "python3",
      "language": "python",
      "display_name": "Python 3 (ipykernel)"
    },
    "colab": {
      "provenance": [],
      "include_colab_link": true
    }
  },
  "nbformat": 4,
  "nbformat_minor": 0
}
>>>>>>> 1ee469fa36c5209a56de9a50b21db9d001066d58
