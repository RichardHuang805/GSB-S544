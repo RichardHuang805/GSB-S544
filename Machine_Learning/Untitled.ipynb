{
 "cells": [
  {
   "cell_type": "raw",
   "id": "3cfdbaaa",
   "metadata": {},
   "source": [
    "remember the title thing"
   ]
  },
  {
   "cell_type": "code",
   "execution_count": 16,
   "id": "ba880a0a",
   "metadata": {},
   "outputs": [
    {
     "name": "stdout",
     "output_type": "stream",
     "text": [
      "Collecting plotnine\n",
      "  Obtaining dependency information for plotnine from https://files.pythonhosted.org/packages/eb/c1/fcc5985eee6511aa321e68c8f813d9fdbe1b506713a95d4f612a5f963270/plotnine-0.12.3-py3-none-any.whl.metadata\n",
      "  Downloading plotnine-0.12.3-py3-none-any.whl.metadata (8.9 kB)\n",
      "Requirement already satisfied: matplotlib>=3.6.0 in /Users/richlegendary/anaconda3/lib/python3.11/site-packages (from plotnine) (3.7.2)\n",
      "Collecting mizani<0.10.0,>0.9.0 (from plotnine)\n",
      "  Obtaining dependency information for mizani<0.10.0,>0.9.0 from https://files.pythonhosted.org/packages/e2/95/d4e33d3f5bc9fee5512637661208b6b595bda58e9b6a66fa867137761dd7/mizani-0.9.3-py3-none-any.whl.metadata\n",
      "  Downloading mizani-0.9.3-py3-none-any.whl.metadata (4.6 kB)\n",
      "Requirement already satisfied: numpy>=1.23.0 in /Users/richlegendary/anaconda3/lib/python3.11/site-packages (from plotnine) (1.24.3)\n",
      "Requirement already satisfied: pandas>=1.5.0 in /Users/richlegendary/anaconda3/lib/python3.11/site-packages (from plotnine) (2.0.3)\n",
      "Requirement already satisfied: patsy>=0.5.1 in /Users/richlegendary/anaconda3/lib/python3.11/site-packages (from plotnine) (0.5.3)\n",
      "Requirement already satisfied: scipy>=1.5.0 in /Users/richlegendary/anaconda3/lib/python3.11/site-packages (from plotnine) (1.11.1)\n",
      "Requirement already satisfied: statsmodels>=0.14.0 in /Users/richlegendary/anaconda3/lib/python3.11/site-packages (from plotnine) (0.14.0)\n",
      "Requirement already satisfied: contourpy>=1.0.1 in /Users/richlegendary/anaconda3/lib/python3.11/site-packages (from matplotlib>=3.6.0->plotnine) (1.0.5)\n",
      "Requirement already satisfied: cycler>=0.10 in /Users/richlegendary/anaconda3/lib/python3.11/site-packages (from matplotlib>=3.6.0->plotnine) (0.11.0)\n",
      "Requirement already satisfied: fonttools>=4.22.0 in /Users/richlegendary/anaconda3/lib/python3.11/site-packages (from matplotlib>=3.6.0->plotnine) (4.25.0)\n",
      "Requirement already satisfied: kiwisolver>=1.0.1 in /Users/richlegendary/anaconda3/lib/python3.11/site-packages (from matplotlib>=3.6.0->plotnine) (1.4.4)\n",
      "Requirement already satisfied: packaging>=20.0 in /Users/richlegendary/anaconda3/lib/python3.11/site-packages (from matplotlib>=3.6.0->plotnine) (23.1)\n",
      "Requirement already satisfied: pillow>=6.2.0 in /Users/richlegendary/anaconda3/lib/python3.11/site-packages (from matplotlib>=3.6.0->plotnine) (9.4.0)\n",
      "Requirement already satisfied: pyparsing<3.1,>=2.3.1 in /Users/richlegendary/anaconda3/lib/python3.11/site-packages (from matplotlib>=3.6.0->plotnine) (3.0.9)\n",
      "Requirement already satisfied: python-dateutil>=2.7 in /Users/richlegendary/anaconda3/lib/python3.11/site-packages (from matplotlib>=3.6.0->plotnine) (2.8.2)\n",
      "Requirement already satisfied: pytz>=2020.1 in /Users/richlegendary/anaconda3/lib/python3.11/site-packages (from pandas>=1.5.0->plotnine) (2023.3.post1)\n",
      "Requirement already satisfied: tzdata>=2022.1 in /Users/richlegendary/anaconda3/lib/python3.11/site-packages (from pandas>=1.5.0->plotnine) (2023.3)\n",
      "Requirement already satisfied: six in /Users/richlegendary/anaconda3/lib/python3.11/site-packages (from patsy>=0.5.1->plotnine) (1.16.0)\n",
      "Downloading plotnine-0.12.3-py3-none-any.whl (1.3 MB)\n",
      "\u001b[2K   \u001b[90m━━━━━━━━━━━━━━━━━━━━━━━━━━━━━━━━━━━━━━━━\u001b[0m \u001b[32m1.3/1.3 MB\u001b[0m \u001b[31m10.1 MB/s\u001b[0m eta \u001b[36m0:00:00\u001b[0ma \u001b[36m0:00:01\u001b[0m\n",
      "\u001b[?25hDownloading mizani-0.9.3-py3-none-any.whl (73 kB)\n",
      "\u001b[2K   \u001b[90m━━━━━━━━━━━━━━━━━━━━━━━━━━━━━━━━━━━━━━━━\u001b[0m \u001b[32m73.7/73.7 kB\u001b[0m \u001b[31m13.0 MB/s\u001b[0m eta \u001b[36m0:00:00\u001b[0m\n",
      "\u001b[?25hInstalling collected packages: mizani, plotnine\n",
      "Successfully installed mizani-0.9.3 plotnine-0.12.3\n",
      "Note: you may need to restart the kernel to use updated packages.\n"
     ]
    }
   ],
   "source": [
    "pip install plotnine"
   ]
  },
  {
   "cell_type": "markdown",
   "id": "aa661434",
   "metadata": {},
   "source": [
    "Part One: Data Exploration\n",
    "The dataset we will study for this assignment contains information about health insurance costs for individuals with no dependents (children) in the United States. The information contained in the data is:\n",
    "\n",
    "Age of primary beneficiary\n",
    "\n",
    "Gender of primary beneficiary (only female, male recorded)\n",
    "\n",
    "Body mass index, providing an understanding of body, weights that are relatively high or low relative to height, objective index of body weight (kg / m ^ 2) using the ratio of height to weight, ideally 18.5 to 24.9\n",
    "\n",
    "Whether the beneficiary smokes\n",
    "\n",
    "The beneficiary’s residential area in the US, northeast, southeast, southwest, northwest.\n",
    "\n",
    "Individual medical costs billed by health insurance\n",
    "\n",
    "You can find this data at: https://www.dropbox.com/s/bocjjyo1ehr5auz/insurance_costs_1.csv?dl=1"
   ]
  },
  {
   "cell_type": "markdown",
   "id": "7e980502",
   "metadata": {},
   "source": [
    "1. Read in the dataset, and display some summaries of the data."
   ]
  },
  {
   "cell_type": "code",
   "execution_count": 4,
   "id": "ac5942e1",
   "metadata": {},
   "outputs": [],
   "source": [
    "import pandas as pd"
   ]
  },
  {
   "cell_type": "code",
   "execution_count": 155,
   "id": "07ba59c3",
   "metadata": {
    "scrolled": true
   },
   "outputs": [
    {
     "data": {
      "text/html": [
       "<div>\n",
       "<style scoped>\n",
       "    .dataframe tbody tr th:only-of-type {\n",
       "        vertical-align: middle;\n",
       "    }\n",
       "\n",
       "    .dataframe tbody tr th {\n",
       "        vertical-align: top;\n",
       "    }\n",
       "\n",
       "    .dataframe thead th {\n",
       "        text-align: right;\n",
       "    }\n",
       "</style>\n",
       "<table border=\"1\" class=\"dataframe\">\n",
       "  <thead>\n",
       "    <tr style=\"text-align: right;\">\n",
       "      <th></th>\n",
       "      <th>age</th>\n",
       "      <th>sex</th>\n",
       "      <th>bmi</th>\n",
       "      <th>smoker</th>\n",
       "      <th>region</th>\n",
       "      <th>charges</th>\n",
       "    </tr>\n",
       "  </thead>\n",
       "  <tbody>\n",
       "    <tr>\n",
       "      <th>0</th>\n",
       "      <td>19</td>\n",
       "      <td>female</td>\n",
       "      <td>27.900</td>\n",
       "      <td>yes</td>\n",
       "      <td>southwest</td>\n",
       "      <td>16884.92400</td>\n",
       "    </tr>\n",
       "    <tr>\n",
       "      <th>1</th>\n",
       "      <td>33</td>\n",
       "      <td>male</td>\n",
       "      <td>22.705</td>\n",
       "      <td>no</td>\n",
       "      <td>northwest</td>\n",
       "      <td>21984.47061</td>\n",
       "    </tr>\n",
       "    <tr>\n",
       "      <th>2</th>\n",
       "      <td>32</td>\n",
       "      <td>male</td>\n",
       "      <td>28.880</td>\n",
       "      <td>no</td>\n",
       "      <td>northwest</td>\n",
       "      <td>3866.85520</td>\n",
       "    </tr>\n",
       "    <tr>\n",
       "      <th>3</th>\n",
       "      <td>31</td>\n",
       "      <td>female</td>\n",
       "      <td>25.740</td>\n",
       "      <td>no</td>\n",
       "      <td>southeast</td>\n",
       "      <td>3756.62160</td>\n",
       "    </tr>\n",
       "    <tr>\n",
       "      <th>4</th>\n",
       "      <td>60</td>\n",
       "      <td>female</td>\n",
       "      <td>25.840</td>\n",
       "      <td>no</td>\n",
       "      <td>northwest</td>\n",
       "      <td>28923.13692</td>\n",
       "    </tr>\n",
       "    <tr>\n",
       "      <th>...</th>\n",
       "      <td>...</td>\n",
       "      <td>...</td>\n",
       "      <td>...</td>\n",
       "      <td>...</td>\n",
       "      <td>...</td>\n",
       "      <td>...</td>\n",
       "    </tr>\n",
       "    <tr>\n",
       "      <th>426</th>\n",
       "      <td>23</td>\n",
       "      <td>female</td>\n",
       "      <td>33.400</td>\n",
       "      <td>no</td>\n",
       "      <td>southwest</td>\n",
       "      <td>10795.93733</td>\n",
       "    </tr>\n",
       "    <tr>\n",
       "      <th>427</th>\n",
       "      <td>18</td>\n",
       "      <td>female</td>\n",
       "      <td>31.920</td>\n",
       "      <td>no</td>\n",
       "      <td>northeast</td>\n",
       "      <td>2205.98080</td>\n",
       "    </tr>\n",
       "    <tr>\n",
       "      <th>428</th>\n",
       "      <td>18</td>\n",
       "      <td>female</td>\n",
       "      <td>36.850</td>\n",
       "      <td>no</td>\n",
       "      <td>southeast</td>\n",
       "      <td>1629.83350</td>\n",
       "    </tr>\n",
       "    <tr>\n",
       "      <th>429</th>\n",
       "      <td>21</td>\n",
       "      <td>female</td>\n",
       "      <td>25.800</td>\n",
       "      <td>no</td>\n",
       "      <td>southwest</td>\n",
       "      <td>2007.94500</td>\n",
       "    </tr>\n",
       "    <tr>\n",
       "      <th>430</th>\n",
       "      <td>61</td>\n",
       "      <td>female</td>\n",
       "      <td>29.070</td>\n",
       "      <td>yes</td>\n",
       "      <td>northwest</td>\n",
       "      <td>29141.36030</td>\n",
       "    </tr>\n",
       "  </tbody>\n",
       "</table>\n",
       "<p>431 rows × 6 columns</p>\n",
       "</div>"
      ],
      "text/plain": [
       "     age     sex     bmi smoker     region      charges\n",
       "0     19  female  27.900    yes  southwest  16884.92400\n",
       "1     33    male  22.705     no  northwest  21984.47061\n",
       "2     32    male  28.880     no  northwest   3866.85520\n",
       "3     31  female  25.740     no  southeast   3756.62160\n",
       "4     60  female  25.840     no  northwest  28923.13692\n",
       "..   ...     ...     ...    ...        ...          ...\n",
       "426   23  female  33.400     no  southwest  10795.93733\n",
       "427   18  female  31.920     no  northeast   2205.98080\n",
       "428   18  female  36.850     no  southeast   1629.83350\n",
       "429   21  female  25.800     no  southwest   2007.94500\n",
       "430   61  female  29.070    yes  northwest  29141.36030\n",
       "\n",
       "[431 rows x 6 columns]"
      ]
     },
     "execution_count": 155,
     "metadata": {},
     "output_type": "execute_result"
    }
   ],
   "source": [
    "myData = pd.read_csv('https://www.dropbox.com/s/bocjjyo1ehr5auz/insurance_costs_1.csv?dl=1')\n",
    "myData"
   ]
  },
  {
   "cell_type": "code",
   "execution_count": 7,
   "id": "b719d829",
   "metadata": {
    "scrolled": false
   },
   "outputs": [
    {
     "name": "stdout",
     "output_type": "stream",
     "text": [
      "              age         bmi       charges\n",
      "count  431.000000  431.000000    431.000000\n",
      "mean    37.960557   30.768898  12297.098118\n",
      "std     16.363909    6.111362  11876.527128\n",
      "min     18.000000   15.960000   1131.506600\n",
      "25%     22.000000   26.357500   2710.444575\n",
      "50%     34.000000   30.590000   9866.304850\n",
      "75%     55.000000   35.272500  14510.872600\n",
      "max     64.000000   49.060000  55135.402090\n"
     ]
    }
   ],
   "source": [
    "summary = myData.describe()\n",
    "print(summary)"
   ]
  },
  {
   "cell_type": "code",
   "execution_count": 9,
   "id": "bac6a6be",
   "metadata": {},
   "outputs": [
    {
     "data": {
      "text/plain": [
       "array(['southwest', 'northwest', 'southeast', 'northeast'], dtype=object)"
      ]
     },
     "execution_count": 9,
     "metadata": {},
     "output_type": "execute_result"
    }
   ],
   "source": [
    "unique_values = myData['region'].unique()\n",
    "unique_values"
   ]
  },
  {
   "cell_type": "markdown",
   "id": "1314107e",
   "metadata": {},
   "source": [
    "2. Fix any concerns you have about the data.\n",
    "\n",
    "I will drop all the nan rows"
   ]
  },
  {
   "cell_type": "code",
   "execution_count": 11,
   "id": "098bd340",
   "metadata": {
    "scrolled": true
   },
   "outputs": [],
   "source": [
    "myData.dropna(inplace=True)"
   ]
  },
  {
   "cell_type": "markdown",
   "id": "44872caa",
   "metadata": {},
   "source": [
    "3. Make up to three plots comparing the response variable (charges) to one of the predictor variables. Briefly discuss each plot."
   ]
  },
  {
   "cell_type": "code",
   "execution_count": 33,
   "id": "9f733245",
   "metadata": {},
   "outputs": [],
   "source": [
    "from plotnine import ggplot, geom_point, aes, geom_boxplot, geom_bar, labs, ggtitle, scale_fill_manual"
   ]
  },
  {
   "cell_type": "code",
   "execution_count": 36,
   "id": "18fef0c5",
   "metadata": {
    "scrolled": true
   },
   "outputs": [
    {
     "data": {
      "image/png": "[encoded data removed]",
      "text/plain": [
       "<Figure size 640x480 with 1 Axes>"
      ]
     },
     "metadata": {
      "image/png": {
       "height": 480,
       "width": 640
      }
     },
     "output_type": "display_data"
    },
    {
     "name": "stdout",
     "output_type": "stream",
     "text": [
      "\n"
     ]
    }
   ],
   "source": [
    "graph_one = ggplot(aes(x='factor(smoker)', y='charges', fill='factor(smoker)'), myData) + \\\n",
    "    geom_boxplot() + \\\n",
    "    scale_fill_manual(values=[\"red\", \"blue\"]) + \\\n",
    "    labs(x='Smoker', y='Charges') + \\\n",
    "    ggtitle('Colored Box Plot of Charges by Smoker and nonSmoker')\n",
    "print (graph_one)\n"
   ]
  },
  {
   "cell_type": "markdown",
   "id": "43b04560",
   "metadata": {},
   "source": [
    "It is clear that the charges for smoker is higher than nonsmoker. The median for smoker is higher the one for nonsmoker by approximately 15000 dollar. On the other hand, there are still some overlaps between the two groups."
   ]
  },
  {
   "cell_type": "code",
   "execution_count": 37,
   "id": "85bcd110",
   "metadata": {
    "scrolled": true
   },
   "outputs": [
    {
     "data": {
      "image/png": "[encoded data removed]",
      "text/plain": [
       "<Figure size 640x480 with 1 Axes>"
      ]
     },
     "metadata": {
      "image/png": {
       "height": 480,
       "width": 640
      }
     },
     "output_type": "display_data"
    },
    {
     "name": "stdout",
     "output_type": "stream",
     "text": [
      "\n"
     ]
    }
   ],
   "source": [
    "graph_two = ggplot(aes(x='factor(sex)', y='charges', fill='factor(sex)'), myData) + \\\n",
    "    geom_boxplot() + \\\n",
    "    scale_fill_manual(values=[\"yellow\", \"green\"]) + \\\n",
    "    labs(x='Sex', y='Charges') + \\\n",
    "    ggtitle('Colored Box Plot of Charges by Sex')\n",
    "print (graph_two)"
   ]
  },
  {
   "cell_type": "markdown",
   "id": "c6030694",
   "metadata": {},
   "source": [
    "We can tell that the chargers between male and female are not significantly different from each other. Males median charges are higher slightly. In addition, females' highest charge is higher than the males' highest charge."
   ]
  },
  {
   "cell_type": "code",
   "execution_count": 38,
   "id": "b186a9f2",
   "metadata": {
    "scrolled": true
   },
   "outputs": [
    {
     "data": {
      "image/png": "[encoded data removed]",
      "text/plain": [
       "<Figure size 640x480 with 1 Axes>"
      ]
     },
     "metadata": {
      "image/png": {
       "height": 480,
       "width": 640
      }
     },
     "output_type": "display_data"
    },
    {
     "name": "stdout",
     "output_type": "stream",
     "text": [
      "\n"
     ]
    }
   ],
   "source": [
    "graph_three = ggplot(aes(x='factor(region)', y='charges', fill='factor(region)'), myData) + \\\n",
    "    geom_boxplot() + \\\n",
    "    scale_fill_manual(values=[\"pink\", \"purple\", \"green\", \"orange\"]) + \\\n",
    "    labs(x='Region', y='Charges') + \\\n",
    "    ggtitle('Colored Box Plot of Charges by Region')\n",
    "print (graph_three)"
   ]
  },
  {
   "cell_type": "markdown",
   "id": "d834c07f",
   "metadata": {},
   "source": [
    "It seems like charges don't vary greatly with different regions either. Northeast region has the highest median out of the four groups and southeast region seems to have the biggest variation (25th percentile to 75th percentile distance is the greatest out of the four groups.)"
   ]
  },
  {
   "cell_type": "markdown",
   "id": "b4977770",
   "metadata": {},
   "source": [
    "Part Two: Simple Linear Models\n",
    "1. Construct a simple linear model to predict the insurance charges from the beneficiary’s age. Discuss the model fit, and interpret the coefficient estimates."
   ]
  },
  {
   "cell_type": "code",
   "execution_count": 40,
   "id": "e3f6db0b",
   "metadata": {},
   "outputs": [],
   "source": [
    "import numpy as np\n",
    "import pandas as pd\n",
    "from plotnine import ggplot, aes, geom_point, geom_bar,scale_y_continuous, geom_line\n",
    "from sklearn.linear_model import LinearRegression\n",
    "from sklearn.pipeline import Pipeline\n",
    "from sklearn.model_selection import train_test_split\n",
    "from sklearn.compose import ColumnTransformer\n",
    "from sklearn.preprocessing import OneHotEncoder\n",
    "from sklearn.preprocessing import PolynomialFeatures\n",
    "from sklearn.metrics import r2_score"
   ]
  },
  {
   "cell_type": "code",
   "execution_count": 92,
   "id": "2ef10089",
   "metadata": {},
   "outputs": [
    {
     "data": {
      "text/plain": [
       "array([214.30042316])"
      ]
     },
     "execution_count": 92,
     "metadata": {},
     "output_type": "execute_result"
    }
   ],
   "source": [
    "x = myData[['age']]\n",
    "y = myData['charges']\n",
    "\n",
    "x_train, x_test, y_train, y_test = train_test_split(x,y,test_size=0.25)\n",
    "\n",
    "lr = LinearRegression()\n",
    "\n",
    "my_pipeline = Pipeline(\n",
    "    [('ols', lr)]\n",
    ")\n",
    "\n",
    "\n",
    "fitted_pipeline=my_pipeline.fit(x_train,y_train)\n",
    "fitted_pipeline\n",
    "\n",
    "fitted_pipeline.named_steps['ols'].coef_"
   ]
  },
  {
   "cell_type": "code",
   "execution_count": 93,
   "id": "b3cd29f3",
   "metadata": {},
   "outputs": [
    {
     "data": {
      "text/plain": [
       "4305.8531671585515"
      ]
     },
     "execution_count": 93,
     "metadata": {},
     "output_type": "execute_result"
    }
   ],
   "source": [
    "fitted_pipeline.named_steps['ols'].intercept_"
   ]
  },
  {
   "cell_type": "code",
   "execution_count": 94,
   "id": "84ae2551",
   "metadata": {},
   "outputs": [
    {
     "data": {
      "text/plain": [
       "0.13770201679376481"
      ]
     },
     "execution_count": 94,
     "metadata": {},
     "output_type": "execute_result"
    }
   ],
   "source": [
    "y_preds_1 = fitted_pipeline.predict(x_test)\n",
    "r2 = r2_score(y_test, y_preds_1)\n",
    "r2"
   ]
  },
  {
   "cell_type": "markdown",
   "id": "866b42d8",
   "metadata": {},
   "source": [
    "We got this model: Charges = Agex214+4305. This is a simple linear model with only ages being a dependent variables to predict charges. With every additional years old increased in ages, the expected charges will increase by 214. If someone is 0 years old, the expected insurance charges will be 4305. I got a r-square value of 14% in this model which seems terrible, meaning only 14% of the charges value can be explained with this model. Considered this model is a simple linear model with one variable, such low r-square is somewhat expected."
   ]
  },
  {
   "cell_type": "markdown",
   "id": "60b3bc32",
   "metadata": {},
   "source": [
    "2. Make a model that also incorporates the variable sex. Report your results."
   ]
  },
  {
   "cell_type": "code",
   "execution_count": 95,
   "id": "ab4a948d",
   "metadata": {},
   "outputs": [
    {
     "data": {
      "text/html": [
       "<div>\n",
       "<style scoped>\n",
       "    .dataframe tbody tr th:only-of-type {\n",
       "        vertical-align: middle;\n",
       "    }\n",
       "\n",
       "    .dataframe tbody tr th {\n",
       "        vertical-align: top;\n",
       "    }\n",
       "\n",
       "    .dataframe thead th {\n",
       "        text-align: right;\n",
       "    }\n",
       "</style>\n",
       "<table border=\"1\" class=\"dataframe\">\n",
       "  <thead>\n",
       "    <tr style=\"text-align: right;\">\n",
       "      <th></th>\n",
       "      <th>age</th>\n",
       "      <th>sex</th>\n",
       "      <th>bmi</th>\n",
       "      <th>smoker</th>\n",
       "      <th>region</th>\n",
       "      <th>charges</th>\n",
       "      <th>nonsmoker</th>\n",
       "      <th>yessmoker</th>\n",
       "      <th>female</th>\n",
       "      <th>male</th>\n",
       "    </tr>\n",
       "  </thead>\n",
       "  <tbody>\n",
       "    <tr>\n",
       "      <th>0</th>\n",
       "      <td>19</td>\n",
       "      <td>female</td>\n",
       "      <td>27.900</td>\n",
       "      <td>yes</td>\n",
       "      <td>southwest</td>\n",
       "      <td>16884.92400</td>\n",
       "      <td>0</td>\n",
       "      <td>1</td>\n",
       "      <td>1</td>\n",
       "      <td>0</td>\n",
       "    </tr>\n",
       "    <tr>\n",
       "      <th>1</th>\n",
       "      <td>33</td>\n",
       "      <td>male</td>\n",
       "      <td>22.705</td>\n",
       "      <td>no</td>\n",
       "      <td>northwest</td>\n",
       "      <td>21984.47061</td>\n",
       "      <td>1</td>\n",
       "      <td>0</td>\n",
       "      <td>0</td>\n",
       "      <td>1</td>\n",
       "    </tr>\n",
       "    <tr>\n",
       "      <th>2</th>\n",
       "      <td>32</td>\n",
       "      <td>male</td>\n",
       "      <td>28.880</td>\n",
       "      <td>no</td>\n",
       "      <td>northwest</td>\n",
       "      <td>3866.85520</td>\n",
       "      <td>1</td>\n",
       "      <td>0</td>\n",
       "      <td>0</td>\n",
       "      <td>1</td>\n",
       "    </tr>\n",
       "    <tr>\n",
       "      <th>3</th>\n",
       "      <td>31</td>\n",
       "      <td>female</td>\n",
       "      <td>25.740</td>\n",
       "      <td>no</td>\n",
       "      <td>southeast</td>\n",
       "      <td>3756.62160</td>\n",
       "      <td>1</td>\n",
       "      <td>0</td>\n",
       "      <td>1</td>\n",
       "      <td>0</td>\n",
       "    </tr>\n",
       "    <tr>\n",
       "      <th>4</th>\n",
       "      <td>60</td>\n",
       "      <td>female</td>\n",
       "      <td>25.840</td>\n",
       "      <td>no</td>\n",
       "      <td>northwest</td>\n",
       "      <td>28923.13692</td>\n",
       "      <td>1</td>\n",
       "      <td>0</td>\n",
       "      <td>1</td>\n",
       "      <td>0</td>\n",
       "    </tr>\n",
       "    <tr>\n",
       "      <th>...</th>\n",
       "      <td>...</td>\n",
       "      <td>...</td>\n",
       "      <td>...</td>\n",
       "      <td>...</td>\n",
       "      <td>...</td>\n",
       "      <td>...</td>\n",
       "      <td>...</td>\n",
       "      <td>...</td>\n",
       "      <td>...</td>\n",
       "      <td>...</td>\n",
       "    </tr>\n",
       "    <tr>\n",
       "      <th>426</th>\n",
       "      <td>23</td>\n",
       "      <td>female</td>\n",
       "      <td>33.400</td>\n",
       "      <td>no</td>\n",
       "      <td>southwest</td>\n",
       "      <td>10795.93733</td>\n",
       "      <td>1</td>\n",
       "      <td>0</td>\n",
       "      <td>1</td>\n",
       "      <td>0</td>\n",
       "    </tr>\n",
       "    <tr>\n",
       "      <th>427</th>\n",
       "      <td>18</td>\n",
       "      <td>female</td>\n",
       "      <td>31.920</td>\n",
       "      <td>no</td>\n",
       "      <td>northeast</td>\n",
       "      <td>2205.98080</td>\n",
       "      <td>1</td>\n",
       "      <td>0</td>\n",
       "      <td>1</td>\n",
       "      <td>0</td>\n",
       "    </tr>\n",
       "    <tr>\n",
       "      <th>428</th>\n",
       "      <td>18</td>\n",
       "      <td>female</td>\n",
       "      <td>36.850</td>\n",
       "      <td>no</td>\n",
       "      <td>southeast</td>\n",
       "      <td>1629.83350</td>\n",
       "      <td>1</td>\n",
       "      <td>0</td>\n",
       "      <td>1</td>\n",
       "      <td>0</td>\n",
       "    </tr>\n",
       "    <tr>\n",
       "      <th>429</th>\n",
       "      <td>21</td>\n",
       "      <td>female</td>\n",
       "      <td>25.800</td>\n",
       "      <td>no</td>\n",
       "      <td>southwest</td>\n",
       "      <td>2007.94500</td>\n",
       "      <td>1</td>\n",
       "      <td>0</td>\n",
       "      <td>1</td>\n",
       "      <td>0</td>\n",
       "    </tr>\n",
       "    <tr>\n",
       "      <th>430</th>\n",
       "      <td>61</td>\n",
       "      <td>female</td>\n",
       "      <td>29.070</td>\n",
       "      <td>yes</td>\n",
       "      <td>northwest</td>\n",
       "      <td>29141.36030</td>\n",
       "      <td>0</td>\n",
       "      <td>1</td>\n",
       "      <td>1</td>\n",
       "      <td>0</td>\n",
       "    </tr>\n",
       "  </tbody>\n",
       "</table>\n",
       "<p>431 rows × 10 columns</p>\n",
       "</div>"
      ],
      "text/plain": [
       "     age     sex     bmi smoker     region      charges  nonsmoker  yessmoker  \\\n",
       "0     19  female  27.900    yes  southwest  16884.92400          0          1   \n",
       "1     33    male  22.705     no  northwest  21984.47061          1          0   \n",
       "2     32    male  28.880     no  northwest   3866.85520          1          0   \n",
       "3     31  female  25.740     no  southeast   3756.62160          1          0   \n",
       "4     60  female  25.840     no  northwest  28923.13692          1          0   \n",
       "..   ...     ...     ...    ...        ...          ...        ...        ...   \n",
       "426   23  female  33.400     no  southwest  10795.93733          1          0   \n",
       "427   18  female  31.920     no  northeast   2205.98080          1          0   \n",
       "428   18  female  36.850     no  southeast   1629.83350          1          0   \n",
       "429   21  female  25.800     no  southwest   2007.94500          1          0   \n",
       "430   61  female  29.070    yes  northwest  29141.36030          0          1   \n",
       "\n",
       "     female  male  \n",
       "0         1     0  \n",
       "1         0     1  \n",
       "2         0     1  \n",
       "3         1     0  \n",
       "4         1     0  \n",
       "..      ...   ...  \n",
       "426       1     0  \n",
       "427       1     0  \n",
       "428       1     0  \n",
       "429       1     0  \n",
       "430       1     0  \n",
       "\n",
       "[431 rows x 10 columns]"
      ]
     },
     "execution_count": 95,
     "metadata": {},
     "output_type": "execute_result"
    }
   ],
   "source": [
    "sex_dummies = pd.get_dummies(myData['sex'])\n",
    "myData = pd.concat([myData, sex_dummies.astype(int)], axis=1)\n",
    "myData"
   ]
  },
  {
   "cell_type": "code",
   "execution_count": 104,
   "id": "a9d127ca",
   "metadata": {},
   "outputs": [
    {
     "data": {
      "text/plain": [
       "array([ 230.66834425, -735.9722869 ])"
      ]
     },
     "execution_count": 104,
     "metadata": {},
     "output_type": "execute_result"
    }
   ],
   "source": [
    "x = myData[['age', 'female']]\n",
    "y = myData['charges']\n",
    "\n",
    "x_train, x_test, y_train, y_test = train_test_split(x,y,test_size=0.25)\n",
    "\n",
    "x_train\n",
    "\n",
    "lr = LinearRegression()\n",
    "lr_fit = lr.fit(x_train, y_train)\n",
    "lr_fit.coef_"
   ]
  },
  {
   "cell_type": "code",
   "execution_count": 105,
   "id": "6aab3c1f",
   "metadata": {},
   "outputs": [
    {
     "data": {
      "text/plain": [
       "3775.886786467212"
      ]
     },
     "execution_count": 105,
     "metadata": {},
     "output_type": "execute_result"
    }
   ],
   "source": [
    "lr_fit.intercept_"
   ]
  },
  {
   "cell_type": "code",
   "execution_count": 108,
   "id": "f4564484",
   "metadata": {},
   "outputs": [
    {
     "data": {
      "text/plain": [
       "0.0810514090011758"
      ]
     },
     "execution_count": 108,
     "metadata": {},
     "output_type": "execute_result"
    }
   ],
   "source": [
    "y_pred_2 = lr_fit.predict(x_test)\n",
    "r2 = r2_score(y_test, y_pred_2)\n",
    "r2"
   ]
  },
  {
   "cell_type": "markdown",
   "id": "874497d4",
   "metadata": {},
   "source": [
    "This model turns out to look like: charges = 3774 + 231 x age - 736 x female.\n",
    "It has an r2 of 8%, which decreased by 5% from our previos simple linear model with only age. Adding female is a worse idea than just having age itself. \n",
    "With an additional year old increased in age, charges go up by 231. If it's a female, the charges is expected be lower than male by 736."
   ]
  },
  {
   "cell_type": "markdown",
   "id": "8e91d210",
   "metadata": {},
   "source": [
    "3. Now make a model that does not include sex, but does include smoker. Report your results"
   ]
  },
  {
   "cell_type": "code",
   "execution_count": 110,
   "id": "f4c4aceb",
   "metadata": {},
   "outputs": [
    {
     "data": {
      "text/html": [
       "<div>\n",
       "<style scoped>\n",
       "    .dataframe tbody tr th:only-of-type {\n",
       "        vertical-align: middle;\n",
       "    }\n",
       "\n",
       "    .dataframe tbody tr th {\n",
       "        vertical-align: top;\n",
       "    }\n",
       "\n",
       "    .dataframe thead th {\n",
       "        text-align: right;\n",
       "    }\n",
       "</style>\n",
       "<table border=\"1\" class=\"dataframe\">\n",
       "  <thead>\n",
       "    <tr style=\"text-align: right;\">\n",
       "      <th></th>\n",
       "      <th>age</th>\n",
       "      <th>sex</th>\n",
       "      <th>bmi</th>\n",
       "      <th>smoker</th>\n",
       "      <th>region</th>\n",
       "      <th>charges</th>\n",
       "      <th>nonsmoker</th>\n",
       "      <th>yessmoker</th>\n",
       "    </tr>\n",
       "  </thead>\n",
       "  <tbody>\n",
       "    <tr>\n",
       "      <th>0</th>\n",
       "      <td>19</td>\n",
       "      <td>female</td>\n",
       "      <td>27.900</td>\n",
       "      <td>yes</td>\n",
       "      <td>southwest</td>\n",
       "      <td>16884.92400</td>\n",
       "      <td>0</td>\n",
       "      <td>1</td>\n",
       "    </tr>\n",
       "    <tr>\n",
       "      <th>1</th>\n",
       "      <td>33</td>\n",
       "      <td>male</td>\n",
       "      <td>22.705</td>\n",
       "      <td>no</td>\n",
       "      <td>northwest</td>\n",
       "      <td>21984.47061</td>\n",
       "      <td>1</td>\n",
       "      <td>0</td>\n",
       "    </tr>\n",
       "    <tr>\n",
       "      <th>2</th>\n",
       "      <td>32</td>\n",
       "      <td>male</td>\n",
       "      <td>28.880</td>\n",
       "      <td>no</td>\n",
       "      <td>northwest</td>\n",
       "      <td>3866.85520</td>\n",
       "      <td>1</td>\n",
       "      <td>0</td>\n",
       "    </tr>\n",
       "    <tr>\n",
       "      <th>3</th>\n",
       "      <td>31</td>\n",
       "      <td>female</td>\n",
       "      <td>25.740</td>\n",
       "      <td>no</td>\n",
       "      <td>southeast</td>\n",
       "      <td>3756.62160</td>\n",
       "      <td>1</td>\n",
       "      <td>0</td>\n",
       "    </tr>\n",
       "    <tr>\n",
       "      <th>4</th>\n",
       "      <td>60</td>\n",
       "      <td>female</td>\n",
       "      <td>25.840</td>\n",
       "      <td>no</td>\n",
       "      <td>northwest</td>\n",
       "      <td>28923.13692</td>\n",
       "      <td>1</td>\n",
       "      <td>0</td>\n",
       "    </tr>\n",
       "    <tr>\n",
       "      <th>...</th>\n",
       "      <td>...</td>\n",
       "      <td>...</td>\n",
       "      <td>...</td>\n",
       "      <td>...</td>\n",
       "      <td>...</td>\n",
       "      <td>...</td>\n",
       "      <td>...</td>\n",
       "      <td>...</td>\n",
       "    </tr>\n",
       "    <tr>\n",
       "      <th>426</th>\n",
       "      <td>23</td>\n",
       "      <td>female</td>\n",
       "      <td>33.400</td>\n",
       "      <td>no</td>\n",
       "      <td>southwest</td>\n",
       "      <td>10795.93733</td>\n",
       "      <td>1</td>\n",
       "      <td>0</td>\n",
       "    </tr>\n",
       "    <tr>\n",
       "      <th>427</th>\n",
       "      <td>18</td>\n",
       "      <td>female</td>\n",
       "      <td>31.920</td>\n",
       "      <td>no</td>\n",
       "      <td>northeast</td>\n",
       "      <td>2205.98080</td>\n",
       "      <td>1</td>\n",
       "      <td>0</td>\n",
       "    </tr>\n",
       "    <tr>\n",
       "      <th>428</th>\n",
       "      <td>18</td>\n",
       "      <td>female</td>\n",
       "      <td>36.850</td>\n",
       "      <td>no</td>\n",
       "      <td>southeast</td>\n",
       "      <td>1629.83350</td>\n",
       "      <td>1</td>\n",
       "      <td>0</td>\n",
       "    </tr>\n",
       "    <tr>\n",
       "      <th>429</th>\n",
       "      <td>21</td>\n",
       "      <td>female</td>\n",
       "      <td>25.800</td>\n",
       "      <td>no</td>\n",
       "      <td>southwest</td>\n",
       "      <td>2007.94500</td>\n",
       "      <td>1</td>\n",
       "      <td>0</td>\n",
       "    </tr>\n",
       "    <tr>\n",
       "      <th>430</th>\n",
       "      <td>61</td>\n",
       "      <td>female</td>\n",
       "      <td>29.070</td>\n",
       "      <td>yes</td>\n",
       "      <td>northwest</td>\n",
       "      <td>29141.36030</td>\n",
       "      <td>0</td>\n",
       "      <td>1</td>\n",
       "    </tr>\n",
       "  </tbody>\n",
       "</table>\n",
       "<p>431 rows × 8 columns</p>\n",
       "</div>"
      ],
      "text/plain": [
       "     age     sex     bmi smoker     region      charges  nonsmoker  yessmoker\n",
       "0     19  female  27.900    yes  southwest  16884.92400          0          1\n",
       "1     33    male  22.705     no  northwest  21984.47061          1          0\n",
       "2     32    male  28.880     no  northwest   3866.85520          1          0\n",
       "3     31  female  25.740     no  southeast   3756.62160          1          0\n",
       "4     60  female  25.840     no  northwest  28923.13692          1          0\n",
       "..   ...     ...     ...    ...        ...          ...        ...        ...\n",
       "426   23  female  33.400     no  southwest  10795.93733          1          0\n",
       "427   18  female  31.920     no  northeast   2205.98080          1          0\n",
       "428   18  female  36.850     no  southeast   1629.83350          1          0\n",
       "429   21  female  25.800     no  southwest   2007.94500          1          0\n",
       "430   61  female  29.070    yes  northwest  29141.36030          0          1\n",
       "\n",
       "[431 rows x 8 columns]"
      ]
     },
     "execution_count": 110,
     "metadata": {},
     "output_type": "execute_result"
    }
   ],
   "source": [
    "smoker_dummies = pd.get_dummies(myData['smoker'])\n",
    "myData = pd.concat([myData, smoker_dummies.astype(int)], axis=1)\n",
    "myData = myData.rename(columns={'no': 'nonsmoker'})\n",
    "myData = myData.rename(columns={'yes': 'yessmoker'})\n",
    "myData"
   ]
  },
  {
   "cell_type": "code",
   "execution_count": 111,
   "id": "6b889dd7",
   "metadata": {},
   "outputs": [
    {
     "data": {
      "text/plain": [
       "array([  246.21202497, 24661.80048567])"
      ]
     },
     "execution_count": 111,
     "metadata": {},
     "output_type": "execute_result"
    }
   ],
   "source": [
    "x = myData[['age', 'yessmoker']]\n",
    "y = myData['charges']\n",
    "\n",
    "x_train, x_test, y_train, y_test = train_test_split(x,y,test_size=0.25)\n",
    "\n",
    "x_train\n",
    "\n",
    "lr = LinearRegression()\n",
    "lr_fit = lr.fit(x_train, y_train)\n",
    "lr_fit.coef_"
   ]
  },
  {
   "cell_type": "code",
   "execution_count": 101,
   "id": "2515f03e",
   "metadata": {},
   "outputs": [
    {
     "data": {
      "text/plain": [
       "-2449.7643464648518"
      ]
     },
     "execution_count": 101,
     "metadata": {},
     "output_type": "execute_result"
    }
   ],
   "source": [
    "lr_fit.intercept_"
   ]
  },
  {
   "cell_type": "code",
   "execution_count": 102,
   "id": "2527cd86",
   "metadata": {},
   "outputs": [
    {
     "data": {
      "text/plain": [
       "0.7492903707348835"
      ]
     },
     "execution_count": 102,
     "metadata": {},
     "output_type": "execute_result"
    }
   ],
   "source": [
    "y_pred_3 = lr_fit.predict(x_test)\n",
    "r2 = r2_score(y_test, y_pred_3)\n",
    "r2"
   ]
  },
  {
   "cell_type": "markdown",
   "id": "de0c956b",
   "metadata": {},
   "source": [
    "This model looks like: charges = -2450 + 46 x age + 24662 x smoker\n",
    "r2 is 75% for this model which is way higher than the previous models. \n",
    "With an addition year old increased in age, charges go up by 46.\n",
    "If the person is smoker, its expected charges go up by 24662 compared to a nonsmoker."
   ]
  },
  {
   "cell_type": "markdown",
   "id": "79a22876",
   "metadata": {},
   "source": [
    "4. Which model (Q2 or Q3) do you think better fits the data? Justify your answer by calculating the MSE for each model, and also by comparing R-squared values."
   ]
  },
  {
   "cell_type": "code",
   "execution_count": 113,
   "id": "fc378667",
   "metadata": {},
   "outputs": [],
   "source": [
    "from sklearn.metrics import mean_squared_error"
   ]
  },
  {
   "cell_type": "code",
   "execution_count": 116,
   "id": "e20e590c",
   "metadata": {},
   "outputs": [
    {
     "data": {
      "text/plain": [
       "135468759.03550047"
      ]
     },
     "execution_count": 116,
     "metadata": {},
     "output_type": "execute_result"
    }
   ],
   "source": [
    "mse2 = mean_squared_error(y_test, y_pred_2)\n",
    "mse3 = mean_squared_error(y_test, y_pred_3)\n",
    "mse2"
   ]
  },
  {
   "cell_type": "code",
   "execution_count": 117,
   "id": "da991c40",
   "metadata": {},
   "outputs": [
    {
     "data": {
      "text/plain": [
       "234991300.8525345"
      ]
     },
     "execution_count": 117,
     "metadata": {},
     "output_type": "execute_result"
    }
   ],
   "source": [
    "mse3"
   ]
  },
  {
   "cell_type": "code",
   "execution_count": 118,
   "id": "c578afdf",
   "metadata": {},
   "outputs": [
    {
     "data": {
      "text/plain": [
       "99522541.81703404"
      ]
     },
     "execution_count": 118,
     "metadata": {},
     "output_type": "execute_result"
    }
   ],
   "source": [
    "mse3-mse2"
   ]
  },
  {
   "cell_type": "markdown",
   "id": "dc555582",
   "metadata": {},
   "source": [
    "My model 3 has a higher mse value, however, it also had a way higher r2 value (I calculated r2 in the previous parts). A higher r2 should come with a lower mse, which is not the case here. mse and r2 are contradicting each other probably because futher analysis is needed, our models so far are probably too simplel. However, I think I will go with my model 3 if I have to choose between the two, because an r2 of 75% is way better than 8%. "
   ]
  },
  {
   "cell_type": "markdown",
   "id": "b69f34f4",
   "metadata": {},
   "source": [
    "Part Three: Multiple Linear Models\n",
    "Now let’s consider including multiple quantitative predictors.\n",
    "\n",
    "1. Fit a model that uses age and bmi as predictors. (Do not include an interaction term, age*bmi, between these two.) Report your results. How does the MSE compare to the model in Part Two Q1? How does the R-squared compare?"
   ]
  },
  {
   "cell_type": "code",
   "execution_count": 124,
   "id": "2ff6cfce",
   "metadata": {},
   "outputs": [
    {
     "data": {
      "text/plain": [
       "0.13669547727495046"
      ]
     },
     "execution_count": 124,
     "metadata": {},
     "output_type": "execute_result"
    }
   ],
   "source": [
    "x = myData[['age', 'bmi']]\n",
    "y = myData['charges']\n",
    "\n",
    "x_train, x_test, y_train, y_test = train_test_split(x,y,test_size=0.25)\n",
    "\n",
    "x_train\n",
    "\n",
    "lr = LinearRegression()\n",
    "lr_fit = lr.fit(x_train, y_train)\n",
    "y_pred_4 = lr_fit.predict(x_test)\n",
    "r2 = r2_score(y_test, y_pred_4)\n",
    "r2"
   ]
  },
  {
   "cell_type": "code",
   "execution_count": 126,
   "id": "4c94f41e",
   "metadata": {},
   "outputs": [
    {
     "data": {
      "text/plain": [
       "99814245.62817091"
      ]
     },
     "execution_count": 126,
     "metadata": {},
     "output_type": "execute_result"
    }
   ],
   "source": [
    "mse4 = mean_squared_error(y_test, y_pred_4)\n",
    "mse4"
   ]
  },
  {
   "cell_type": "markdown",
   "id": "08b1d737",
   "metadata": {},
   "source": [
    "r2 is better than model 2 but not model 3. mse seems to be lower than both model 2 and 3 though."
   ]
  },
  {
   "cell_type": "markdown",
   "id": "cc48af34",
   "metadata": {},
   "source": [
    "2. Perhaps the relationships are not linear. Fit a model that uses age and age^2 as predictors. How do the MSE and R-squared compare to the model in P2 Q1?"
   ]
  },
  {
   "cell_type": "code",
   "execution_count": 129,
   "id": "7170fa64",
   "metadata": {},
   "outputs": [],
   "source": [
    "myData['age_squared'] = myData['age'] ** 2"
   ]
  },
  {
   "cell_type": "code",
   "execution_count": 131,
   "id": "caffca1d",
   "metadata": {},
   "outputs": [
    {
     "data": {
      "text/plain": [
       "0.06376194540509239"
      ]
     },
     "execution_count": 131,
     "metadata": {},
     "output_type": "execute_result"
    }
   ],
   "source": [
    "x = myData[['age', 'age_squared']]\n",
    "y = myData['charges']\n",
    "\n",
    "x_train, x_test, y_train, y_test = train_test_split(x,y,test_size=0.25)\n",
    "\n",
    "x_train\n",
    "\n",
    "lr = LinearRegression()\n",
    "lr_fit = lr.fit(x_train, y_train)\n",
    "y_pred_5 = lr_fit.predict(x_test)\n",
    "r2 = r2_score(y_test, y_pred_5)\n",
    "r2"
   ]
  },
  {
   "cell_type": "code",
   "execution_count": 132,
   "id": "d436f93e",
   "metadata": {},
   "outputs": [
    {
     "data": {
      "text/plain": [
       "103695390.2388716"
      ]
     },
     "execution_count": 132,
     "metadata": {},
     "output_type": "execute_result"
    }
   ],
   "source": [
    "mse5 = mean_squared_error(y_test, y_pred_5)\n",
    "mse5"
   ]
  },
  {
   "cell_type": "markdown",
   "id": "075f5d2c",
   "metadata": {},
   "source": [
    "It got a lower r2 and a higher mse."
   ]
  },
  {
   "cell_type": "markdown",
   "id": "793bfaec",
   "metadata": {},
   "source": [
    "3. Fit a polynomial model of degree 4. How do the MSE and R-squared compare to the model in P2 Q1?\n",
    "\n"
   ]
  },
  {
   "cell_type": "code",
   "execution_count": 133,
   "id": "e3521161",
   "metadata": {},
   "outputs": [
    {
     "data": {
      "text/plain": [
       "0.050068807208125565"
      ]
     },
     "execution_count": 133,
     "metadata": {},
     "output_type": "execute_result"
    }
   ],
   "source": [
    "x = myData[['age']]\n",
    "y = myData['charges']\n",
    "x_train, x_test, y_train, y_test = train_test_split(x,y,test_size=0.25)\n",
    "\n",
    "#4 degree\n",
    "lr = LinearRegression()\n",
    "ct = ColumnTransformer([('4 degree', PolynomialFeatures(degree = 4, include_bias = False), ['age'])])\n",
    "\n",
    "\n",
    "my_pipeline = Pipeline(\n",
    "    [('4 degree',ct),('ols', lr)]\n",
    ")\n",
    "fitted_pipeline=my_pipeline.fit(x_train,y_train)\n",
    "fitted_pipeline\n",
    "y_pred_6= fitted_pipeline.predict(x_test)\n",
    "r2 = r2_score(y_test, y_pred_6)\n",
    "r2"
   ]
  },
  {
   "cell_type": "code",
   "execution_count": 134,
   "id": "ec668377",
   "metadata": {},
   "outputs": [
    {
     "data": {
      "text/plain": [
       "141646894.62953314"
      ]
     },
     "execution_count": 134,
     "metadata": {},
     "output_type": "execute_result"
    }
   ],
   "source": [
    "mse6 = mean_squared_error(y_test, y_pred_6)\n",
    "mse6"
   ]
  },
  {
   "cell_type": "markdown",
   "id": "7e4b940c",
   "metadata": {},
   "source": [
    "lower r2 and higher mse than P2 Q1"
   ]
  },
  {
   "cell_type": "markdown",
   "id": "66d43e8b",
   "metadata": {},
   "source": [
    "4. Fit a polynomial model of degree 12. How do the MSE and R-squared compare to the model in P2 Q1?"
   ]
  },
  {
   "cell_type": "code",
   "execution_count": 135,
   "id": "1632ce29",
   "metadata": {},
   "outputs": [
    {
     "data": {
      "text/plain": [
       "0.03148737951109648"
      ]
     },
     "execution_count": 135,
     "metadata": {},
     "output_type": "execute_result"
    }
   ],
   "source": [
    "#12 degree\n",
    "lr = LinearRegression()\n",
    "ct = ColumnTransformer([('12 degree', PolynomialFeatures(degree = 12, include_bias = False), ['age'])])\n",
    "\n",
    "\n",
    "my_pipeline = Pipeline(\n",
    "    [('12 degree',ct),('ols', lr)]\n",
    ")\n",
    "fitted_pipeline=my_pipeline.fit(x_train,y_train)\n",
    "fitted_pipeline\n",
    "y_pred_7= fitted_pipeline.predict(x_test)\n",
    "r2 = r2_score(y_test, y_pred_7)\n",
    "r2"
   ]
  },
  {
   "cell_type": "code",
   "execution_count": 147,
   "id": "9576051c",
   "metadata": {},
   "outputs": [
    {
     "data": {
      "text/plain": [
       "144417623.23707768"
      ]
     },
     "execution_count": 147,
     "metadata": {},
     "output_type": "execute_result"
    }
   ],
   "source": [
    "mse7 = mean_squared_error(y_test, y_pred_7)\n",
    "mse7"
   ]
  },
  {
   "cell_type": "markdown",
   "id": "0cfef137",
   "metadata": {},
   "source": [
    "lower r2 and higher mse than P2 Q1"
   ]
  },
  {
   "cell_type": "markdown",
   "id": "f2a4de42",
   "metadata": {},
   "source": [
    "5. According to the MSE and R-squared, which is the best model? Do you agree that this is indeed the “best” model? Why or why not?"
   ]
  },
  {
   "cell_type": "markdown",
   "id": "bd251ba5",
   "metadata": {},
   "source": [
    "I think so far the best model is my model 3 which uses age and smoker. It has a much higher r2 compared with the rest of the other models. However, there are problem with this model as it generates higher mse compared with most of the others. I would say this is the best model out of the one I made so far, but certainly not the best model out there because we only used two variables. I think other variables like bmi and region certainly can tell you information about the expected charges and we should try to include them."
   ]
  },
  {
   "cell_type": "markdown",
   "id": "2c254a12",
   "metadata": {},
   "source": [
    "6. Plot the predictions from your model in Q4 as a line plot on top of the scatterplot of your original data.\n",
    "\n"
   ]
  },
  {
   "cell_type": "code",
   "execution_count": 142,
   "id": "9a31025e",
   "metadata": {},
   "outputs": [
    {
     "data": {
      "text/html": [
       "<div>\n",
       "<style scoped>\n",
       "    .dataframe tbody tr th:only-of-type {\n",
       "        vertical-align: middle;\n",
       "    }\n",
       "\n",
       "    .dataframe tbody tr th {\n",
       "        vertical-align: top;\n",
       "    }\n",
       "\n",
       "    .dataframe thead th {\n",
       "        text-align: right;\n",
       "    }\n",
       "</style>\n",
       "<table border=\"1\" class=\"dataframe\">\n",
       "  <thead>\n",
       "    <tr style=\"text-align: right;\">\n",
       "      <th></th>\n",
       "      <th>age</th>\n",
       "      <th>y_pred_7</th>\n",
       "      <th>y_test</th>\n",
       "    </tr>\n",
       "  </thead>\n",
       "  <tbody>\n",
       "    <tr>\n",
       "      <th>6</th>\n",
       "      <td>62</td>\n",
       "      <td>16965.950097</td>\n",
       "      <td>27808.7251</td>\n",
       "    </tr>\n",
       "    <tr>\n",
       "      <th>415</th>\n",
       "      <td>21</td>\n",
       "      <td>7430.879498</td>\n",
       "      <td>1515.3449</td>\n",
       "    </tr>\n",
       "    <tr>\n",
       "      <th>172</th>\n",
       "      <td>57</td>\n",
       "      <td>16166.111026</td>\n",
       "      <td>11455.2800</td>\n",
       "    </tr>\n",
       "    <tr>\n",
       "      <th>82</th>\n",
       "      <td>24</td>\n",
       "      <td>7956.677944</td>\n",
       "      <td>1986.9334</td>\n",
       "    </tr>\n",
       "    <tr>\n",
       "      <th>191</th>\n",
       "      <td>62</td>\n",
       "      <td>16965.950097</td>\n",
       "      <td>12957.1180</td>\n",
       "    </tr>\n",
       "    <tr>\n",
       "      <th>...</th>\n",
       "      <td>...</td>\n",
       "      <td>...</td>\n",
       "      <td>...</td>\n",
       "    </tr>\n",
       "    <tr>\n",
       "      <th>357</th>\n",
       "      <td>55</td>\n",
       "      <td>15988.496737</td>\n",
       "      <td>11286.5387</td>\n",
       "    </tr>\n",
       "    <tr>\n",
       "      <th>180</th>\n",
       "      <td>38</td>\n",
       "      <td>15587.468668</td>\n",
       "      <td>5397.6167</td>\n",
       "    </tr>\n",
       "    <tr>\n",
       "      <th>380</th>\n",
       "      <td>22</td>\n",
       "      <td>7528.440152</td>\n",
       "      <td>2154.3610</td>\n",
       "    </tr>\n",
       "    <tr>\n",
       "      <th>72</th>\n",
       "      <td>53</td>\n",
       "      <td>15616.023229</td>\n",
       "      <td>10564.8845</td>\n",
       "    </tr>\n",
       "    <tr>\n",
       "      <th>139</th>\n",
       "      <td>42</td>\n",
       "      <td>15910.446368</td>\n",
       "      <td>5969.7230</td>\n",
       "    </tr>\n",
       "  </tbody>\n",
       "</table>\n",
       "<p>108 rows × 3 columns</p>\n",
       "</div>"
      ],
      "text/plain": [
       "     age      y_pred_7      y_test\n",
       "6     62  16965.950097  27808.7251\n",
       "415   21   7430.879498   1515.3449\n",
       "172   57  16166.111026  11455.2800\n",
       "82    24   7956.677944   1986.9334\n",
       "191   62  16965.950097  12957.1180\n",
       "..   ...           ...         ...\n",
       "357   55  15988.496737  11286.5387\n",
       "180   38  15587.468668   5397.6167\n",
       "380   22   7528.440152   2154.3610\n",
       "72    53  15616.023229  10564.8845\n",
       "139   42  15910.446368   5969.7230\n",
       "\n",
       "[108 rows x 3 columns]"
      ]
     },
     "execution_count": 142,
     "metadata": {},
     "output_type": "execute_result"
    }
   ],
   "source": [
    "x_test['y_pred_7']=y_pred_7\n",
    "x_test['y_test']=y_test\n",
    "x_test"
   ]
  },
  {
   "cell_type": "code",
   "execution_count": 144,
   "id": "01afbb35",
   "metadata": {},
   "outputs": [
    {
     "data": {
      "image/png": "[encoded data removed]",
      "text/plain": [
       "<Figure size 640x480 with 1 Axes>"
      ]
     },
     "metadata": {
      "image/png": {
       "height": 480,
       "width": 640
      }
     },
     "output_type": "display_data"
    },
    {
     "data": {
      "text/plain": [
       "<Figure Size: (640 x 480)>"
      ]
     },
     "execution_count": 144,
     "metadata": {},
     "output_type": "execute_result"
    }
   ],
   "source": [
    "graph_prediction = (ggplot(x_test, aes(x='age')) +\n",
    "     geom_point(aes(y='y_test'), color='orange') +\n",
    "     geom_line(aes(y='y_pred_7'), color='purple')\n",
    "                   )\n",
    "\n",
    "\n",
    "graph_prediction"
   ]
  },
  {
   "cell_type": "markdown",
   "id": "590f9649",
   "metadata": {},
   "source": [
    "Part Four: New data\n",
    "Great news! We’ve managed to collect data about the insurance costs for a few more individuals. You can find the new dataset here: https://www.dropbox.com/s/sky86agc4s8c6qe/insurance_costs_2.csv?dl=1\n",
    "\n",
    "Consider the following possible models:\n",
    "\n",
    "Only age as a predictor.\n",
    "\n",
    "age and bmi as a predictor.\n",
    "\n",
    "age, bmi, and smoker as predictors (no interaction terms)\n",
    "\n",
    "age, and bmi, with both quantitative variables having an interaction term with smoker (i.e. the formula ~ (age + bmi):smoker)\n",
    "\n",
    "age, bmi, and smokeras predictors, with both quantitative variables having an interaction term with smoker (i.e. the formula ~ (age + bmi)*smoker)\n",
    "\n",
    "For each model, fit the model on the original data.\n",
    "\n",
    "Then, use the fitted model to predict on the new data.\n",
    "\n",
    "Report the MSE for each model’s new predictions. Based on this, which is the best model to use?\n",
    "\n",
    "Make a plot showing the residuals of your final chosen model."
   ]
  },
  {
   "cell_type": "code",
   "execution_count": 146,
   "id": "6f8184b8",
   "metadata": {},
   "outputs": [
    {
     "data": {
      "text/html": [
       "<div>\n",
       "<style scoped>\n",
       "    .dataframe tbody tr th:only-of-type {\n",
       "        vertical-align: middle;\n",
       "    }\n",
       "\n",
       "    .dataframe tbody tr th {\n",
       "        vertical-align: top;\n",
       "    }\n",
       "\n",
       "    .dataframe thead th {\n",
       "        text-align: right;\n",
       "    }\n",
       "</style>\n",
       "<table border=\"1\" class=\"dataframe\">\n",
       "  <thead>\n",
       "    <tr style=\"text-align: right;\">\n",
       "      <th></th>\n",
       "      <th>age</th>\n",
       "      <th>sex</th>\n",
       "      <th>bmi</th>\n",
       "      <th>smoker</th>\n",
       "      <th>region</th>\n",
       "      <th>charges</th>\n",
       "    </tr>\n",
       "  </thead>\n",
       "  <tbody>\n",
       "    <tr>\n",
       "      <th>0</th>\n",
       "      <td>23</td>\n",
       "      <td>male</td>\n",
       "      <td>34.400</td>\n",
       "      <td>no</td>\n",
       "      <td>southwest</td>\n",
       "      <td>1826.84300</td>\n",
       "    </tr>\n",
       "    <tr>\n",
       "      <th>1</th>\n",
       "      <td>56</td>\n",
       "      <td>male</td>\n",
       "      <td>40.300</td>\n",
       "      <td>no</td>\n",
       "      <td>southwest</td>\n",
       "      <td>10602.38500</td>\n",
       "    </tr>\n",
       "    <tr>\n",
       "      <th>2</th>\n",
       "      <td>18</td>\n",
       "      <td>male</td>\n",
       "      <td>34.100</td>\n",
       "      <td>no</td>\n",
       "      <td>southeast</td>\n",
       "      <td>1137.01100</td>\n",
       "    </tr>\n",
       "    <tr>\n",
       "      <th>3</th>\n",
       "      <td>63</td>\n",
       "      <td>female</td>\n",
       "      <td>23.085</td>\n",
       "      <td>no</td>\n",
       "      <td>northeast</td>\n",
       "      <td>14451.83515</td>\n",
       "    </tr>\n",
       "    <tr>\n",
       "      <th>4</th>\n",
       "      <td>63</td>\n",
       "      <td>male</td>\n",
       "      <td>28.310</td>\n",
       "      <td>no</td>\n",
       "      <td>northwest</td>\n",
       "      <td>13770.09790</td>\n",
       "    </tr>\n",
       "    <tr>\n",
       "      <th>...</th>\n",
       "      <td>...</td>\n",
       "      <td>...</td>\n",
       "      <td>...</td>\n",
       "      <td>...</td>\n",
       "      <td>...</td>\n",
       "      <td>...</td>\n",
       "    </tr>\n",
       "    <tr>\n",
       "      <th>138</th>\n",
       "      <td>19</td>\n",
       "      <td>male</td>\n",
       "      <td>34.900</td>\n",
       "      <td>yes</td>\n",
       "      <td>southwest</td>\n",
       "      <td>34828.65400</td>\n",
       "    </tr>\n",
       "    <tr>\n",
       "      <th>139</th>\n",
       "      <td>45</td>\n",
       "      <td>male</td>\n",
       "      <td>30.360</td>\n",
       "      <td>yes</td>\n",
       "      <td>southeast</td>\n",
       "      <td>62592.87309</td>\n",
       "    </tr>\n",
       "    <tr>\n",
       "      <th>140</th>\n",
       "      <td>43</td>\n",
       "      <td>male</td>\n",
       "      <td>27.800</td>\n",
       "      <td>yes</td>\n",
       "      <td>southwest</td>\n",
       "      <td>37829.72420</td>\n",
       "    </tr>\n",
       "    <tr>\n",
       "      <th>141</th>\n",
       "      <td>24</td>\n",
       "      <td>female</td>\n",
       "      <td>27.720</td>\n",
       "      <td>no</td>\n",
       "      <td>southeast</td>\n",
       "      <td>2464.61880</td>\n",
       "    </tr>\n",
       "    <tr>\n",
       "      <th>142</th>\n",
       "      <td>18</td>\n",
       "      <td>male</td>\n",
       "      <td>53.130</td>\n",
       "      <td>no</td>\n",
       "      <td>southeast</td>\n",
       "      <td>1163.46270</td>\n",
       "    </tr>\n",
       "  </tbody>\n",
       "</table>\n",
       "<p>143 rows × 6 columns</p>\n",
       "</div>"
      ],
      "text/plain": [
       "     age     sex     bmi smoker     region      charges\n",
       "0     23    male  34.400     no  southwest   1826.84300\n",
       "1     56    male  40.300     no  southwest  10602.38500\n",
       "2     18    male  34.100     no  southeast   1137.01100\n",
       "3     63  female  23.085     no  northeast  14451.83515\n",
       "4     63    male  28.310     no  northwest  13770.09790\n",
       "..   ...     ...     ...    ...        ...          ...\n",
       "138   19    male  34.900    yes  southwest  34828.65400\n",
       "139   45    male  30.360    yes  southeast  62592.87309\n",
       "140   43    male  27.800    yes  southwest  37829.72420\n",
       "141   24  female  27.720     no  southeast   2464.61880\n",
       "142   18    male  53.130     no  southeast   1163.46270\n",
       "\n",
       "[143 rows x 6 columns]"
      ]
     },
     "execution_count": 146,
     "metadata": {},
     "output_type": "execute_result"
    }
   ],
   "source": [
    "NewData = pd.read_csv('https://www.dropbox.com/s/sky86agc4s8c6qe/insurance_costs_2.csv?dl=1')\n",
    "NewData"
   ]
  },
  {
   "cell_type": "markdown",
   "id": "ca88ed96",
   "metadata": {},
   "source": [
    "Only age as a predictor."
   ]
  },
  {
   "cell_type": "code",
   "execution_count": 149,
   "id": "9bf18817",
   "metadata": {},
   "outputs": [
    {
     "data": {
      "text/plain": [
       "136077136.50195494"
      ]
     },
     "execution_count": 149,
     "metadata": {},
     "output_type": "execute_result"
    }
   ],
   "source": [
    "x_train = myData[['age']]\n",
    "y_train = myData['charges']\n",
    "x_test = NewData[['age']]\n",
    "y_test = NewData['charges']\n",
    "lr = LinearRegression()\n",
    "lr_fit = lr.fit(x_train, y_train)\n",
    "y_pred_8 = lr_fit.predict(x_test)\n",
    "mse8 = mean_squared_error(y_test, y_pred_8)\n",
    "mse8"
   ]
  },
  {
   "cell_type": "markdown",
   "id": "5faeec10",
   "metadata": {},
   "source": [
    "age and bmi as a predictor.\n",
    "\n"
   ]
  },
  {
   "cell_type": "code",
   "execution_count": 151,
   "id": "16411dd0",
   "metadata": {},
   "outputs": [
    {
     "data": {
      "text/plain": [
       "132636406.11081287"
      ]
     },
     "execution_count": 151,
     "metadata": {},
     "output_type": "execute_result"
    }
   ],
   "source": [
    "x_train = myData[['age','bmi']]\n",
    "y_train = myData['charges']\n",
    "x_test = NewData[['age','bmi']]\n",
    "y_test = NewData['charges']\n",
    "lr = LinearRegression()\n",
    "lr_fit = lr.fit(x_train, y_train)\n",
    "y_pred_9 = lr_fit.predict(x_test)\n",
    "mse9 = mean_squared_error(y_test, y_pred_9)\n",
    "mse9"
   ]
  },
  {
   "cell_type": "markdown",
   "id": "ab703659",
   "metadata": {},
   "source": [
    "age, bmi, and smoker as predictors (no interaction terms)"
   ]
  },
  {
   "cell_type": "code",
   "execution_count": 156,
   "id": "a4997336",
   "metadata": {},
   "outputs": [
    {
     "data": {
      "text/html": [
       "<div>\n",
       "<style scoped>\n",
       "    .dataframe tbody tr th:only-of-type {\n",
       "        vertical-align: middle;\n",
       "    }\n",
       "\n",
       "    .dataframe tbody tr th {\n",
       "        vertical-align: top;\n",
       "    }\n",
       "\n",
       "    .dataframe thead th {\n",
       "        text-align: right;\n",
       "    }\n",
       "</style>\n",
       "<table border=\"1\" class=\"dataframe\">\n",
       "  <thead>\n",
       "    <tr style=\"text-align: right;\">\n",
       "      <th></th>\n",
       "      <th>age</th>\n",
       "      <th>sex</th>\n",
       "      <th>bmi</th>\n",
       "      <th>smoker</th>\n",
       "      <th>region</th>\n",
       "      <th>charges</th>\n",
       "      <th>no</th>\n",
       "      <th>yes</th>\n",
       "    </tr>\n",
       "  </thead>\n",
       "  <tbody>\n",
       "    <tr>\n",
       "      <th>0</th>\n",
       "      <td>19</td>\n",
       "      <td>female</td>\n",
       "      <td>27.900</td>\n",
       "      <td>yes</td>\n",
       "      <td>southwest</td>\n",
       "      <td>16884.92400</td>\n",
       "      <td>0</td>\n",
       "      <td>1</td>\n",
       "    </tr>\n",
       "    <tr>\n",
       "      <th>1</th>\n",
       "      <td>33</td>\n",
       "      <td>male</td>\n",
       "      <td>22.705</td>\n",
       "      <td>no</td>\n",
       "      <td>northwest</td>\n",
       "      <td>21984.47061</td>\n",
       "      <td>1</td>\n",
       "      <td>0</td>\n",
       "    </tr>\n",
       "    <tr>\n",
       "      <th>2</th>\n",
       "      <td>32</td>\n",
       "      <td>male</td>\n",
       "      <td>28.880</td>\n",
       "      <td>no</td>\n",
       "      <td>northwest</td>\n",
       "      <td>3866.85520</td>\n",
       "      <td>1</td>\n",
       "      <td>0</td>\n",
       "    </tr>\n",
       "    <tr>\n",
       "      <th>3</th>\n",
       "      <td>31</td>\n",
       "      <td>female</td>\n",
       "      <td>25.740</td>\n",
       "      <td>no</td>\n",
       "      <td>southeast</td>\n",
       "      <td>3756.62160</td>\n",
       "      <td>1</td>\n",
       "      <td>0</td>\n",
       "    </tr>\n",
       "    <tr>\n",
       "      <th>4</th>\n",
       "      <td>60</td>\n",
       "      <td>female</td>\n",
       "      <td>25.840</td>\n",
       "      <td>no</td>\n",
       "      <td>northwest</td>\n",
       "      <td>28923.13692</td>\n",
       "      <td>1</td>\n",
       "      <td>0</td>\n",
       "    </tr>\n",
       "    <tr>\n",
       "      <th>...</th>\n",
       "      <td>...</td>\n",
       "      <td>...</td>\n",
       "      <td>...</td>\n",
       "      <td>...</td>\n",
       "      <td>...</td>\n",
       "      <td>...</td>\n",
       "      <td>...</td>\n",
       "      <td>...</td>\n",
       "    </tr>\n",
       "    <tr>\n",
       "      <th>426</th>\n",
       "      <td>23</td>\n",
       "      <td>female</td>\n",
       "      <td>33.400</td>\n",
       "      <td>no</td>\n",
       "      <td>southwest</td>\n",
       "      <td>10795.93733</td>\n",
       "      <td>1</td>\n",
       "      <td>0</td>\n",
       "    </tr>\n",
       "    <tr>\n",
       "      <th>427</th>\n",
       "      <td>18</td>\n",
       "      <td>female</td>\n",
       "      <td>31.920</td>\n",
       "      <td>no</td>\n",
       "      <td>northeast</td>\n",
       "      <td>2205.98080</td>\n",
       "      <td>1</td>\n",
       "      <td>0</td>\n",
       "    </tr>\n",
       "    <tr>\n",
       "      <th>428</th>\n",
       "      <td>18</td>\n",
       "      <td>female</td>\n",
       "      <td>36.850</td>\n",
       "      <td>no</td>\n",
       "      <td>southeast</td>\n",
       "      <td>1629.83350</td>\n",
       "      <td>1</td>\n",
       "      <td>0</td>\n",
       "    </tr>\n",
       "    <tr>\n",
       "      <th>429</th>\n",
       "      <td>21</td>\n",
       "      <td>female</td>\n",
       "      <td>25.800</td>\n",
       "      <td>no</td>\n",
       "      <td>southwest</td>\n",
       "      <td>2007.94500</td>\n",
       "      <td>1</td>\n",
       "      <td>0</td>\n",
       "    </tr>\n",
       "    <tr>\n",
       "      <th>430</th>\n",
       "      <td>61</td>\n",
       "      <td>female</td>\n",
       "      <td>29.070</td>\n",
       "      <td>yes</td>\n",
       "      <td>northwest</td>\n",
       "      <td>29141.36030</td>\n",
       "      <td>0</td>\n",
       "      <td>1</td>\n",
       "    </tr>\n",
       "  </tbody>\n",
       "</table>\n",
       "<p>431 rows × 8 columns</p>\n",
       "</div>"
      ],
      "text/plain": [
       "     age     sex     bmi smoker     region      charges  no  yes\n",
       "0     19  female  27.900    yes  southwest  16884.92400   0    1\n",
       "1     33    male  22.705     no  northwest  21984.47061   1    0\n",
       "2     32    male  28.880     no  northwest   3866.85520   1    0\n",
       "3     31  female  25.740     no  southeast   3756.62160   1    0\n",
       "4     60  female  25.840     no  northwest  28923.13692   1    0\n",
       "..   ...     ...     ...    ...        ...          ...  ..  ...\n",
       "426   23  female  33.400     no  southwest  10795.93733   1    0\n",
       "427   18  female  31.920     no  northeast   2205.98080   1    0\n",
       "428   18  female  36.850     no  southeast   1629.83350   1    0\n",
       "429   21  female  25.800     no  southwest   2007.94500   1    0\n",
       "430   61  female  29.070    yes  northwest  29141.36030   0    1\n",
       "\n",
       "[431 rows x 8 columns]"
      ]
     },
     "execution_count": 156,
     "metadata": {},
     "output_type": "execute_result"
    }
   ],
   "source": [
    "smoker_dummies = pd.get_dummies(myData['smoker'])\n",
    "myData = pd.concat([myData, smoker_dummies.astype(int)], axis=1)"
   ]
  },
  {
   "cell_type": "code",
   "execution_count": 157,
   "id": "394d0af5",
   "metadata": {},
   "outputs": [
    {
     "data": {
      "text/html": [
       "<div>\n",
       "<style scoped>\n",
       "    .dataframe tbody tr th:only-of-type {\n",
       "        vertical-align: middle;\n",
       "    }\n",
       "\n",
       "    .dataframe tbody tr th {\n",
       "        vertical-align: top;\n",
       "    }\n",
       "\n",
       "    .dataframe thead th {\n",
       "        text-align: right;\n",
       "    }\n",
       "</style>\n",
       "<table border=\"1\" class=\"dataframe\">\n",
       "  <thead>\n",
       "    <tr style=\"text-align: right;\">\n",
       "      <th></th>\n",
       "      <th>age</th>\n",
       "      <th>sex</th>\n",
       "      <th>bmi</th>\n",
       "      <th>smoker</th>\n",
       "      <th>region</th>\n",
       "      <th>charges</th>\n",
       "      <th>nonsmoker</th>\n",
       "      <th>yessmoker</th>\n",
       "    </tr>\n",
       "  </thead>\n",
       "  <tbody>\n",
       "    <tr>\n",
       "      <th>0</th>\n",
       "      <td>19</td>\n",
       "      <td>female</td>\n",
       "      <td>27.900</td>\n",
       "      <td>yes</td>\n",
       "      <td>southwest</td>\n",
       "      <td>16884.92400</td>\n",
       "      <td>0</td>\n",
       "      <td>1</td>\n",
       "    </tr>\n",
       "    <tr>\n",
       "      <th>1</th>\n",
       "      <td>33</td>\n",
       "      <td>male</td>\n",
       "      <td>22.705</td>\n",
       "      <td>no</td>\n",
       "      <td>northwest</td>\n",
       "      <td>21984.47061</td>\n",
       "      <td>1</td>\n",
       "      <td>0</td>\n",
       "    </tr>\n",
       "    <tr>\n",
       "      <th>2</th>\n",
       "      <td>32</td>\n",
       "      <td>male</td>\n",
       "      <td>28.880</td>\n",
       "      <td>no</td>\n",
       "      <td>northwest</td>\n",
       "      <td>3866.85520</td>\n",
       "      <td>1</td>\n",
       "      <td>0</td>\n",
       "    </tr>\n",
       "    <tr>\n",
       "      <th>3</th>\n",
       "      <td>31</td>\n",
       "      <td>female</td>\n",
       "      <td>25.740</td>\n",
       "      <td>no</td>\n",
       "      <td>southeast</td>\n",
       "      <td>3756.62160</td>\n",
       "      <td>1</td>\n",
       "      <td>0</td>\n",
       "    </tr>\n",
       "    <tr>\n",
       "      <th>4</th>\n",
       "      <td>60</td>\n",
       "      <td>female</td>\n",
       "      <td>25.840</td>\n",
       "      <td>no</td>\n",
       "      <td>northwest</td>\n",
       "      <td>28923.13692</td>\n",
       "      <td>1</td>\n",
       "      <td>0</td>\n",
       "    </tr>\n",
       "    <tr>\n",
       "      <th>...</th>\n",
       "      <td>...</td>\n",
       "      <td>...</td>\n",
       "      <td>...</td>\n",
       "      <td>...</td>\n",
       "      <td>...</td>\n",
       "      <td>...</td>\n",
       "      <td>...</td>\n",
       "      <td>...</td>\n",
       "    </tr>\n",
       "    <tr>\n",
       "      <th>426</th>\n",
       "      <td>23</td>\n",
       "      <td>female</td>\n",
       "      <td>33.400</td>\n",
       "      <td>no</td>\n",
       "      <td>southwest</td>\n",
       "      <td>10795.93733</td>\n",
       "      <td>1</td>\n",
       "      <td>0</td>\n",
       "    </tr>\n",
       "    <tr>\n",
       "      <th>427</th>\n",
       "      <td>18</td>\n",
       "      <td>female</td>\n",
       "      <td>31.920</td>\n",
       "      <td>no</td>\n",
       "      <td>northeast</td>\n",
       "      <td>2205.98080</td>\n",
       "      <td>1</td>\n",
       "      <td>0</td>\n",
       "    </tr>\n",
       "    <tr>\n",
       "      <th>428</th>\n",
       "      <td>18</td>\n",
       "      <td>female</td>\n",
       "      <td>36.850</td>\n",
       "      <td>no</td>\n",
       "      <td>southeast</td>\n",
       "      <td>1629.83350</td>\n",
       "      <td>1</td>\n",
       "      <td>0</td>\n",
       "    </tr>\n",
       "    <tr>\n",
       "      <th>429</th>\n",
       "      <td>21</td>\n",
       "      <td>female</td>\n",
       "      <td>25.800</td>\n",
       "      <td>no</td>\n",
       "      <td>southwest</td>\n",
       "      <td>2007.94500</td>\n",
       "      <td>1</td>\n",
       "      <td>0</td>\n",
       "    </tr>\n",
       "    <tr>\n",
       "      <th>430</th>\n",
       "      <td>61</td>\n",
       "      <td>female</td>\n",
       "      <td>29.070</td>\n",
       "      <td>yes</td>\n",
       "      <td>northwest</td>\n",
       "      <td>29141.36030</td>\n",
       "      <td>0</td>\n",
       "      <td>1</td>\n",
       "    </tr>\n",
       "  </tbody>\n",
       "</table>\n",
       "<p>431 rows × 8 columns</p>\n",
       "</div>"
      ],
      "text/plain": [
       "     age     sex     bmi smoker     region      charges  nonsmoker  yessmoker\n",
       "0     19  female  27.900    yes  southwest  16884.92400          0          1\n",
       "1     33    male  22.705     no  northwest  21984.47061          1          0\n",
       "2     32    male  28.880     no  northwest   3866.85520          1          0\n",
       "3     31  female  25.740     no  southeast   3756.62160          1          0\n",
       "4     60  female  25.840     no  northwest  28923.13692          1          0\n",
       "..   ...     ...     ...    ...        ...          ...        ...        ...\n",
       "426   23  female  33.400     no  southwest  10795.93733          1          0\n",
       "427   18  female  31.920     no  northeast   2205.98080          1          0\n",
       "428   18  female  36.850     no  southeast   1629.83350          1          0\n",
       "429   21  female  25.800     no  southwest   2007.94500          1          0\n",
       "430   61  female  29.070    yes  northwest  29141.36030          0          1\n",
       "\n",
       "[431 rows x 8 columns]"
      ]
     },
     "execution_count": 157,
     "metadata": {},
     "output_type": "execute_result"
    }
   ],
   "source": [
    "myData = myData.rename(columns={'no': 'nonsmoker'})\n",
    "myData = myData.rename(columns={'yes': 'yessmoker'})\n",
    "myData"
   ]
  },
  {
   "cell_type": "code",
   "execution_count": 158,
   "id": "dcdeacb7",
   "metadata": {},
   "outputs": [
    {
     "data": {
      "text/html": [
       "<div>\n",
       "<style scoped>\n",
       "    .dataframe tbody tr th:only-of-type {\n",
       "        vertical-align: middle;\n",
       "    }\n",
       "\n",
       "    .dataframe tbody tr th {\n",
       "        vertical-align: top;\n",
       "    }\n",
       "\n",
       "    .dataframe thead th {\n",
       "        text-align: right;\n",
       "    }\n",
       "</style>\n",
       "<table border=\"1\" class=\"dataframe\">\n",
       "  <thead>\n",
       "    <tr style=\"text-align: right;\">\n",
       "      <th></th>\n",
       "      <th>age</th>\n",
       "      <th>sex</th>\n",
       "      <th>bmi</th>\n",
       "      <th>smoker</th>\n",
       "      <th>region</th>\n",
       "      <th>charges</th>\n",
       "      <th>nonsmoker</th>\n",
       "      <th>yessmoker</th>\n",
       "    </tr>\n",
       "  </thead>\n",
       "  <tbody>\n",
       "    <tr>\n",
       "      <th>0</th>\n",
       "      <td>23</td>\n",
       "      <td>male</td>\n",
       "      <td>34.400</td>\n",
       "      <td>no</td>\n",
       "      <td>southwest</td>\n",
       "      <td>1826.84300</td>\n",
       "      <td>1</td>\n",
       "      <td>0</td>\n",
       "    </tr>\n",
       "    <tr>\n",
       "      <th>1</th>\n",
       "      <td>56</td>\n",
       "      <td>male</td>\n",
       "      <td>40.300</td>\n",
       "      <td>no</td>\n",
       "      <td>southwest</td>\n",
       "      <td>10602.38500</td>\n",
       "      <td>1</td>\n",
       "      <td>0</td>\n",
       "    </tr>\n",
       "    <tr>\n",
       "      <th>2</th>\n",
       "      <td>18</td>\n",
       "      <td>male</td>\n",
       "      <td>34.100</td>\n",
       "      <td>no</td>\n",
       "      <td>southeast</td>\n",
       "      <td>1137.01100</td>\n",
       "      <td>1</td>\n",
       "      <td>0</td>\n",
       "    </tr>\n",
       "    <tr>\n",
       "      <th>3</th>\n",
       "      <td>63</td>\n",
       "      <td>female</td>\n",
       "      <td>23.085</td>\n",
       "      <td>no</td>\n",
       "      <td>northeast</td>\n",
       "      <td>14451.83515</td>\n",
       "      <td>1</td>\n",
       "      <td>0</td>\n",
       "    </tr>\n",
       "    <tr>\n",
       "      <th>4</th>\n",
       "      <td>63</td>\n",
       "      <td>male</td>\n",
       "      <td>28.310</td>\n",
       "      <td>no</td>\n",
       "      <td>northwest</td>\n",
       "      <td>13770.09790</td>\n",
       "      <td>1</td>\n",
       "      <td>0</td>\n",
       "    </tr>\n",
       "    <tr>\n",
       "      <th>...</th>\n",
       "      <td>...</td>\n",
       "      <td>...</td>\n",
       "      <td>...</td>\n",
       "      <td>...</td>\n",
       "      <td>...</td>\n",
       "      <td>...</td>\n",
       "      <td>...</td>\n",
       "      <td>...</td>\n",
       "    </tr>\n",
       "    <tr>\n",
       "      <th>138</th>\n",
       "      <td>19</td>\n",
       "      <td>male</td>\n",
       "      <td>34.900</td>\n",
       "      <td>yes</td>\n",
       "      <td>southwest</td>\n",
       "      <td>34828.65400</td>\n",
       "      <td>0</td>\n",
       "      <td>1</td>\n",
       "    </tr>\n",
       "    <tr>\n",
       "      <th>139</th>\n",
       "      <td>45</td>\n",
       "      <td>male</td>\n",
       "      <td>30.360</td>\n",
       "      <td>yes</td>\n",
       "      <td>southeast</td>\n",
       "      <td>62592.87309</td>\n",
       "      <td>0</td>\n",
       "      <td>1</td>\n",
       "    </tr>\n",
       "    <tr>\n",
       "      <th>140</th>\n",
       "      <td>43</td>\n",
       "      <td>male</td>\n",
       "      <td>27.800</td>\n",
       "      <td>yes</td>\n",
       "      <td>southwest</td>\n",
       "      <td>37829.72420</td>\n",
       "      <td>0</td>\n",
       "      <td>1</td>\n",
       "    </tr>\n",
       "    <tr>\n",
       "      <th>141</th>\n",
       "      <td>24</td>\n",
       "      <td>female</td>\n",
       "      <td>27.720</td>\n",
       "      <td>no</td>\n",
       "      <td>southeast</td>\n",
       "      <td>2464.61880</td>\n",
       "      <td>1</td>\n",
       "      <td>0</td>\n",
       "    </tr>\n",
       "    <tr>\n",
       "      <th>142</th>\n",
       "      <td>18</td>\n",
       "      <td>male</td>\n",
       "      <td>53.130</td>\n",
       "      <td>no</td>\n",
       "      <td>southeast</td>\n",
       "      <td>1163.46270</td>\n",
       "      <td>1</td>\n",
       "      <td>0</td>\n",
       "    </tr>\n",
       "  </tbody>\n",
       "</table>\n",
       "<p>143 rows × 8 columns</p>\n",
       "</div>"
      ],
      "text/plain": [
       "     age     sex     bmi smoker     region      charges  nonsmoker  yessmoker\n",
       "0     23    male  34.400     no  southwest   1826.84300          1          0\n",
       "1     56    male  40.300     no  southwest  10602.38500          1          0\n",
       "2     18    male  34.100     no  southeast   1137.01100          1          0\n",
       "3     63  female  23.085     no  northeast  14451.83515          1          0\n",
       "4     63    male  28.310     no  northwest  13770.09790          1          0\n",
       "..   ...     ...     ...    ...        ...          ...        ...        ...\n",
       "138   19    male  34.900    yes  southwest  34828.65400          0          1\n",
       "139   45    male  30.360    yes  southeast  62592.87309          0          1\n",
       "140   43    male  27.800    yes  southwest  37829.72420          0          1\n",
       "141   24  female  27.720     no  southeast   2464.61880          1          0\n",
       "142   18    male  53.130     no  southeast   1163.46270          1          0\n",
       "\n",
       "[143 rows x 8 columns]"
      ]
     },
     "execution_count": 158,
     "metadata": {},
     "output_type": "execute_result"
    }
   ],
   "source": [
    "smoker_dummies = pd.get_dummies(NewData['smoker'])\n",
    "NewData = pd.concat([NewData, smoker_dummies.astype(int)], axis=1)\n",
    "NewData = NewData.rename(columns={'no': 'nonsmoker'})\n",
    "NewData = NewData.rename(columns={'yes': 'yessmoker'})\n",
    "NewData"
   ]
  },
  {
   "cell_type": "code",
   "execution_count": 159,
   "id": "a94aa716",
   "metadata": {},
   "outputs": [
    {
     "data": {
      "text/plain": [
       "35377541.241416305"
      ]
     },
     "execution_count": 159,
     "metadata": {},
     "output_type": "execute_result"
    }
   ],
   "source": [
    "x_train = myData[['age','bmi','nonsmoker']]\n",
    "y_train = myData['charges']\n",
    "x_test = NewData[['age','bmi','nonsmoker']]\n",
    "y_test = NewData['charges']\n",
    "lr = LinearRegression()\n",
    "lr_fit = lr.fit(x_train, y_train)\n",
    "y_pred_10 = lr_fit.predict(x_test)\n",
    "mse10 = mean_squared_error(y_test, y_pred_10)\n",
    "mse10"
   ]
  },
  {
   "cell_type": "markdown",
   "id": "3f931d31",
   "metadata": {},
   "source": [
    "age, and bmi, with both quantitative variables having an interaction term with smoker (i.e. the formula ~ (age + bmi):smoker)"
   ]
  },
  {
   "cell_type": "code",
   "execution_count": 161,
   "id": "f31004d6",
   "metadata": {},
   "outputs": [],
   "source": [
    "myData['interact_age_nonsmoker'] = myData['age']*myData['nonsmoker']\n",
    "NewData['interact_age_nonsmoker'] = NewData['age']*NewData['nonsmoker']\n",
    "myData['interact_bmi_nonsmoker'] = myData['bmi']*myData['nonsmoker']\n",
    "NewData['interact_bmi_nonsmoker'] = NewData['bmi']*NewData['nonsmoker']"
   ]
  },
  {
   "cell_type": "code",
   "execution_count": 162,
   "id": "29926f1f",
   "metadata": {},
   "outputs": [
    {
     "data": {
      "text/plain": [
       "35377541.241416305"
      ]
     },
     "execution_count": 162,
     "metadata": {},
     "output_type": "execute_result"
    }
   ],
   "source": [
    "x_train = myData[['age','bmi','interact_age_nonsmoker','interact_bmi_nonsmoker']]\n",
    "y_train = myData['charges']\n",
    "x_test = NewData[['age','bmi','interact_age_nonsmoker','interact_bmi_nonsmoker']]\n",
    "y_test = NewData['charges']\n",
    "lr = LinearRegression()\n",
    "lr_fit = lr.fit(x_train, y_train)\n",
    "y_pred_11 = lr_fit.predict(x_test)\n",
    "mse11 = mean_squared_error(y_test, y_pred_10)\n",
    "mse11"
   ]
  },
  {
   "cell_type": "markdown",
   "id": "36ac6a74",
   "metadata": {},
   "source": [
    "age, bmi, and smokeras predictors, with both quantitative variables having an interaction term with smoker (i.e. the formula ~ (age + bmi)*smoker)"
   ]
  },
  {
   "cell_type": "code",
   "execution_count": 164,
   "id": "5373592b",
   "metadata": {},
   "outputs": [
    {
     "data": {
      "text/plain": [
       "21786256.866852585"
      ]
     },
     "execution_count": 164,
     "metadata": {},
     "output_type": "execute_result"
    }
   ],
   "source": [
    "x_train = myData[['age','bmi','nonsmoker','interact_age_nonsmoker','interact_bmi_nonsmoker']]\n",
    "y_train = myData['charges']\n",
    "x_test = NewData[['age','bmi','nonsmoker','interact_age_nonsmoker','interact_bmi_nonsmoker']]\n",
    "y_test = NewData['charges']\n",
    "lr = LinearRegression()\n",
    "lr_fit = lr.fit(x_train, y_train)\n",
    "y_pred_12 = lr_fit.predict(x_test)\n",
    "mse12 = mean_squared_error(y_test, y_pred_12)\n",
    "mse12"
   ]
  },
  {
   "cell_type": "code",
   "execution_count": 165,
   "id": "729f58e0",
   "metadata": {
    "collapsed": true
   },
   "outputs": [
    {
     "data": {
      "text/plain": [
       "21786256.866852585"
      ]
     },
     "execution_count": 165,
     "metadata": {},
     "output_type": "execute_result"
    }
   ],
   "source": [
    "min(mse8,mse9,mse10,mse11,mse12)"
   ]
  },
  {
   "cell_type": "markdown",
   "id": "f40b16c6",
   "metadata": {},
   "source": [
    "the model with age, bmi, and smokeras predictors, with both quantitative variables having an interaction term with smoker is the best to use out of the five, as it has the smallest mse."
   ]
  },
  {
   "cell_type": "code",
   "execution_count": 174,
   "id": "f8ff899f",
   "metadata": {},
   "outputs": [
    {
     "data": {
      "image/png": "[encoded data removed]",
      "text/plain": [
       "<Figure size 640x480 with 1 Axes>"
      ]
     },
     "metadata": {
      "image/png": {
       "height": 480,
       "width": 640
      }
     },
     "output_type": "display_data"
    },
    {
     "name": "stdout",
     "output_type": "stream",
     "text": [
      "\n"
     ]
    }
   ],
   "source": [
    "residuals = y_test - y_pred_12\n",
    "\n",
    "residual_plot = ggplot(aes(x='y_pred_12', y=residuals)) + \\\n",
    "    geom_point(color='blue') + \\\n",
    "    labs(title='Residual Plot', x='Predicted Values', y='Residuals')\n",
    "\n",
    "print(residual_plot)"
   ]
  }
 ],
 "metadata": {
  "kernelspec": {
   "display_name": "Python 3 (ipykernel)",
   "language": "python",
   "name": "python3"
  },
  "language_info": {
   "codemirror_mode": {
    "name": "ipython",
    "version": 3
   },
   "file_extension": ".py",
   "mimetype": "text/x-python",
   "name": "python",
   "nbconvert_exporter": "python",
   "pygments_lexer": "ipython3",
   "version": "3.11.5"
  }
 },
 "nbformat": 4,
 "nbformat_minor": 5
}
