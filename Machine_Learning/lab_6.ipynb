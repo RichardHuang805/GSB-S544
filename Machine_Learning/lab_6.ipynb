{
 "cells": [
  {
   "cell_type": "raw",
   "id": "98d8b571",
   "metadata": {},
   "source": [
    "---\n",
    "title: 'Lab 6'\n",
    "Author: 'Richard Huang'\n",
    "output: html\n",
    "theme: cosmo\n",
    "self-contained: True\n",
    "---"
   ]
  },
  {
   "cell_type": "code",
   "execution_count": 1,
   "id": "58c8ecbe",
   "metadata": {},
   "outputs": [],
   "source": [
    "import pandas as pd\n",
    "import numpy as np\n",
    "from sklearn.pipeline import Pipeline\n",
    "from sklearn.compose import make_column_selector, ColumnTransformer\n",
    "from sklearn.preprocessing import StandardScaler, OneHotEncoder, PolynomialFeatures\n",
    "from sklearn.linear_model import LinearRegression, Ridge, Lasso, ElasticNet \n",
    "from sklearn.model_selection import train_test_split, cross_val_score\n",
    "from sklearn.metrics import r2_score\n",
    "from sklearn.model_selection import GridSearchCV"
   ]
  },
  {
   "cell_type": "code",
   "execution_count": 2,
   "id": "64611402",
   "metadata": {
    "scrolled": true
   },
   "outputs": [],
   "source": [
    "myData = pd.read_csv('/Users/richlegendary/Desktop/GSB-S544/data/Hitters.csv')"
   ]
  },
  {
   "cell_type": "code",
   "execution_count": 3,
   "id": "059bb481",
   "metadata": {},
   "outputs": [],
   "source": [
    "# Clean my data a bit\n",
    "\n",
    "# Get rid of columns with mostly NaN values\n",
    "good_cols = myData.isna().sum() < 100\n",
    "myData = myData.loc[:,good_cols]\n",
    "\n",
    "# Drop other NAs\n",
    "myData = myData.dropna()"
   ]
  },
  {
   "cell_type": "code",
   "execution_count": 4,
   "id": "66ee7d6c",
   "metadata": {},
   "outputs": [
    {
     "data": {
      "text/html": [
       "<div>\n",
       "<style scoped>\n",
       "    .dataframe tbody tr th:only-of-type {\n",
       "        vertical-align: middle;\n",
       "    }\n",
       "\n",
       "    .dataframe tbody tr th {\n",
       "        vertical-align: top;\n",
       "    }\n",
       "\n",
       "    .dataframe thead th {\n",
       "        text-align: right;\n",
       "    }\n",
       "</style>\n",
       "<table border=\"1\" class=\"dataframe\">\n",
       "  <thead>\n",
       "    <tr style=\"text-align: right;\">\n",
       "      <th></th>\n",
       "      <th>AtBat</th>\n",
       "      <th>Hits</th>\n",
       "      <th>HmRun</th>\n",
       "      <th>Runs</th>\n",
       "      <th>RBI</th>\n",
       "      <th>Walks</th>\n",
       "      <th>Years</th>\n",
       "      <th>CAtBat</th>\n",
       "      <th>CHits</th>\n",
       "      <th>CHmRun</th>\n",
       "      <th>CRuns</th>\n",
       "      <th>CRBI</th>\n",
       "      <th>CWalks</th>\n",
       "      <th>League</th>\n",
       "      <th>Division</th>\n",
       "      <th>PutOuts</th>\n",
       "      <th>Assists</th>\n",
       "      <th>Errors</th>\n",
       "      <th>Salary</th>\n",
       "      <th>NewLeague</th>\n",
       "    </tr>\n",
       "  </thead>\n",
       "  <tbody>\n",
       "    <tr>\n",
       "      <th>1</th>\n",
       "      <td>315</td>\n",
       "      <td>81</td>\n",
       "      <td>7</td>\n",
       "      <td>24</td>\n",
       "      <td>38</td>\n",
       "      <td>39</td>\n",
       "      <td>14</td>\n",
       "      <td>3449</td>\n",
       "      <td>835</td>\n",
       "      <td>69</td>\n",
       "      <td>321</td>\n",
       "      <td>414</td>\n",
       "      <td>375</td>\n",
       "      <td>N</td>\n",
       "      <td>W</td>\n",
       "      <td>632</td>\n",
       "      <td>43</td>\n",
       "      <td>10</td>\n",
       "      <td>475.0</td>\n",
       "      <td>N</td>\n",
       "    </tr>\n",
       "    <tr>\n",
       "      <th>2</th>\n",
       "      <td>479</td>\n",
       "      <td>130</td>\n",
       "      <td>18</td>\n",
       "      <td>66</td>\n",
       "      <td>72</td>\n",
       "      <td>76</td>\n",
       "      <td>3</td>\n",
       "      <td>1624</td>\n",
       "      <td>457</td>\n",
       "      <td>63</td>\n",
       "      <td>224</td>\n",
       "      <td>266</td>\n",
       "      <td>263</td>\n",
       "      <td>A</td>\n",
       "      <td>W</td>\n",
       "      <td>880</td>\n",
       "      <td>82</td>\n",
       "      <td>14</td>\n",
       "      <td>480.0</td>\n",
       "      <td>A</td>\n",
       "    </tr>\n",
       "    <tr>\n",
       "      <th>3</th>\n",
       "      <td>496</td>\n",
       "      <td>141</td>\n",
       "      <td>20</td>\n",
       "      <td>65</td>\n",
       "      <td>78</td>\n",
       "      <td>37</td>\n",
       "      <td>11</td>\n",
       "      <td>5628</td>\n",
       "      <td>1575</td>\n",
       "      <td>225</td>\n",
       "      <td>828</td>\n",
       "      <td>838</td>\n",
       "      <td>354</td>\n",
       "      <td>N</td>\n",
       "      <td>E</td>\n",
       "      <td>200</td>\n",
       "      <td>11</td>\n",
       "      <td>3</td>\n",
       "      <td>500.0</td>\n",
       "      <td>N</td>\n",
       "    </tr>\n",
       "    <tr>\n",
       "      <th>4</th>\n",
       "      <td>321</td>\n",
       "      <td>87</td>\n",
       "      <td>10</td>\n",
       "      <td>39</td>\n",
       "      <td>42</td>\n",
       "      <td>30</td>\n",
       "      <td>2</td>\n",
       "      <td>396</td>\n",
       "      <td>101</td>\n",
       "      <td>12</td>\n",
       "      <td>48</td>\n",
       "      <td>46</td>\n",
       "      <td>33</td>\n",
       "      <td>N</td>\n",
       "      <td>E</td>\n",
       "      <td>805</td>\n",
       "      <td>40</td>\n",
       "      <td>4</td>\n",
       "      <td>91.5</td>\n",
       "      <td>N</td>\n",
       "    </tr>\n",
       "    <tr>\n",
       "      <th>5</th>\n",
       "      <td>594</td>\n",
       "      <td>169</td>\n",
       "      <td>4</td>\n",
       "      <td>74</td>\n",
       "      <td>51</td>\n",
       "      <td>35</td>\n",
       "      <td>11</td>\n",
       "      <td>4408</td>\n",
       "      <td>1133</td>\n",
       "      <td>19</td>\n",
       "      <td>501</td>\n",
       "      <td>336</td>\n",
       "      <td>194</td>\n",
       "      <td>A</td>\n",
       "      <td>W</td>\n",
       "      <td>282</td>\n",
       "      <td>421</td>\n",
       "      <td>25</td>\n",
       "      <td>750.0</td>\n",
       "      <td>A</td>\n",
       "    </tr>\n",
       "    <tr>\n",
       "      <th>...</th>\n",
       "      <td>...</td>\n",
       "      <td>...</td>\n",
       "      <td>...</td>\n",
       "      <td>...</td>\n",
       "      <td>...</td>\n",
       "      <td>...</td>\n",
       "      <td>...</td>\n",
       "      <td>...</td>\n",
       "      <td>...</td>\n",
       "      <td>...</td>\n",
       "      <td>...</td>\n",
       "      <td>...</td>\n",
       "      <td>...</td>\n",
       "      <td>...</td>\n",
       "      <td>...</td>\n",
       "      <td>...</td>\n",
       "      <td>...</td>\n",
       "      <td>...</td>\n",
       "      <td>...</td>\n",
       "      <td>...</td>\n",
       "    </tr>\n",
       "    <tr>\n",
       "      <th>317</th>\n",
       "      <td>497</td>\n",
       "      <td>127</td>\n",
       "      <td>7</td>\n",
       "      <td>65</td>\n",
       "      <td>48</td>\n",
       "      <td>37</td>\n",
       "      <td>5</td>\n",
       "      <td>2703</td>\n",
       "      <td>806</td>\n",
       "      <td>32</td>\n",
       "      <td>379</td>\n",
       "      <td>311</td>\n",
       "      <td>138</td>\n",
       "      <td>N</td>\n",
       "      <td>E</td>\n",
       "      <td>325</td>\n",
       "      <td>9</td>\n",
       "      <td>3</td>\n",
       "      <td>700.0</td>\n",
       "      <td>N</td>\n",
       "    </tr>\n",
       "    <tr>\n",
       "      <th>318</th>\n",
       "      <td>492</td>\n",
       "      <td>136</td>\n",
       "      <td>5</td>\n",
       "      <td>76</td>\n",
       "      <td>50</td>\n",
       "      <td>94</td>\n",
       "      <td>12</td>\n",
       "      <td>5511</td>\n",
       "      <td>1511</td>\n",
       "      <td>39</td>\n",
       "      <td>897</td>\n",
       "      <td>451</td>\n",
       "      <td>875</td>\n",
       "      <td>A</td>\n",
       "      <td>E</td>\n",
       "      <td>313</td>\n",
       "      <td>381</td>\n",
       "      <td>20</td>\n",
       "      <td>875.0</td>\n",
       "      <td>A</td>\n",
       "    </tr>\n",
       "    <tr>\n",
       "      <th>319</th>\n",
       "      <td>475</td>\n",
       "      <td>126</td>\n",
       "      <td>3</td>\n",
       "      <td>61</td>\n",
       "      <td>43</td>\n",
       "      <td>52</td>\n",
       "      <td>6</td>\n",
       "      <td>1700</td>\n",
       "      <td>433</td>\n",
       "      <td>7</td>\n",
       "      <td>217</td>\n",
       "      <td>93</td>\n",
       "      <td>146</td>\n",
       "      <td>A</td>\n",
       "      <td>W</td>\n",
       "      <td>37</td>\n",
       "      <td>113</td>\n",
       "      <td>7</td>\n",
       "      <td>385.0</td>\n",
       "      <td>A</td>\n",
       "    </tr>\n",
       "    <tr>\n",
       "      <th>320</th>\n",
       "      <td>573</td>\n",
       "      <td>144</td>\n",
       "      <td>9</td>\n",
       "      <td>85</td>\n",
       "      <td>60</td>\n",
       "      <td>78</td>\n",
       "      <td>8</td>\n",
       "      <td>3198</td>\n",
       "      <td>857</td>\n",
       "      <td>97</td>\n",
       "      <td>470</td>\n",
       "      <td>420</td>\n",
       "      <td>332</td>\n",
       "      <td>A</td>\n",
       "      <td>E</td>\n",
       "      <td>1314</td>\n",
       "      <td>131</td>\n",
       "      <td>12</td>\n",
       "      <td>960.0</td>\n",
       "      <td>A</td>\n",
       "    </tr>\n",
       "    <tr>\n",
       "      <th>321</th>\n",
       "      <td>631</td>\n",
       "      <td>170</td>\n",
       "      <td>9</td>\n",
       "      <td>77</td>\n",
       "      <td>44</td>\n",
       "      <td>31</td>\n",
       "      <td>11</td>\n",
       "      <td>4908</td>\n",
       "      <td>1457</td>\n",
       "      <td>30</td>\n",
       "      <td>775</td>\n",
       "      <td>357</td>\n",
       "      <td>249</td>\n",
       "      <td>A</td>\n",
       "      <td>W</td>\n",
       "      <td>408</td>\n",
       "      <td>4</td>\n",
       "      <td>3</td>\n",
       "      <td>1000.0</td>\n",
       "      <td>A</td>\n",
       "    </tr>\n",
       "  </tbody>\n",
       "</table>\n",
       "<p>263 rows × 20 columns</p>\n",
       "</div>"
      ],
      "text/plain": [
       "     AtBat  Hits  HmRun  Runs  RBI  Walks  Years  CAtBat  CHits  CHmRun  \\\n",
       "1      315    81      7    24   38     39     14    3449    835      69   \n",
       "2      479   130     18    66   72     76      3    1624    457      63   \n",
       "3      496   141     20    65   78     37     11    5628   1575     225   \n",
       "4      321    87     10    39   42     30      2     396    101      12   \n",
       "5      594   169      4    74   51     35     11    4408   1133      19   \n",
       "..     ...   ...    ...   ...  ...    ...    ...     ...    ...     ...   \n",
       "317    497   127      7    65   48     37      5    2703    806      32   \n",
       "318    492   136      5    76   50     94     12    5511   1511      39   \n",
       "319    475   126      3    61   43     52      6    1700    433       7   \n",
       "320    573   144      9    85   60     78      8    3198    857      97   \n",
       "321    631   170      9    77   44     31     11    4908   1457      30   \n",
       "\n",
       "     CRuns  CRBI  CWalks League Division  PutOuts  Assists  Errors  Salary  \\\n",
       "1      321   414     375      N        W      632       43      10   475.0   \n",
       "2      224   266     263      A        W      880       82      14   480.0   \n",
       "3      828   838     354      N        E      200       11       3   500.0   \n",
       "4       48    46      33      N        E      805       40       4    91.5   \n",
       "5      501   336     194      A        W      282      421      25   750.0   \n",
       "..     ...   ...     ...    ...      ...      ...      ...     ...     ...   \n",
       "317    379   311     138      N        E      325        9       3   700.0   \n",
       "318    897   451     875      A        E      313      381      20   875.0   \n",
       "319    217    93     146      A        W       37      113       7   385.0   \n",
       "320    470   420     332      A        E     1314      131      12   960.0   \n",
       "321    775   357     249      A        W      408        4       3  1000.0   \n",
       "\n",
       "    NewLeague  \n",
       "1           N  \n",
       "2           A  \n",
       "3           N  \n",
       "4           N  \n",
       "5           A  \n",
       "..        ...  \n",
       "317         N  \n",
       "318         A  \n",
       "319         A  \n",
       "320         A  \n",
       "321         A  \n",
       "\n",
       "[263 rows x 20 columns]"
      ]
     },
     "execution_count": 4,
     "metadata": {},
     "output_type": "execute_result"
    }
   ],
   "source": [
    "myData"
   ]
  },
  {
   "cell_type": "markdown",
   "id": "0fac376a",
   "metadata": {},
   "source": [
    "Part I: Different Model Specs"
   ]
  },
  {
   "cell_type": "markdown",
   "id": "afb49556",
   "metadata": {},
   "source": [
    "A. Regression without regularization"
   ]
  },
  {
   "cell_type": "markdown",
   "id": "46e67d99",
   "metadata": {},
   "source": [
    "1. Create a pipeline that includes all the columns as predictors for Salary, and performs ordinary linear regression\n",
    "\n"
   ]
  },
  {
   "cell_type": "code",
   "execution_count": 5,
   "id": "3640e0cd",
   "metadata": {},
   "outputs": [],
   "source": [
    "X = myData.drop([\"Salary\"], axis = 1)\n",
    "y = myData[\"Salary\"]\n",
    "\n",
    "\n",
    "ct = ColumnTransformer(\n",
    "  [\n",
    "    (\"dummify\", \n",
    "    OneHotEncoder(sparse_output = False, handle_unknown='ignore'),\n",
    "    make_column_selector(dtype_include=object)),\n",
    "    (\"standardize\", \n",
    "    StandardScaler(), \n",
    "    make_column_selector(dtype_include=np.number))\n",
    "  ],\n",
    "  remainder = \"passthrough\"\n",
    ")\n",
    "\n",
    "lr_pipeline_1 = Pipeline(\n",
    "  [(\"preprocessing\", ct),\n",
    "  (\"linear_regression\", LinearRegression())]\n",
    ")"
   ]
  },
  {
   "cell_type": "markdown",
   "id": "6686bd5a",
   "metadata": {},
   "source": [
    "2. Fit this pipeline to the full dataset, and interpret a few of the most important coefficients."
   ]
  },
  {
   "cell_type": "code",
   "execution_count": 6,
   "id": "003d1bcb",
   "metadata": {},
   "outputs": [
    {
     "data": {
      "text/plain": [
       "array([ -31.29971152,   31.29971152,   58.42462282,  -58.42462282,\n",
       "         12.38116255,  -12.38116255, -291.0945557 ,  337.83047948,\n",
       "         37.85383676,  -60.57247861,  -26.99498379,  135.07389695,\n",
       "        -16.69335888, -391.03865466,   86.68761664,  -14.18172332,\n",
       "        480.74713477,  260.68988581, -213.89225864,   78.76129639,\n",
       "         53.73248973,  -22.16086217])"
      ]
     },
     "execution_count": 6,
     "metadata": {},
     "output_type": "execute_result"
    }
   ],
   "source": [
    "lr_fitted = lr_pipeline_1.fit(X, y)\n",
    "ln_cof = lr_fitted.named_steps ['linear_regression'].coef_\n",
    "ln_cof"
   ]
  },
  {
   "cell_type": "code",
   "execution_count": 7,
   "id": "834e0dbc",
   "metadata": {},
   "outputs": [
    {
     "name": "stdout",
     "output_type": "stream",
     "text": [
      "    Coefficient              Var_name\n",
      "0    -31.299712     dummify__League_A\n",
      "1     31.299712     dummify__League_N\n",
      "2     58.424623   dummify__Division_E\n",
      "3    -58.424623   dummify__Division_W\n",
      "4     12.381163  dummify__NewLeague_A\n",
      "5    -12.381163  dummify__NewLeague_N\n",
      "6   -291.094556    standardize__AtBat\n",
      "7    337.830479     standardize__Hits\n",
      "8     37.853837    standardize__HmRun\n",
      "9    -60.572479     standardize__Runs\n",
      "10   -26.994984      standardize__RBI\n",
      "11   135.073897    standardize__Walks\n",
      "12   -16.693359    standardize__Years\n",
      "13  -391.038655   standardize__CAtBat\n",
      "14    86.687617    standardize__CHits\n",
      "15   -14.181723   standardize__CHmRun\n",
      "16   480.747135    standardize__CRuns\n",
      "17   260.689886     standardize__CRBI\n",
      "18  -213.892259   standardize__CWalks\n",
      "19    78.761296  standardize__PutOuts\n",
      "20    53.732490  standardize__Assists\n",
      "21   -22.160862   standardize__Errors\n"
     ]
    }
   ],
   "source": [
    "preprocessed_columns = lr_pipeline_1.named_steps['preprocessing'].get_feature_names_out()\n",
    "\n",
    "coefficients_with_names = list(zip(preprocessed_columns, ln_cof))\n",
    "\n",
    "ln_data = {'Coefficient': [], 'Var_name': []}\n",
    "\n",
    "for coef, var_name in coefficients_with_names:\n",
    "    ln_data['Var_name'].append(coef)\n",
    "    ln_data['Coefficient'].append(var_name)\n",
    "\n",
    "linear_coefficients_df = pd.DataFrame(ln_data)\n",
    "print(linear_coefficients_df)"
   ]
  },
  {
   "cell_type": "markdown",
   "id": "2c868449",
   "metadata": {},
   "source": [
    "Since we standardized the numeric and dummified the categorical, the bigger the values the attribute has, it means its more taking a bigger weight in measuring salary. Some of the biggest number we see here is CRuns with 481, Hits with 338, and CAtBat with -391. \n",
    "With each standard deviation the player has above the mean of number of runs in his carrer, his salary will go up by 481,000.\n",
    "With each standard deviation the player has above the mean of number of hits in 1986, his salary will go up by 338,000.\n",
    "With each standard deviation the player has above the mean of number of times at bat in his career, his salary will go down by 391,000."
   ]
  },
  {
   "cell_type": "markdown",
   "id": "2f7e28b7",
   "metadata": {},
   "source": [
    "3. Use cross-validation to estimate the MSE you would expect if you used this pipeline to predict 1989 salaries."
   ]
  },
  {
   "cell_type": "code",
   "execution_count": 8,
   "id": "db85c4f7",
   "metadata": {},
   "outputs": [
    {
     "data": {
      "text/plain": [
       "121556.06500734284"
      ]
     },
     "execution_count": 8,
     "metadata": {},
     "output_type": "execute_result"
    }
   ],
   "source": [
    "mse_scores_negative = cross_val_score(lr_pipeline_1, X, y, cv = 5, scoring = 'neg_mean_squared_error')\n",
    "mse_scores_positive = -mse_scores_negative\n",
    "mse = np.mean(mse_scores_positive)\n",
    "mse"
   ]
  },
  {
   "cell_type": "markdown",
   "id": "1641ce38",
   "metadata": {},
   "source": [
    "B. Ridge regression"
   ]
  },
  {
   "cell_type": "markdown",
   "id": "35ee0218",
   "metadata": {},
   "source": [
    "1. Create a pipeline that includes all the columns as predictors for Salary, and performs ordinary ridge regression"
   ]
  },
  {
   "cell_type": "code",
   "execution_count": 9,
   "id": "fc68313c",
   "metadata": {},
   "outputs": [],
   "source": [
    "ridge_pipeline_1 = Pipeline(\n",
    "  [(\"preprocessing\", ct),\n",
    "  (\"ridge_regression\", Ridge(1))]\n",
    ")"
   ]
  },
  {
   "cell_type": "markdown",
   "id": "4a9fcd32",
   "metadata": {},
   "source": [
    "2. Use cross-validation to tune the hyperparameter."
   ]
  },
  {
   "cell_type": "code",
   "execution_count": 10,
   "id": "a41d9516",
   "metadata": {
    "scrolled": false
   },
   "outputs": [
    {
     "data": {
      "text/html": [
       "<div>\n",
       "<style scoped>\n",
       "    .dataframe tbody tr th:only-of-type {\n",
       "        vertical-align: middle;\n",
       "    }\n",
       "\n",
       "    .dataframe tbody tr th {\n",
       "        vertical-align: top;\n",
       "    }\n",
       "\n",
       "    .dataframe thead th {\n",
       "        text-align: right;\n",
       "    }\n",
       "</style>\n",
       "<table border=\"1\" class=\"dataframe\">\n",
       "  <thead>\n",
       "    <tr style=\"text-align: right;\">\n",
       "      <th></th>\n",
       "      <th>ridge_regression__alpha</th>\n",
       "      <th>scores</th>\n",
       "    </tr>\n",
       "  </thead>\n",
       "  <tbody>\n",
       "    <tr>\n",
       "      <th>0</th>\n",
       "      <td>0.001</td>\n",
       "      <td>0.343556</td>\n",
       "    </tr>\n",
       "    <tr>\n",
       "      <th>1</th>\n",
       "      <td>0.010</td>\n",
       "      <td>0.344084</td>\n",
       "    </tr>\n",
       "    <tr>\n",
       "      <th>2</th>\n",
       "      <td>0.100</td>\n",
       "      <td>0.347675</td>\n",
       "    </tr>\n",
       "    <tr>\n",
       "      <th>3</th>\n",
       "      <td>1.000</td>\n",
       "      <td>0.355767</td>\n",
       "    </tr>\n",
       "    <tr>\n",
       "      <th>4</th>\n",
       "      <td>10.000</td>\n",
       "      <td>0.368328</td>\n",
       "    </tr>\n",
       "  </tbody>\n",
       "</table>\n",
       "</div>"
      ],
      "text/plain": [
       "   ridge_regression__alpha    scores\n",
       "0                    0.001  0.343556\n",
       "1                    0.010  0.344084\n",
       "2                    0.100  0.347675\n",
       "3                    1.000  0.355767\n",
       "4                   10.000  0.368328"
      ]
     },
     "execution_count": 10,
     "metadata": {},
     "output_type": "execute_result"
    }
   ],
   "source": [
    "ridge_pipeline_1 = Pipeline(\n",
    "  [(\"preprocessing\", ct),\n",
    "  (\"ridge_regression\", Ridge())]\n",
    ")\n",
    "\n",
    "degrees = {'ridge_regression__alpha': [0.001, 0.01, 0.1, 1, 10]}\n",
    "\n",
    "gscv = GridSearchCV(ridge_pipeline_1, degrees, cv = 5, scoring='r2')\n",
    "\n",
    "gscv_fitted = gscv.fit(X, y)\n",
    "\n",
    "gscv_fitted.cv_results_['mean_test_score']\n",
    "pd.DataFrame(data = {'ridge_regression__alpha': [0.001, 0.01, 0.1, 1, 10], \"scores\": gscv_fitted.cv_results_['mean_test_score']})"
   ]
  },
  {
   "cell_type": "markdown",
   "id": "d6d5928d",
   "metadata": {},
   "source": [
    "The highest R2 we get it's from alpha =100. "
   ]
  },
  {
   "cell_type": "markdown",
   "id": "86e40e9f",
   "metadata": {},
   "source": [
    "3. Fit the pipeline with your chosen to the full dataset, and interpret a few of the most important coefficients."
   ]
  },
  {
   "cell_type": "code",
   "execution_count": 47,
   "id": "bd8c7dd4",
   "metadata": {
    "scrolled": true
   },
   "outputs": [
    {
     "data": {
      "text/plain": [
       "array([ -24.41466972,   24.41466972,   59.71825178,  -59.71825178,\n",
       "          7.58713137,   -7.58713137, -133.99591514,  152.62659818,\n",
       "        -10.22097213,   21.67855787,   16.28771149,   82.57729094,\n",
       "        -48.46625667,  -20.19003285,   97.38437356,   58.33691532,\n",
       "        119.70171225,   92.47134762,  -93.93214054,   75.3076013 ,\n",
       "         28.96674963,  -24.91906195])"
      ]
     },
     "execution_count": 47,
     "metadata": {},
     "output_type": "execute_result"
    }
   ],
   "source": [
    "ridge_pipeline_tuned = Pipeline(\n",
    "  [(\"preprocessing\", ct),\n",
    "  (\"ridge_regression\", Ridge(10))]\n",
    ")\n",
    "ridge_tuned_fitted = ridge_pipeline_tuned.fit(X, y)\n",
    "ridge_tuned_cof = ridge_tuned_fitted.named_steps ['ridge_regression'].coef_\n",
    "ridge_tuned_cof"
   ]
  },
  {
   "cell_type": "code",
   "execution_count": 13,
   "id": "ff990c2b",
   "metadata": {},
   "outputs": [
    {
     "name": "stdout",
     "output_type": "stream",
     "text": [
      "    Coefficient              Var_name\n",
      "0    -24.414670     dummify__League_A\n",
      "1     24.414670     dummify__League_N\n",
      "2     59.718252   dummify__Division_E\n",
      "3    -59.718252   dummify__Division_W\n",
      "4      7.587131  dummify__NewLeague_A\n",
      "5     -7.587131  dummify__NewLeague_N\n",
      "6   -133.995915    standardize__AtBat\n",
      "7    152.626598     standardize__Hits\n",
      "8    -10.220972    standardize__HmRun\n",
      "9     21.678558     standardize__Runs\n",
      "10    16.287711      standardize__RBI\n",
      "11    82.577291    standardize__Walks\n",
      "12   -48.466257    standardize__Years\n",
      "13   -20.190033   standardize__CAtBat\n",
      "14    97.384374    standardize__CHits\n",
      "15    58.336915   standardize__CHmRun\n",
      "16   119.701712    standardize__CRuns\n",
      "17    92.471348     standardize__CRBI\n",
      "18   -93.932141   standardize__CWalks\n",
      "19    75.307601  standardize__PutOuts\n",
      "20    28.966750  standardize__Assists\n",
      "21   -24.919062   standardize__Errors\n"
     ]
    }
   ],
   "source": [
    "preprocessed_columns_ridge = ridge_pipeline_tuned.named_steps['preprocessing'].get_feature_names_out()\n",
    "\n",
    "coefficients_with_names = list(zip(preprocessed_columns_ridge, ridge_tuned_cof))\n",
    "\n",
    "ridge_data = {'Coefficient': [], 'Var_name': []}\n",
    "\n",
    "for coef, var_name in coefficients_with_names:\n",
    "    ridge_data['Var_name'].append(coef)\n",
    "    ridge_data['Coefficient'].append(var_name)\n",
    "\n",
    "ridge_coefficients_df = pd.DataFrame(ridge_data)\n",
    "print(ridge_coefficients_df)"
   ]
  },
  {
   "cell_type": "markdown",
   "id": "34467b1f",
   "metadata": {},
   "source": [
    "Since we standardized the numeric and dummified the categorical, the bigger the values the attribute has, it means its more taking a bigger weight in measuring salary. Some of the biggest number we see here is CRuns with 120, Hits with 153, and AtBat with -134. \n",
    "With each standard deviation the player has above the mean of number of runs in his carrer, his salary will go up by 120,000.\n",
    "With each standard deviation the player has above the mean of number of hits in 1986, his salary will go up by 153,000.\n",
    "With each standard deviation the player has above the mean of number of times at bat in 1986, his salary will go down by 134,000."
   ]
  },
  {
   "cell_type": "markdown",
   "id": "c13b18f1",
   "metadata": {},
   "source": [
    "4. Report the MSE you would expect if you used this pipeline to predict 1989 salaries.\n",
    "\n"
   ]
  },
  {
   "cell_type": "code",
   "execution_count": 14,
   "id": "31a1e5b9",
   "metadata": {},
   "outputs": [
    {
     "data": {
      "text/plain": [
       "119348.98477570359"
      ]
     },
     "execution_count": 14,
     "metadata": {},
     "output_type": "execute_result"
    }
   ],
   "source": [
    "mse_scores_negative = cross_val_score(ridge_pipeline_tuned, X, y, cv = 5, scoring = 'neg_mean_squared_error')\n",
    "mse_scores_positive = -mse_scores_negative\n",
    "mse = np.mean(mse_scores_positive)\n",
    "mse"
   ]
  },
  {
   "cell_type": "markdown",
   "id": "fc14f315",
   "metadata": {},
   "source": [
    "C. Lasso Regression"
   ]
  },
  {
   "cell_type": "markdown",
   "id": "5d5a7929",
   "metadata": {},
   "source": [
    "1. Create a pipeline that includes all the columns as predictors for Salary, and performs ordinary lasso regression"
   ]
  },
  {
   "cell_type": "code",
   "execution_count": 15,
   "id": "d1cb86c9",
   "metadata": {},
   "outputs": [],
   "source": [
    "lasso_pipeline_1 = Pipeline(\n",
    "  [(\"preprocessing\", ct),\n",
    "  (\"lasso_regression\", Lasso())]\n",
    ")"
   ]
  },
  {
   "cell_type": "markdown",
   "id": "ce4833fd",
   "metadata": {},
   "source": [
    "2. Use cross-validation to tune the hyperparameter."
   ]
  },
  {
   "cell_type": "code",
   "execution_count": 16,
   "id": "fde8557d",
   "metadata": {
    "scrolled": true
   },
   "outputs": [
    {
     "name": "stderr",
     "output_type": "stream",
     "text": [
      "/Users/richlegendary/anaconda3/lib/python3.11/site-packages/sklearn/linear_model/_coordinate_descent.py:628: ConvergenceWarning: Objective did not converge. You might want to increase the number of iterations, check the scale of the features or consider increasing regularisation. Duality gap: 1.004e+07, tolerance: 4.708e+03\n",
      "  model = cd_fast.enet_coordinate_descent(\n",
      "/Users/richlegendary/anaconda3/lib/python3.11/site-packages/sklearn/linear_model/_coordinate_descent.py:628: ConvergenceWarning: Objective did not converge. You might want to increase the number of iterations, check the scale of the features or consider increasing regularisation. Duality gap: 8.984e+06, tolerance: 3.606e+03\n",
      "  model = cd_fast.enet_coordinate_descent(\n",
      "/Users/richlegendary/anaconda3/lib/python3.11/site-packages/sklearn/linear_model/_coordinate_descent.py:628: ConvergenceWarning: Objective did not converge. You might want to increase the number of iterations, check the scale of the features or consider increasing regularisation. Duality gap: 1.012e+07, tolerance: 4.137e+03\n",
      "  model = cd_fast.enet_coordinate_descent(\n",
      "/Users/richlegendary/anaconda3/lib/python3.11/site-packages/sklearn/linear_model/_coordinate_descent.py:628: ConvergenceWarning: Objective did not converge. You might want to increase the number of iterations, check the scale of the features or consider increasing regularisation. Duality gap: 4.096e+06, tolerance: 4.281e+03\n",
      "  model = cd_fast.enet_coordinate_descent(\n",
      "/Users/richlegendary/anaconda3/lib/python3.11/site-packages/sklearn/linear_model/_coordinate_descent.py:628: ConvergenceWarning: Objective did not converge. You might want to increase the number of iterations, check the scale of the features or consider increasing regularisation. Duality gap: 9.537e+06, tolerance: 4.558e+03\n",
      "  model = cd_fast.enet_coordinate_descent(\n",
      "/Users/richlegendary/anaconda3/lib/python3.11/site-packages/sklearn/linear_model/_coordinate_descent.py:628: ConvergenceWarning: Objective did not converge. You might want to increase the number of iterations, check the scale of the features or consider increasing regularisation. Duality gap: 6.594e+06, tolerance: 4.708e+03\n",
      "  model = cd_fast.enet_coordinate_descent(\n",
      "/Users/richlegendary/anaconda3/lib/python3.11/site-packages/sklearn/linear_model/_coordinate_descent.py:628: ConvergenceWarning: Objective did not converge. You might want to increase the number of iterations, check the scale of the features or consider increasing regularisation. Duality gap: 7.059e+06, tolerance: 3.606e+03\n",
      "  model = cd_fast.enet_coordinate_descent(\n",
      "/Users/richlegendary/anaconda3/lib/python3.11/site-packages/sklearn/linear_model/_coordinate_descent.py:628: ConvergenceWarning: Objective did not converge. You might want to increase the number of iterations, check the scale of the features or consider increasing regularisation. Duality gap: 8.591e+06, tolerance: 4.137e+03\n",
      "  model = cd_fast.enet_coordinate_descent(\n",
      "/Users/richlegendary/anaconda3/lib/python3.11/site-packages/sklearn/linear_model/_coordinate_descent.py:628: ConvergenceWarning: Objective did not converge. You might want to increase the number of iterations, check the scale of the features or consider increasing regularisation. Duality gap: 4.471e+05, tolerance: 4.281e+03\n",
      "  model = cd_fast.enet_coordinate_descent(\n",
      "/Users/richlegendary/anaconda3/lib/python3.11/site-packages/sklearn/linear_model/_coordinate_descent.py:628: ConvergenceWarning: Objective did not converge. You might want to increase the number of iterations, check the scale of the features or consider increasing regularisation. Duality gap: 8.066e+06, tolerance: 4.558e+03\n",
      "  model = cd_fast.enet_coordinate_descent(\n",
      "/Users/richlegendary/anaconda3/lib/python3.11/site-packages/sklearn/linear_model/_coordinate_descent.py:628: ConvergenceWarning: Objective did not converge. You might want to increase the number of iterations, check the scale of the features or consider increasing regularisation. Duality gap: 4.923e+04, tolerance: 4.708e+03\n",
      "  model = cd_fast.enet_coordinate_descent(\n",
      "/Users/richlegendary/anaconda3/lib/python3.11/site-packages/sklearn/linear_model/_coordinate_descent.py:628: ConvergenceWarning: Objective did not converge. You might want to increase the number of iterations, check the scale of the features or consider increasing regularisation. Duality gap: 2.726e+05, tolerance: 3.606e+03\n",
      "  model = cd_fast.enet_coordinate_descent(\n",
      "/Users/richlegendary/anaconda3/lib/python3.11/site-packages/sklearn/linear_model/_coordinate_descent.py:628: ConvergenceWarning: Objective did not converge. You might want to increase the number of iterations, check the scale of the features or consider increasing regularisation. Duality gap: 2.158e+05, tolerance: 4.137e+03\n",
      "  model = cd_fast.enet_coordinate_descent(\n",
      "/Users/richlegendary/anaconda3/lib/python3.11/site-packages/sklearn/linear_model/_coordinate_descent.py:628: ConvergenceWarning: Objective did not converge. You might want to increase the number of iterations, check the scale of the features or consider increasing regularisation. Duality gap: 2.929e+04, tolerance: 4.281e+03\n",
      "  model = cd_fast.enet_coordinate_descent(\n",
      "/Users/richlegendary/anaconda3/lib/python3.11/site-packages/sklearn/linear_model/_coordinate_descent.py:628: ConvergenceWarning: Objective did not converge. You might want to increase the number of iterations, check the scale of the features or consider increasing regularisation. Duality gap: 4.282e+05, tolerance: 4.558e+03\n",
      "  model = cd_fast.enet_coordinate_descent(\n",
      "/Users/richlegendary/anaconda3/lib/python3.11/site-packages/sklearn/linear_model/_coordinate_descent.py:628: ConvergenceWarning: Objective did not converge. You might want to increase the number of iterations, check the scale of the features or consider increasing regularisation. Duality gap: 4.815e+03, tolerance: 4.281e+03\n",
      "  model = cd_fast.enet_coordinate_descent(\n"
     ]
    },
    {
     "data": {
      "text/html": [
       "<div>\n",
       "<style scoped>\n",
       "    .dataframe tbody tr th:only-of-type {\n",
       "        vertical-align: middle;\n",
       "    }\n",
       "\n",
       "    .dataframe tbody tr th {\n",
       "        vertical-align: top;\n",
       "    }\n",
       "\n",
       "    .dataframe thead th {\n",
       "        text-align: right;\n",
       "    }\n",
       "</style>\n",
       "<table border=\"1\" class=\"dataframe\">\n",
       "  <thead>\n",
       "    <tr style=\"text-align: right;\">\n",
       "      <th></th>\n",
       "      <th>lasso_regression__alpha</th>\n",
       "      <th>scores</th>\n",
       "    </tr>\n",
       "  </thead>\n",
       "  <tbody>\n",
       "    <tr>\n",
       "      <th>0</th>\n",
       "      <td>0.001</td>\n",
       "      <td>0.344223</td>\n",
       "    </tr>\n",
       "    <tr>\n",
       "      <th>1</th>\n",
       "      <td>0.010</td>\n",
       "      <td>0.344394</td>\n",
       "    </tr>\n",
       "    <tr>\n",
       "      <th>2</th>\n",
       "      <td>0.100</td>\n",
       "      <td>0.346041</td>\n",
       "    </tr>\n",
       "    <tr>\n",
       "      <th>3</th>\n",
       "      <td>1.000</td>\n",
       "      <td>0.354238</td>\n",
       "    </tr>\n",
       "    <tr>\n",
       "      <th>4</th>\n",
       "      <td>10.000</td>\n",
       "      <td>0.369523</td>\n",
       "    </tr>\n",
       "  </tbody>\n",
       "</table>\n",
       "</div>"
      ],
      "text/plain": [
       "   lasso_regression__alpha    scores\n",
       "0                    0.001  0.344223\n",
       "1                    0.010  0.344394\n",
       "2                    0.100  0.346041\n",
       "3                    1.000  0.354238\n",
       "4                   10.000  0.369523"
      ]
     },
     "execution_count": 16,
     "metadata": {},
     "output_type": "execute_result"
    }
   ],
   "source": [
    "lasso_pipeline_1 = Pipeline(\n",
    "  [(\"preprocessing\", ct),\n",
    "  (\"lasso_regression\", Lasso())]\n",
    ")\n",
    "\n",
    "degrees = {'lasso_regression__alpha': [0.001, 0.01, 0.1, 1, 10]}\n",
    "\n",
    "gscv = GridSearchCV(lasso_pipeline_1, degrees, cv = 5, scoring='r2')\n",
    "\n",
    "gscv_fitted = gscv.fit(X, y)\n",
    "\n",
    "gscv_fitted.cv_results_['mean_test_score']\n",
    "pd.DataFrame(data = {'lasso_regression__alpha': [0.001, 0.01, 0.1, 1, 10], \"scores\": gscv_fitted.cv_results_['mean_test_score']})"
   ]
  },
  {
   "cell_type": "markdown",
   "id": "79117803",
   "metadata": {},
   "source": [
    "The highest R2 we get it's from alpha =10. "
   ]
  },
  {
   "cell_type": "markdown",
   "id": "32052297",
   "metadata": {},
   "source": [
    "3. Fit the pipeline with your chosen to the full dataset, and interpret a few of the most important coefficients.\n",
    "\n"
   ]
  },
  {
   "cell_type": "code",
   "execution_count": 17,
   "id": "95dff160",
   "metadata": {
    "scrolled": true
   },
   "outputs": [
    {
     "data": {
      "text/plain": [
       "array([-0.00000000e+00,  0.00000000e+00,  9.54132032e+01, -3.32794771e-12,\n",
       "       -0.00000000e+00,  0.00000000e+00, -0.00000000e+00,  8.87416269e+01,\n",
       "        0.00000000e+00,  0.00000000e+00,  0.00000000e+00,  4.99028129e+01,\n",
       "       -0.00000000e+00,  0.00000000e+00,  0.00000000e+00,  0.00000000e+00,\n",
       "        7.22275293e+01,  1.34032027e+02, -0.00000000e+00,  6.67370055e+01,\n",
       "        0.00000000e+00, -4.15828061e+00])"
      ]
     },
     "execution_count": 17,
     "metadata": {},
     "output_type": "execute_result"
    }
   ],
   "source": [
    "lasso_pipeline_tuned = Pipeline(\n",
    "  [(\"preprocessing\", ct),\n",
    "  (\"lasso_regression\", Lasso(10))]\n",
    ")\n",
    "lasso_tuned_fitted = lasso_pipeline_tuned.fit(X, y)\n",
    "lasso_tuned_cof = lasso_tuned_fitted.named_steps ['lasso_regression'].coef_\n",
    "lasso_tuned_cof"
   ]
  },
  {
   "cell_type": "code",
   "execution_count": 18,
   "id": "0ec9a2f8",
   "metadata": {},
   "outputs": [
    {
     "name": "stdout",
     "output_type": "stream",
     "text": [
      "     Coefficient              Var_name\n",
      "0  -0.000000e+00     dummify__League_A\n",
      "1   0.000000e+00     dummify__League_N\n",
      "2   9.541320e+01   dummify__Division_E\n",
      "3  -3.327948e-12   dummify__Division_W\n",
      "4  -0.000000e+00  dummify__NewLeague_A\n",
      "5   0.000000e+00  dummify__NewLeague_N\n",
      "6  -0.000000e+00    standardize__AtBat\n",
      "7   8.874163e+01     standardize__Hits\n",
      "8   0.000000e+00    standardize__HmRun\n",
      "9   0.000000e+00     standardize__Runs\n",
      "10  0.000000e+00      standardize__RBI\n",
      "11  4.990281e+01    standardize__Walks\n",
      "12 -0.000000e+00    standardize__Years\n",
      "13  0.000000e+00   standardize__CAtBat\n",
      "14  0.000000e+00    standardize__CHits\n",
      "15  0.000000e+00   standardize__CHmRun\n",
      "16  7.222753e+01    standardize__CRuns\n",
      "17  1.340320e+02     standardize__CRBI\n",
      "18 -0.000000e+00   standardize__CWalks\n",
      "19  6.673701e+01  standardize__PutOuts\n",
      "20  0.000000e+00  standardize__Assists\n",
      "21 -4.158281e+00   standardize__Errors\n"
     ]
    }
   ],
   "source": [
    "preprocessed_columns_lasso = lasso_pipeline_tuned.named_steps['preprocessing'].get_feature_names_out()\n",
    "\n",
    "coefficients_with_names = list(zip(preprocessed_columns_lasso, lasso_tuned_cof))\n",
    "\n",
    "lasso_data = {'Coefficient': [], 'Var_name': []}\n",
    "\n",
    "for coef, var_name in coefficients_with_names:\n",
    "    lasso_data['Var_name'].append(coef)\n",
    "    lasso_data['Coefficient'].append(var_name)\n",
    "\n",
    "lasso_coefficients_df = pd.DataFrame(lasso_data)\n",
    "print(lasso_coefficients_df)"
   ]
  },
  {
   "cell_type": "markdown",
   "id": "9da43031",
   "metadata": {},
   "source": [
    "Since we standardized the numeric and dummified the categorical, the bigger the values the attribute has, it means its more taking a bigger weight in measuring salary. Some of the biggest number we see here is CRuns with 72, Hits with 88, and CRBI with 134. \n",
    "With each standard deviation the player has above the mean of number of runs in his carrer, his salary will go up by 72,000.\n",
    "With each standard deviation the player has above the mean of number of hits in 1986, his salary will go up by 88,000.\n",
    "With each standard deviation the player has above the mean of number of runs batted in his career, his salary will go up by 134,000."
   ]
  },
  {
   "cell_type": "markdown",
   "id": "0d8c8f7c",
   "metadata": {},
   "source": [
    "4. Report the MSE you would expect if you used this pipeline to predict 1989 salaries.\n",
    "\n"
   ]
  },
  {
   "cell_type": "code",
   "execution_count": 19,
   "id": "772cd7d4",
   "metadata": {},
   "outputs": [
    {
     "data": {
      "text/plain": [
       "121828.14133338635"
      ]
     },
     "execution_count": 19,
     "metadata": {},
     "output_type": "execute_result"
    }
   ],
   "source": [
    "mse_scores_negative = cross_val_score(lasso_pipeline_tuned, X, y, cv = 5, scoring = 'neg_mean_squared_error')\n",
    "mse_scores_positive = -mse_scores_negative\n",
    "mse = np.mean(mse_scores_positive)\n",
    "mse"
   ]
  },
  {
   "cell_type": "markdown",
   "id": "d3169194",
   "metadata": {},
   "source": [
    "D. Elastic Net"
   ]
  },
  {
   "cell_type": "markdown",
   "id": "a5122b6f",
   "metadata": {},
   "source": [
    "1. Create a pipeline that includes all the columns as predictors for Salary, and performs ordinary ridge regression\n",
    "\n"
   ]
  },
  {
   "cell_type": "code",
   "execution_count": 20,
   "id": "04826704",
   "metadata": {},
   "outputs": [],
   "source": [
    "elastic_net_pipeline_1 = Pipeline(\n",
    "  [(\"preprocessing\", ct),\n",
    "  (\"elastic_net\", ElasticNet(alpha=(),l1_ratio=()))]\n",
    ")"
   ]
  },
  {
   "cell_type": "markdown",
   "id": "d593c309",
   "metadata": {},
   "source": [
    "2. Use cross-validation to tune the hyperparameter."
   ]
  },
  {
   "cell_type": "code",
   "execution_count": 21,
   "id": "7b99d70d",
   "metadata": {},
   "outputs": [
    {
     "name": "stderr",
     "output_type": "stream",
     "text": [
      "/Users/richlegendary/anaconda3/lib/python3.11/site-packages/sklearn/linear_model/_coordinate_descent.py:628: ConvergenceWarning: Objective did not converge. You might want to increase the number of iterations, check the scale of the features or consider increasing regularisation. Duality gap: 1.045e+07, tolerance: 4.708e+03\n",
      "  model = cd_fast.enet_coordinate_descent(\n",
      "/Users/richlegendary/anaconda3/lib/python3.11/site-packages/sklearn/linear_model/_coordinate_descent.py:628: ConvergenceWarning: Objective did not converge. You might want to increase the number of iterations, check the scale of the features or consider increasing regularisation. Duality gap: 9.229e+06, tolerance: 3.606e+03\n",
      "  model = cd_fast.enet_coordinate_descent(\n",
      "/Users/richlegendary/anaconda3/lib/python3.11/site-packages/sklearn/linear_model/_coordinate_descent.py:628: ConvergenceWarning: Objective did not converge. You might want to increase the number of iterations, check the scale of the features or consider increasing regularisation. Duality gap: 1.036e+07, tolerance: 4.137e+03\n",
      "  model = cd_fast.enet_coordinate_descent(\n",
      "/Users/richlegendary/anaconda3/lib/python3.11/site-packages/sklearn/linear_model/_coordinate_descent.py:628: ConvergenceWarning: Objective did not converge. You might want to increase the number of iterations, check the scale of the features or consider increasing regularisation. Duality gap: 7.456e+06, tolerance: 4.281e+03\n",
      "  model = cd_fast.enet_coordinate_descent(\n",
      "/Users/richlegendary/anaconda3/lib/python3.11/site-packages/sklearn/linear_model/_coordinate_descent.py:628: ConvergenceWarning: Objective did not converge. You might want to increase the number of iterations, check the scale of the features or consider increasing regularisation. Duality gap: 9.787e+06, tolerance: 4.558e+03\n",
      "  model = cd_fast.enet_coordinate_descent(\n",
      "/Users/richlegendary/anaconda3/lib/python3.11/site-packages/sklearn/linear_model/_coordinate_descent.py:628: ConvergenceWarning: Objective did not converge. You might want to increase the number of iterations, check the scale of the features or consider increasing regularisation. Duality gap: 1.045e+07, tolerance: 4.708e+03\n",
      "  model = cd_fast.enet_coordinate_descent(\n",
      "/Users/richlegendary/anaconda3/lib/python3.11/site-packages/sklearn/linear_model/_coordinate_descent.py:628: ConvergenceWarning: Objective did not converge. You might want to increase the number of iterations, check the scale of the features or consider increasing regularisation. Duality gap: 9.228e+06, tolerance: 3.606e+03\n",
      "  model = cd_fast.enet_coordinate_descent(\n",
      "/Users/richlegendary/anaconda3/lib/python3.11/site-packages/sklearn/linear_model/_coordinate_descent.py:628: ConvergenceWarning: Objective did not converge. You might want to increase the number of iterations, check the scale of the features or consider increasing regularisation. Duality gap: 1.036e+07, tolerance: 4.137e+03\n",
      "  model = cd_fast.enet_coordinate_descent(\n",
      "/Users/richlegendary/anaconda3/lib/python3.11/site-packages/sklearn/linear_model/_coordinate_descent.py:628: ConvergenceWarning: Objective did not converge. You might want to increase the number of iterations, check the scale of the features or consider increasing regularisation. Duality gap: 7.455e+06, tolerance: 4.281e+03\n",
      "  model = cd_fast.enet_coordinate_descent(\n",
      "/Users/richlegendary/anaconda3/lib/python3.11/site-packages/sklearn/linear_model/_coordinate_descent.py:628: ConvergenceWarning: Objective did not converge. You might want to increase the number of iterations, check the scale of the features or consider increasing regularisation. Duality gap: 9.786e+06, tolerance: 4.558e+03\n",
      "  model = cd_fast.enet_coordinate_descent(\n",
      "/Users/richlegendary/anaconda3/lib/python3.11/site-packages/sklearn/linear_model/_coordinate_descent.py:628: ConvergenceWarning: Objective did not converge. You might want to increase the number of iterations, check the scale of the features or consider increasing regularisation. Duality gap: 1.044e+07, tolerance: 4.708e+03\n",
      "  model = cd_fast.enet_coordinate_descent(\n",
      "/Users/richlegendary/anaconda3/lib/python3.11/site-packages/sklearn/linear_model/_coordinate_descent.py:628: ConvergenceWarning: Objective did not converge. You might want to increase the number of iterations, check the scale of the features or consider increasing regularisation. Duality gap: 9.218e+06, tolerance: 3.606e+03\n",
      "  model = cd_fast.enet_coordinate_descent(\n",
      "/Users/richlegendary/anaconda3/lib/python3.11/site-packages/sklearn/linear_model/_coordinate_descent.py:628: ConvergenceWarning: Objective did not converge. You might want to increase the number of iterations, check the scale of the features or consider increasing regularisation. Duality gap: 1.035e+07, tolerance: 4.137e+03\n",
      "  model = cd_fast.enet_coordinate_descent(\n",
      "/Users/richlegendary/anaconda3/lib/python3.11/site-packages/sklearn/linear_model/_coordinate_descent.py:628: ConvergenceWarning: Objective did not converge. You might want to increase the number of iterations, check the scale of the features or consider increasing regularisation. Duality gap: 7.446e+06, tolerance: 4.281e+03\n",
      "  model = cd_fast.enet_coordinate_descent(\n",
      "/Users/richlegendary/anaconda3/lib/python3.11/site-packages/sklearn/linear_model/_coordinate_descent.py:628: ConvergenceWarning: Objective did not converge. You might want to increase the number of iterations, check the scale of the features or consider increasing regularisation. Duality gap: 9.778e+06, tolerance: 4.558e+03\n",
      "  model = cd_fast.enet_coordinate_descent(\n",
      "/Users/richlegendary/anaconda3/lib/python3.11/site-packages/sklearn/linear_model/_coordinate_descent.py:628: ConvergenceWarning: Objective did not converge. You might want to increase the number of iterations, check the scale of the features or consider increasing regularisation. Duality gap: 1.033e+07, tolerance: 4.708e+03\n",
      "  model = cd_fast.enet_coordinate_descent(\n",
      "/Users/richlegendary/anaconda3/lib/python3.11/site-packages/sklearn/linear_model/_coordinate_descent.py:628: ConvergenceWarning: Objective did not converge. You might want to increase the number of iterations, check the scale of the features or consider increasing regularisation. Duality gap: 9.137e+06, tolerance: 3.606e+03\n",
      "  model = cd_fast.enet_coordinate_descent(\n",
      "/Users/richlegendary/anaconda3/lib/python3.11/site-packages/sklearn/linear_model/_coordinate_descent.py:628: ConvergenceWarning: Objective did not converge. You might want to increase the number of iterations, check the scale of the features or consider increasing regularisation. Duality gap: 1.030e+07, tolerance: 4.137e+03\n",
      "  model = cd_fast.enet_coordinate_descent(\n",
      "/Users/richlegendary/anaconda3/lib/python3.11/site-packages/sklearn/linear_model/_coordinate_descent.py:628: ConvergenceWarning: Objective did not converge. You might want to increase the number of iterations, check the scale of the features or consider increasing regularisation. Duality gap: 7.359e+06, tolerance: 4.281e+03\n",
      "  model = cd_fast.enet_coordinate_descent(\n",
      "/Users/richlegendary/anaconda3/lib/python3.11/site-packages/sklearn/linear_model/_coordinate_descent.py:628: ConvergenceWarning: Objective did not converge. You might want to increase the number of iterations, check the scale of the features or consider increasing regularisation. Duality gap: 9.710e+06, tolerance: 4.558e+03\n",
      "  model = cd_fast.enet_coordinate_descent(\n",
      "/Users/richlegendary/anaconda3/lib/python3.11/site-packages/sklearn/linear_model/_coordinate_descent.py:628: ConvergenceWarning: Objective did not converge. You might want to increase the number of iterations, check the scale of the features or consider increasing regularisation. Duality gap: 1.004e+07, tolerance: 4.708e+03\n",
      "  model = cd_fast.enet_coordinate_descent(\n",
      "/Users/richlegendary/anaconda3/lib/python3.11/site-packages/sklearn/linear_model/_coordinate_descent.py:628: ConvergenceWarning: Objective did not converge. You might want to increase the number of iterations, check the scale of the features or consider increasing regularisation. Duality gap: 8.984e+06, tolerance: 3.606e+03\n",
      "  model = cd_fast.enet_coordinate_descent(\n",
      "/Users/richlegendary/anaconda3/lib/python3.11/site-packages/sklearn/linear_model/_coordinate_descent.py:628: ConvergenceWarning: Objective did not converge. You might want to increase the number of iterations, check the scale of the features or consider increasing regularisation. Duality gap: 1.012e+07, tolerance: 4.137e+03\n",
      "  model = cd_fast.enet_coordinate_descent(\n",
      "/Users/richlegendary/anaconda3/lib/python3.11/site-packages/sklearn/linear_model/_coordinate_descent.py:628: ConvergenceWarning: Objective did not converge. You might want to increase the number of iterations, check the scale of the features or consider increasing regularisation. Duality gap: 4.096e+06, tolerance: 4.281e+03\n",
      "  model = cd_fast.enet_coordinate_descent(\n",
      "/Users/richlegendary/anaconda3/lib/python3.11/site-packages/sklearn/linear_model/_coordinate_descent.py:628: ConvergenceWarning: Objective did not converge. You might want to increase the number of iterations, check the scale of the features or consider increasing regularisation. Duality gap: 9.537e+06, tolerance: 4.558e+03\n",
      "  model = cd_fast.enet_coordinate_descent(\n",
      "/Users/richlegendary/anaconda3/lib/python3.11/site-packages/sklearn/linear_model/_coordinate_descent.py:628: ConvergenceWarning: Objective did not converge. You might want to increase the number of iterations, check the scale of the features or consider increasing regularisation. Duality gap: 1.574e+06, tolerance: 4.708e+03\n",
      "  model = cd_fast.enet_coordinate_descent(\n",
      "/Users/richlegendary/anaconda3/lib/python3.11/site-packages/sklearn/linear_model/_coordinate_descent.py:628: ConvergenceWarning: Objective did not converge. You might want to increase the number of iterations, check the scale of the features or consider increasing regularisation. Duality gap: 1.328e+06, tolerance: 3.606e+03\n",
      "  model = cd_fast.enet_coordinate_descent(\n"
     ]
    },
    {
     "name": "stderr",
     "output_type": "stream",
     "text": [
      "/Users/richlegendary/anaconda3/lib/python3.11/site-packages/sklearn/linear_model/_coordinate_descent.py:628: ConvergenceWarning: Objective did not converge. You might want to increase the number of iterations, check the scale of the features or consider increasing regularisation. Duality gap: 7.004e+06, tolerance: 4.137e+03\n",
      "  model = cd_fast.enet_coordinate_descent(\n",
      "/Users/richlegendary/anaconda3/lib/python3.11/site-packages/sklearn/linear_model/_coordinate_descent.py:628: ConvergenceWarning: Objective did not converge. You might want to increase the number of iterations, check the scale of the features or consider increasing regularisation. Duality gap: 2.704e+06, tolerance: 4.281e+03\n",
      "  model = cd_fast.enet_coordinate_descent(\n",
      "/Users/richlegendary/anaconda3/lib/python3.11/site-packages/sklearn/linear_model/_coordinate_descent.py:628: ConvergenceWarning: Objective did not converge. You might want to increase the number of iterations, check the scale of the features or consider increasing regularisation. Duality gap: 4.329e+06, tolerance: 4.558e+03\n",
      "  model = cd_fast.enet_coordinate_descent(\n",
      "/Users/richlegendary/anaconda3/lib/python3.11/site-packages/sklearn/linear_model/_coordinate_descent.py:628: ConvergenceWarning: Objective did not converge. You might want to increase the number of iterations, check the scale of the features or consider increasing regularisation. Duality gap: 1.303e+04, tolerance: 4.708e+03\n",
      "  model = cd_fast.enet_coordinate_descent(\n",
      "/Users/richlegendary/anaconda3/lib/python3.11/site-packages/sklearn/linear_model/_coordinate_descent.py:628: ConvergenceWarning: Objective did not converge. You might want to increase the number of iterations, check the scale of the features or consider increasing regularisation. Duality gap: 7.205e+04, tolerance: 4.137e+03\n",
      "  model = cd_fast.enet_coordinate_descent(\n",
      "/Users/richlegendary/anaconda3/lib/python3.11/site-packages/sklearn/linear_model/_coordinate_descent.py:628: ConvergenceWarning: Objective did not converge. You might want to increase the number of iterations, check the scale of the features or consider increasing regularisation. Duality gap: 1.175e+05, tolerance: 4.281e+03\n",
      "  model = cd_fast.enet_coordinate_descent(\n",
      "/Users/richlegendary/anaconda3/lib/python3.11/site-packages/sklearn/linear_model/_coordinate_descent.py:628: ConvergenceWarning: Objective did not converge. You might want to increase the number of iterations, check the scale of the features or consider increasing regularisation. Duality gap: 2.479e+05, tolerance: 4.558e+03\n",
      "  model = cd_fast.enet_coordinate_descent(\n",
      "/Users/richlegendary/anaconda3/lib/python3.11/site-packages/sklearn/linear_model/_coordinate_descent.py:628: ConvergenceWarning: Objective did not converge. You might want to increase the number of iterations, check the scale of the features or consider increasing regularisation. Duality gap: 6.594e+06, tolerance: 4.708e+03\n",
      "  model = cd_fast.enet_coordinate_descent(\n",
      "/Users/richlegendary/anaconda3/lib/python3.11/site-packages/sklearn/linear_model/_coordinate_descent.py:628: ConvergenceWarning: Objective did not converge. You might want to increase the number of iterations, check the scale of the features or consider increasing regularisation. Duality gap: 7.059e+06, tolerance: 3.606e+03\n",
      "  model = cd_fast.enet_coordinate_descent(\n",
      "/Users/richlegendary/anaconda3/lib/python3.11/site-packages/sklearn/linear_model/_coordinate_descent.py:628: ConvergenceWarning: Objective did not converge. You might want to increase the number of iterations, check the scale of the features or consider increasing regularisation. Duality gap: 8.591e+06, tolerance: 4.137e+03\n",
      "  model = cd_fast.enet_coordinate_descent(\n",
      "/Users/richlegendary/anaconda3/lib/python3.11/site-packages/sklearn/linear_model/_coordinate_descent.py:628: ConvergenceWarning: Objective did not converge. You might want to increase the number of iterations, check the scale of the features or consider increasing regularisation. Duality gap: 4.471e+05, tolerance: 4.281e+03\n",
      "  model = cd_fast.enet_coordinate_descent(\n",
      "/Users/richlegendary/anaconda3/lib/python3.11/site-packages/sklearn/linear_model/_coordinate_descent.py:628: ConvergenceWarning: Objective did not converge. You might want to increase the number of iterations, check the scale of the features or consider increasing regularisation. Duality gap: 8.066e+06, tolerance: 4.558e+03\n",
      "  model = cd_fast.enet_coordinate_descent(\n",
      "/Users/richlegendary/anaconda3/lib/python3.11/site-packages/sklearn/linear_model/_coordinate_descent.py:628: ConvergenceWarning: Objective did not converge. You might want to increase the number of iterations, check the scale of the features or consider increasing regularisation. Duality gap: 4.923e+04, tolerance: 4.708e+03\n",
      "  model = cd_fast.enet_coordinate_descent(\n",
      "/Users/richlegendary/anaconda3/lib/python3.11/site-packages/sklearn/linear_model/_coordinate_descent.py:628: ConvergenceWarning: Objective did not converge. You might want to increase the number of iterations, check the scale of the features or consider increasing regularisation. Duality gap: 2.726e+05, tolerance: 3.606e+03\n",
      "  model = cd_fast.enet_coordinate_descent(\n",
      "/Users/richlegendary/anaconda3/lib/python3.11/site-packages/sklearn/linear_model/_coordinate_descent.py:628: ConvergenceWarning: Objective did not converge. You might want to increase the number of iterations, check the scale of the features or consider increasing regularisation. Duality gap: 2.158e+05, tolerance: 4.137e+03\n",
      "  model = cd_fast.enet_coordinate_descent(\n",
      "/Users/richlegendary/anaconda3/lib/python3.11/site-packages/sklearn/linear_model/_coordinate_descent.py:628: ConvergenceWarning: Objective did not converge. You might want to increase the number of iterations, check the scale of the features or consider increasing regularisation. Duality gap: 2.929e+04, tolerance: 4.281e+03\n",
      "  model = cd_fast.enet_coordinate_descent(\n",
      "/Users/richlegendary/anaconda3/lib/python3.11/site-packages/sklearn/linear_model/_coordinate_descent.py:628: ConvergenceWarning: Objective did not converge. You might want to increase the number of iterations, check the scale of the features or consider increasing regularisation. Duality gap: 4.282e+05, tolerance: 4.558e+03\n",
      "  model = cd_fast.enet_coordinate_descent(\n",
      "/Users/richlegendary/anaconda3/lib/python3.11/site-packages/sklearn/linear_model/_coordinate_descent.py:628: ConvergenceWarning: Objective did not converge. You might want to increase the number of iterations, check the scale of the features or consider increasing regularisation. Duality gap: 4.815e+03, tolerance: 4.281e+03\n",
      "  model = cd_fast.enet_coordinate_descent(\n"
     ]
    },
    {
     "data": {
      "text/html": [
       "<div>\n",
       "<style scoped>\n",
       "    .dataframe tbody tr th:only-of-type {\n",
       "        vertical-align: middle;\n",
       "    }\n",
       "\n",
       "    .dataframe tbody tr th {\n",
       "        vertical-align: top;\n",
       "    }\n",
       "\n",
       "    .dataframe thead th {\n",
       "        text-align: right;\n",
       "    }\n",
       "</style>\n",
       "<table border=\"1\" class=\"dataframe\">\n",
       "  <thead>\n",
       "    <tr style=\"text-align: right;\">\n",
       "      <th></th>\n",
       "      <th>alpha</th>\n",
       "      <th>l1_ratio</th>\n",
       "      <th>mean_test_score</th>\n",
       "    </tr>\n",
       "  </thead>\n",
       "  <tbody>\n",
       "    <tr>\n",
       "      <th>0</th>\n",
       "      <td>0.001</td>\n",
       "      <td>0.0001</td>\n",
       "      <td>0.350093</td>\n",
       "    </tr>\n",
       "    <tr>\n",
       "      <th>1</th>\n",
       "      <td>0.001</td>\n",
       "      <td>0.001</td>\n",
       "      <td>0.350090</td>\n",
       "    </tr>\n",
       "    <tr>\n",
       "      <th>2</th>\n",
       "      <td>0.001</td>\n",
       "      <td>0.01</td>\n",
       "      <td>0.350060</td>\n",
       "    </tr>\n",
       "    <tr>\n",
       "      <th>3</th>\n",
       "      <td>0.001</td>\n",
       "      <td>0.1</td>\n",
       "      <td>0.349742</td>\n",
       "    </tr>\n",
       "    <tr>\n",
       "      <th>4</th>\n",
       "      <td>0.001</td>\n",
       "      <td>1</td>\n",
       "      <td>0.344223</td>\n",
       "    </tr>\n",
       "    <tr>\n",
       "      <th>5</th>\n",
       "      <td>0.01</td>\n",
       "      <td>0.0001</td>\n",
       "      <td>0.359198</td>\n",
       "    </tr>\n",
       "    <tr>\n",
       "      <th>6</th>\n",
       "      <td>0.01</td>\n",
       "      <td>0.001</td>\n",
       "      <td>0.359193</td>\n",
       "    </tr>\n",
       "    <tr>\n",
       "      <th>7</th>\n",
       "      <td>0.01</td>\n",
       "      <td>0.01</td>\n",
       "      <td>0.359147</td>\n",
       "    </tr>\n",
       "    <tr>\n",
       "      <th>8</th>\n",
       "      <td>0.01</td>\n",
       "      <td>0.1</td>\n",
       "      <td>0.358668</td>\n",
       "    </tr>\n",
       "    <tr>\n",
       "      <th>9</th>\n",
       "      <td>0.01</td>\n",
       "      <td>1</td>\n",
       "      <td>0.344394</td>\n",
       "    </tr>\n",
       "    <tr>\n",
       "      <th>10</th>\n",
       "      <td>0.1</td>\n",
       "      <td>0.0001</td>\n",
       "      <td>0.373287</td>\n",
       "    </tr>\n",
       "    <tr>\n",
       "      <th>11</th>\n",
       "      <td>0.1</td>\n",
       "      <td>0.001</td>\n",
       "      <td>0.373281</td>\n",
       "    </tr>\n",
       "    <tr>\n",
       "      <th>12</th>\n",
       "      <td>0.1</td>\n",
       "      <td>0.01</td>\n",
       "      <td>0.373217</td>\n",
       "    </tr>\n",
       "    <tr>\n",
       "      <th>13</th>\n",
       "      <td>0.1</td>\n",
       "      <td>0.1</td>\n",
       "      <td>0.372547</td>\n",
       "    </tr>\n",
       "    <tr>\n",
       "      <th>14</th>\n",
       "      <td>0.1</td>\n",
       "      <td>1</td>\n",
       "      <td>0.346041</td>\n",
       "    </tr>\n",
       "    <tr>\n",
       "      <th>15</th>\n",
       "      <td>1</td>\n",
       "      <td>0.0001</td>\n",
       "      <td>0.386199</td>\n",
       "    </tr>\n",
       "    <tr>\n",
       "      <th>16</th>\n",
       "      <td>1</td>\n",
       "      <td>0.001</td>\n",
       "      <td>0.386202</td>\n",
       "    </tr>\n",
       "    <tr>\n",
       "      <th>17</th>\n",
       "      <td>1</td>\n",
       "      <td>0.01</td>\n",
       "      <td>0.386237</td>\n",
       "    </tr>\n",
       "    <tr>\n",
       "      <th>18</th>\n",
       "      <td>1</td>\n",
       "      <td>0.1</td>\n",
       "      <td>0.386511</td>\n",
       "    </tr>\n",
       "    <tr>\n",
       "      <th>19</th>\n",
       "      <td>1</td>\n",
       "      <td>1</td>\n",
       "      <td>0.354238</td>\n",
       "    </tr>\n",
       "    <tr>\n",
       "      <th>20</th>\n",
       "      <td>10</td>\n",
       "      <td>0.0001</td>\n",
       "      <td>0.255653</td>\n",
       "    </tr>\n",
       "    <tr>\n",
       "      <th>21</th>\n",
       "      <td>10</td>\n",
       "      <td>0.001</td>\n",
       "      <td>0.255756</td>\n",
       "    </tr>\n",
       "    <tr>\n",
       "      <th>22</th>\n",
       "      <td>10</td>\n",
       "      <td>0.01</td>\n",
       "      <td>0.256788</td>\n",
       "    </tr>\n",
       "    <tr>\n",
       "      <th>23</th>\n",
       "      <td>10</td>\n",
       "      <td>0.1</td>\n",
       "      <td>0.267491</td>\n",
       "    </tr>\n",
       "    <tr>\n",
       "      <th>24</th>\n",
       "      <td>10</td>\n",
       "      <td>1</td>\n",
       "      <td>0.369523</td>\n",
       "    </tr>\n",
       "  </tbody>\n",
       "</table>\n",
       "</div>"
      ],
      "text/plain": [
       "    alpha l1_ratio  mean_test_score\n",
       "0   0.001   0.0001         0.350093\n",
       "1   0.001    0.001         0.350090\n",
       "2   0.001     0.01         0.350060\n",
       "3   0.001      0.1         0.349742\n",
       "4   0.001        1         0.344223\n",
       "5    0.01   0.0001         0.359198\n",
       "6    0.01    0.001         0.359193\n",
       "7    0.01     0.01         0.359147\n",
       "8    0.01      0.1         0.358668\n",
       "9    0.01        1         0.344394\n",
       "10    0.1   0.0001         0.373287\n",
       "11    0.1    0.001         0.373281\n",
       "12    0.1     0.01         0.373217\n",
       "13    0.1      0.1         0.372547\n",
       "14    0.1        1         0.346041\n",
       "15      1   0.0001         0.386199\n",
       "16      1    0.001         0.386202\n",
       "17      1     0.01         0.386237\n",
       "18      1      0.1         0.386511\n",
       "19      1        1         0.354238\n",
       "20     10   0.0001         0.255653\n",
       "21     10    0.001         0.255756\n",
       "22     10     0.01         0.256788\n",
       "23     10      0.1         0.267491\n",
       "24     10        1         0.369523"
      ]
     },
     "execution_count": 21,
     "metadata": {},
     "output_type": "execute_result"
    }
   ],
   "source": [
    "elastic_net_pipeline_1 = Pipeline(\n",
    "  [(\"preprocessing\", ct),\n",
    "  (\"elastic_net\", ElasticNet())]\n",
    ")\n",
    "\n",
    "degrees = {\n",
    "    'elastic_net__alpha': [0.001, 0.01, 0.1, 1,10],\n",
    "    'elastic_net__l1_ratio': [0.0001, 0.001, 0.01, 0.1, 1]  \n",
    "}\n",
    "\n",
    "gscv = GridSearchCV(elastic_net_pipeline_1, degrees, cv = 5, scoring='r2')\n",
    "gscv_fitted = gscv.fit(X, y)\n",
    "\n",
    "gscv_fitted.cv_results_['mean_test_score']\n",
    "\n",
    "tuned_df = pd.DataFrame({\n",
    "    'alpha': gscv_fitted.cv_results_['param_elastic_net__alpha'],\n",
    "    'l1_ratio': gscv_fitted.cv_results_['param_elastic_net__l1_ratio'],\n",
    "    'mean_test_score': gscv_fitted.cv_results_['mean_test_score']\n",
    "})\n",
    "\n",
    "tuned_df\n"
   ]
  },
  {
   "cell_type": "code",
   "execution_count": 22,
   "id": "11d8525d",
   "metadata": {},
   "outputs": [
    {
     "name": "stdout",
     "output_type": "stream",
     "text": [
      "alpha                     1\n",
      "l1_ratio                0.1\n",
      "mean_test_score    0.386511\n",
      "Name: 18, dtype: object\n"
     ]
    }
   ],
   "source": [
    "max_index = tuned_df['mean_test_score'].idxmax()\n",
    "\n",
    "row_with_max_value = tuned_df.loc[max_index]\n",
    "\n",
    "print(row_with_max_value)"
   ]
  },
  {
   "cell_type": "markdown",
   "id": "f306390f",
   "metadata": {},
   "source": [
    "The highest R2 we get is from alpha=1, l1_ratio=0.1. "
   ]
  },
  {
   "cell_type": "markdown",
   "id": "2efc9e66",
   "metadata": {},
   "source": [
    "3. Fit the pipeline with your chosen hyperparameters to the full dataset, and interpret a few of the most important coefficients."
   ]
  },
  {
   "cell_type": "code",
   "execution_count": 23,
   "id": "45d0d315",
   "metadata": {
    "scrolled": false
   },
   "outputs": [
    {
     "data": {
      "text/plain": [
       "array([ -6.77547795,   6.775496  ,  24.40355918, -24.40354997,\n",
       "        -4.04830014,   4.0483143 ,  13.3396458 ,  35.94158547,\n",
       "         6.60351486,  26.57294804,  22.91221172,  33.56503997,\n",
       "         8.7975977 ,  25.81105282,  35.03611085,  31.46111891,\n",
       "        35.83960043,  36.67326041,  16.39412975,  42.82968834,\n",
       "         3.56879348,  -7.41602107])"
      ]
     },
     "execution_count": 23,
     "metadata": {},
     "output_type": "execute_result"
    }
   ],
   "source": [
    "elastic_net_pipeline_tuned = Pipeline(\n",
    "  [(\"preprocessing\", ct),\n",
    "  (\"elastic_net\", ElasticNet(alpha=1, l1_ratio=0.1))]\n",
    ")\n",
    "\n",
    "\n",
    "elastic_net_tuned_fitted = elastic_net_pipeline_tuned.fit(X, y)\n",
    "elastic_net_tuned_cof = elastic_net_tuned_fitted.named_steps ['elastic_net'].coef_\n",
    "elastic_net_tuned_cof"
   ]
  },
  {
   "cell_type": "code",
   "execution_count": 24,
   "id": "81330b3f",
   "metadata": {},
   "outputs": [
    {
     "name": "stdout",
     "output_type": "stream",
     "text": [
      "                Var_name  Coefficient\n",
      "0      dummify__League_A    -6.775478\n",
      "1      dummify__League_N     6.775496\n",
      "2    dummify__Division_E    24.403559\n",
      "3    dummify__Division_W   -24.403550\n",
      "4   dummify__NewLeague_A    -4.048300\n",
      "5   dummify__NewLeague_N     4.048314\n",
      "6     standardize__AtBat    13.339646\n",
      "7      standardize__Hits    35.941585\n",
      "8     standardize__HmRun     6.603515\n",
      "9      standardize__Runs    26.572948\n",
      "10      standardize__RBI    22.912212\n",
      "11    standardize__Walks    33.565040\n",
      "12    standardize__Years     8.797598\n",
      "13   standardize__CAtBat    25.811053\n",
      "14    standardize__CHits    35.036111\n",
      "15   standardize__CHmRun    31.461119\n",
      "16    standardize__CRuns    35.839600\n",
      "17     standardize__CRBI    36.673260\n",
      "18   standardize__CWalks    16.394130\n",
      "19  standardize__PutOuts    42.829688\n",
      "20  standardize__Assists     3.568793\n",
      "21   standardize__Errors    -7.416021\n"
     ]
    }
   ],
   "source": [
    "preprocessed_columns_elastic_net = elastic_net_pipeline_tuned.named_steps['preprocessing'].get_feature_names_out()\n",
    "\n",
    "coefficients_with_names = list(zip(preprocessed_columns_elastic_net, elastic_net_tuned_cof))\n",
    "\n",
    "elastic_net_data = {'Var_name': [], 'Coefficient': []}\n",
    "\n",
    "for coef, var_name in coefficients_with_names:\n",
    "    elastic_net_data['Var_name'].append(coef)\n",
    "    elastic_net_data['Coefficient'].append(var_name)\n",
    "\n",
    "elastic_net_coefficients_df = pd.DataFrame(elastic_net_data)\n",
    "print(elastic_net_coefficients_df)"
   ]
  },
  {
   "cell_type": "markdown",
   "id": "f2410d0d",
   "metadata": {},
   "source": [
    "Since we standardized the numeric and dummified the categorical, the bigger the values the attribute has, it means its more taking a bigger weight in measuring salary. Some of the biggest number we see here is CRuns with 35, Hits with 35, and CRBI with 36. \n",
    "With each standard deviation the player has above the mean of number of runs in his carrer, his salary will go up by 35,000.\n",
    "With each standard deviation the player has above the mean of number of hits in 1986, his salary will go up by 35,000.\n",
    "With each standard deviation the player has above the mean of number of runs batted in his career, his salary will go up by 36,000."
   ]
  },
  {
   "cell_type": "markdown",
   "id": "ed9c1e16",
   "metadata": {},
   "source": [
    "4. Report the MSE you would expect if you used this pipeline to predict 1989 salaries."
   ]
  },
  {
   "cell_type": "code",
   "execution_count": 25,
   "id": "ee993258",
   "metadata": {},
   "outputs": [
    {
     "data": {
      "text/plain": [
       "121760.92284051597"
      ]
     },
     "execution_count": 25,
     "metadata": {},
     "output_type": "execute_result"
    }
   ],
   "source": [
    "mse_scores_negative = cross_val_score(elastic_net_pipeline_tuned, X, y, cv = 5, scoring = 'neg_mean_squared_error')\n",
    "mse_scores_positive = -mse_scores_negative\n",
    "mse = np.mean(mse_scores_positive)\n",
    "mse"
   ]
  },
  {
   "cell_type": "markdown",
   "id": "54b919b9",
   "metadata": {},
   "source": [
    "Part II. Variable Selection"
   ]
  },
  {
   "cell_type": "markdown",
   "id": "4a549100",
   "metadata": {},
   "source": [
    "Based on the above results, decide on:\n",
    "\n",
    "Which numeric variable is most important.\n",
    "\n",
    "Which five numeric variables are most important\n",
    "\n",
    "Which categorical variable is most important"
   ]
  },
  {
   "cell_type": "markdown",
   "id": "f4f8ad50",
   "metadata": {},
   "source": [
    "Since everything is standardized, the bigger the coefficent is, the more impact it has on salary. I will list all the coefficient descending by each model, give them a variable call rank. Find the average number of rank of variables, the smallest one is the most important one. "
   ]
  },
  {
   "cell_type": "code",
   "execution_count": 26,
   "id": "cd02cf5b",
   "metadata": {},
   "outputs": [
    {
     "name": "stdout",
     "output_type": "stream",
     "text": [
      "    Coefficient              Var_name  Absolute_Coef  importance_ln\n",
      "16   480.747135    standardize__CRuns     480.747135              1\n",
      "13  -391.038655   standardize__CAtBat     391.038655              2\n",
      "7    337.830479     standardize__Hits     337.830479              3\n",
      "6   -291.094556    standardize__AtBat     291.094556              4\n",
      "17   260.689886     standardize__CRBI     260.689886              5\n",
      "18  -213.892259   standardize__CWalks     213.892259              6\n",
      "11   135.073897    standardize__Walks     135.073897              7\n",
      "14    86.687617    standardize__CHits      86.687617              8\n",
      "19    78.761296  standardize__PutOuts      78.761296              9\n",
      "9    -60.572479     standardize__Runs      60.572479             10\n",
      "3    -58.424623   dummify__Division_W      58.424623             11\n",
      "2     58.424623   dummify__Division_E      58.424623             12\n",
      "20    53.732490  standardize__Assists      53.732490             13\n",
      "8     37.853837    standardize__HmRun      37.853837             14\n",
      "1     31.299712     dummify__League_N      31.299712             15\n",
      "0    -31.299712     dummify__League_A      31.299712             16\n",
      "10   -26.994984      standardize__RBI      26.994984             17\n",
      "21   -22.160862   standardize__Errors      22.160862             18\n",
      "12   -16.693359    standardize__Years      16.693359             19\n",
      "15   -14.181723   standardize__CHmRun      14.181723             20\n",
      "5    -12.381163  dummify__NewLeague_N      12.381163             21\n",
      "4     12.381163  dummify__NewLeague_A      12.381163             22\n"
     ]
    }
   ],
   "source": [
    "linear_coefficients_df['Absolute_Coef']=abs(linear_coefficients_df['Coefficient'])\n",
    "linear_cofficients_df = linear_coefficients_df.sort_values(by='Absolute_Coef', ascending = False, inplace = True)\n",
    "linear_coefficients_df['importance_ln'] = range(1, len(linear_coefficients_df) + 1)\n",
    "print(linear_coefficients_df)"
   ]
  },
  {
   "cell_type": "code",
   "execution_count": 27,
   "id": "bdc29e2c",
   "metadata": {},
   "outputs": [
    {
     "name": "stdout",
     "output_type": "stream",
     "text": [
      "    Coefficient              Var_name  Absolute_Coef  importance_ridge\n",
      "0    152.626598     standardize__Hits     152.626598                 1\n",
      "1   -133.995915    standardize__AtBat     133.995915                 2\n",
      "2    119.701712    standardize__CRuns     119.701712                 3\n",
      "3     97.384374    standardize__CHits      97.384374                 4\n",
      "4    -93.932141   standardize__CWalks      93.932141                 5\n",
      "5     92.471348     standardize__CRBI      92.471348                 6\n",
      "6     82.577291    standardize__Walks      82.577291                 7\n",
      "7     75.307601  standardize__PutOuts      75.307601                 8\n",
      "8    -59.718252   dummify__Division_W      59.718252                 9\n",
      "9     59.718252   dummify__Division_E      59.718252                10\n",
      "10    58.336915   standardize__CHmRun      58.336915                11\n",
      "11   -48.466257    standardize__Years      48.466257                12\n",
      "12    28.966750  standardize__Assists      28.966750                13\n",
      "13   -24.919062   standardize__Errors      24.919062                14\n",
      "14    24.414670     dummify__League_N      24.414670                15\n",
      "15   -24.414670     dummify__League_A      24.414670                16\n",
      "16    21.678558     standardize__Runs      21.678558                17\n",
      "17   -20.190033   standardize__CAtBat      20.190033                18\n",
      "18    16.287711      standardize__RBI      16.287711                19\n",
      "19   -10.220972    standardize__HmRun      10.220972                20\n",
      "20     7.587131  dummify__NewLeague_A       7.587131                21\n",
      "21    -7.587131  dummify__NewLeague_N       7.587131                22\n"
     ]
    }
   ],
   "source": [
    "ridge_coefficients_df['Absolute_Coef'] = abs(ridge_coefficients_df['Coefficient'])\n",
    "ridge_coefficients_df.sort_values(by='Absolute_Coef', ascending=False, inplace=True)\n",
    "ridge_coefficients_df.reset_index(drop=True, inplace=True)\n",
    "ridge_coefficients_df['importance_ridge'] = range(1, len(ridge_coefficients_df) + 1)\n",
    "print(ridge_coefficients_df)\n"
   ]
  },
  {
   "cell_type": "code",
   "execution_count": 28,
   "id": "f3f2fabc",
   "metadata": {},
   "outputs": [
    {
     "name": "stdout",
     "output_type": "stream",
     "text": [
      "     Coefficient              Var_name  Absolute_Coef  importance_lasso\n",
      "0   1.340320e+02     standardize__CRBI   1.340320e+02                 1\n",
      "1   9.541320e+01   dummify__Division_E   9.541320e+01                 2\n",
      "2   8.874163e+01     standardize__Hits   8.874163e+01                 3\n",
      "3   7.222753e+01    standardize__CRuns   7.222753e+01                 4\n",
      "4   6.673701e+01  standardize__PutOuts   6.673701e+01                 5\n",
      "5   4.990281e+01    standardize__Walks   4.990281e+01                 6\n",
      "6  -4.158281e+00   standardize__Errors   4.158281e+00                 7\n",
      "7  -3.327948e-12   dummify__Division_W   3.327948e-12                 8\n",
      "8  -0.000000e+00    standardize__AtBat   0.000000e+00                 9\n",
      "9   0.000000e+00    standardize__HmRun   0.000000e+00                10\n",
      "10  0.000000e+00     standardize__Runs   0.000000e+00                11\n",
      "11  0.000000e+00      standardize__RBI   0.000000e+00                12\n",
      "12  0.000000e+00     dummify__League_N   0.000000e+00                13\n",
      "13 -0.000000e+00    standardize__Years   0.000000e+00                14\n",
      "14  0.000000e+00   standardize__CAtBat   0.000000e+00                15\n",
      "15  0.000000e+00    standardize__CHits   0.000000e+00                16\n",
      "16  0.000000e+00   standardize__CHmRun   0.000000e+00                17\n",
      "17  0.000000e+00  dummify__NewLeague_N   0.000000e+00                18\n",
      "18 -0.000000e+00  dummify__NewLeague_A   0.000000e+00                19\n",
      "19 -0.000000e+00   standardize__CWalks   0.000000e+00                20\n",
      "20  0.000000e+00  standardize__Assists   0.000000e+00                21\n",
      "21 -0.000000e+00     dummify__League_A   0.000000e+00                22\n"
     ]
    }
   ],
   "source": [
    "lasso_coefficients_df['Absolute_Coef'] = abs(lasso_coefficients_df['Coefficient'])\n",
    "lasso_coefficients_df.sort_values(by='Absolute_Coef', ascending=False, inplace=True)\n",
    "lasso_coefficients_df.reset_index(drop=True, inplace=True)\n",
    "lasso_coefficients_df['importance_lasso'] = range(1, len(lasso_coefficients_df) + 1)\n",
    "print(lasso_coefficients_df)"
   ]
  },
  {
   "cell_type": "code",
   "execution_count": 29,
   "id": "349aec5b",
   "metadata": {},
   "outputs": [
    {
     "name": "stdout",
     "output_type": "stream",
     "text": [
      "                Var_name  Coefficient  Absolute_Coef  importance_elastic_net\n",
      "0   standardize__PutOuts    42.829688      42.829688                       1\n",
      "1      standardize__CRBI    36.673260      36.673260                       2\n",
      "2      standardize__Hits    35.941585      35.941585                       3\n",
      "3     standardize__CRuns    35.839600      35.839600                       4\n",
      "4     standardize__CHits    35.036111      35.036111                       5\n",
      "5     standardize__Walks    33.565040      33.565040                       6\n",
      "6    standardize__CHmRun    31.461119      31.461119                       7\n",
      "7      standardize__Runs    26.572948      26.572948                       8\n",
      "8    standardize__CAtBat    25.811053      25.811053                       9\n",
      "9    dummify__Division_E    24.403559      24.403559                      10\n",
      "10   dummify__Division_W   -24.403550      24.403550                      11\n",
      "11      standardize__RBI    22.912212      22.912212                      12\n",
      "12   standardize__CWalks    16.394130      16.394130                      13\n",
      "13    standardize__AtBat    13.339646      13.339646                      14\n",
      "14    standardize__Years     8.797598       8.797598                      15\n",
      "15   standardize__Errors    -7.416021       7.416021                      16\n",
      "16     dummify__League_N     6.775496       6.775496                      17\n",
      "17     dummify__League_A    -6.775478       6.775478                      18\n",
      "18    standardize__HmRun     6.603515       6.603515                      19\n",
      "19  dummify__NewLeague_N     4.048314       4.048314                      20\n",
      "20  dummify__NewLeague_A    -4.048300       4.048300                      21\n",
      "21  standardize__Assists     3.568793       3.568793                      22\n"
     ]
    }
   ],
   "source": [
    "elastic_net_coefficients_df['Absolute_Coef'] = abs(elastic_net_coefficients_df['Coefficient'])\n",
    "elastic_net_coefficients_df.sort_values(by='Absolute_Coef', ascending=False, inplace=True)\n",
    "elastic_net_coefficients_df.reset_index(drop=True, inplace=True)\n",
    "elastic_net_coefficients_df['importance_elastic_net'] = range(1, len(elastic_net_coefficients_df) + 1)\n",
    "\n",
    "print(elastic_net_coefficients_df)"
   ]
  },
  {
   "cell_type": "code",
   "execution_count": 30,
   "id": "a1e5ef58",
   "metadata": {},
   "outputs": [
    {
     "name": "stdout",
     "output_type": "stream",
     "text": [
      "                Var_name  importance_ridge  importance_lasso  \\\n",
      "0      standardize__Hits                 1                 3   \n",
      "1     standardize__CRuns                 3                 4   \n",
      "2      standardize__CRBI                 6                 1   \n",
      "3   standardize__PutOuts                 8                 5   \n",
      "4     standardize__Walks                 7                 6   \n",
      "5     standardize__AtBat                 2                 9   \n",
      "6     standardize__CHits                 4                16   \n",
      "7    dummify__Division_E                10                 2   \n",
      "8    dummify__Division_W                 9                 8   \n",
      "9    standardize__CWalks                 5                20   \n",
      "10   standardize__CAtBat                18                15   \n",
      "11     standardize__Runs                17                11   \n",
      "12   standardize__Errors                14                 7   \n",
      "13   standardize__CHmRun                11                17   \n",
      "14     dummify__League_N                15                13   \n",
      "15    standardize__Years                12                14   \n",
      "16      standardize__RBI                19                12   \n",
      "17    standardize__HmRun                20                10   \n",
      "18  standardize__Assists                13                21   \n",
      "19     dummify__League_A                16                22   \n",
      "20  dummify__NewLeague_N                22                18   \n",
      "21  dummify__NewLeague_A                21                19   \n",
      "\n",
      "    importance_elastic_net  importance_ln  average_importance  \n",
      "0                        3              3                2.50  \n",
      "1                        4              1                3.00  \n",
      "2                        2              5                3.50  \n",
      "3                        1              9                5.75  \n",
      "4                        6              7                6.50  \n",
      "5                       14              4                7.25  \n",
      "6                        5              8                8.25  \n",
      "7                       10             12                8.50  \n",
      "8                       11             11                9.75  \n",
      "9                       13              6               11.00  \n",
      "10                       9              2               11.00  \n",
      "11                       8             10               11.50  \n",
      "12                      16             18               13.75  \n",
      "13                       7             20               13.75  \n",
      "14                      17             15               15.00  \n",
      "15                      15             19               15.00  \n",
      "16                      12             17               15.00  \n",
      "17                      19             14               15.75  \n",
      "18                      22             13               17.25  \n",
      "19                      18             16               18.00  \n",
      "20                      20             21               20.25  \n",
      "21                      21             22               20.75  \n"
     ]
    }
   ],
   "source": [
    "merged_df = pd.merge(ridge_coefficients_df[['Var_name', 'importance_ridge']],\n",
    "                     lasso_coefficients_df[['Var_name', 'importance_lasso']],\n",
    "                     on='Var_name', how='outer')\n",
    "merged_df = pd.merge(merged_df,\n",
    "                     elastic_net_coefficients_df[['Var_name', 'importance_elastic_net']],\n",
    "                     on='Var_name', how='outer')\n",
    "merged_df = pd.merge(merged_df,\n",
    "                     linear_coefficients_df[['Var_name', 'importance_ln']],\n",
    "                     on='Var_name', how='outer')\n",
    "\n",
    "importance_columns = ['importance_ln','importance_ridge', 'importance_lasso', 'importance_elastic_net']\n",
    "merged_df['average_importance'] = merged_df[importance_columns].mean(axis=1)\n",
    "\n",
    "merged_df.sort_values(by='average_importance', ascending=True, inplace=True)\n",
    "merged_df.reset_index(drop=True, inplace=True)\n",
    "\n",
    "print(merged_df)\n"
   ]
  },
  {
   "cell_type": "markdown",
   "id": "41e6673d",
   "metadata": {},
   "source": [
    "Based on this results,"
   ]
  },
  {
   "cell_type": "markdown",
   "id": "3c6b7b87",
   "metadata": {},
   "source": [
    "The most important numeric variable is Hits"
   ]
  },
  {
   "cell_type": "markdown",
   "id": "2ddbfc19",
   "metadata": {},
   "source": [
    "The five most important numeric vars are Hits, CRuns, CRBI, Putouts, Walks."
   ]
  },
  {
   "cell_type": "markdown",
   "id": "b1726845",
   "metadata": {},
   "source": [
    "The most important categorical var is Division."
   ]
  },
  {
   "cell_type": "markdown",
   "id": "cf089ce3",
   "metadata": {},
   "source": [
    "\n",
    "For each of the four model specifications, compare the following possible feature sets:\n",
    "\n",
    "Using only the one best numeric variable.\n",
    "\n",
    "Using only the five best variables.\n",
    "\n",
    "Using the five best numeric variables and their interactions with the one best categorical variable.\n",
    "\n",
    "Report which combination of features and model performed best, based on the validation metric of MSE.\n",
    "\n",
    "(Note: \n",
    " and \n",
    " must be re-tuned for each feature set.)"
   ]
  },
  {
   "cell_type": "code",
   "execution_count": 43,
   "id": "6640ae04",
   "metadata": {},
   "outputs": [],
   "source": [
    "#Using the most important numeric\n",
    "X_1 = myData[['Hits']]\n",
    "y_1 = myData[\"Salary\"]"
   ]
  },
  {
   "cell_type": "markdown",
   "id": "aa222b0f",
   "metadata": {},
   "source": [
    "linear with hits"
   ]
  },
  {
   "cell_type": "code",
   "execution_count": 41,
   "id": "acc979e9",
   "metadata": {},
   "outputs": [],
   "source": [
    "lr_pipeline_2 = Pipeline(\n",
    "  [\n",
    "  (\"linear_regression\", LinearRegression())]\n",
    ")"
   ]
  },
  {
   "cell_type": "code",
   "execution_count": 45,
   "id": "eeac6cae",
   "metadata": {},
   "outputs": [
    {
     "data": {
      "text/plain": [
       "173088.9728644403"
      ]
     },
     "execution_count": 45,
     "metadata": {},
     "output_type": "execute_result"
    }
   ],
   "source": [
    "mse_scores_negative = cross_val_score(lr_pipeline_2, X_1, y_1, cv = 5, scoring = 'neg_mean_squared_error')\n",
    "mse_scores_positive = -mse_scores_negative\n",
    "mse_hits_1 = np.mean(mse_scores_positive)\n",
    "mse_hits_1"
   ]
  },
  {
   "cell_type": "markdown",
   "id": "d3804af5",
   "metadata": {},
   "source": [
    "ridge with hits"
   ]
  },
  {
   "cell_type": "code",
   "execution_count": 48,
   "id": "fe1620d3",
   "metadata": {},
   "outputs": [
    {
     "data": {
      "text/html": [
       "<div>\n",
       "<style scoped>\n",
       "    .dataframe tbody tr th:only-of-type {\n",
       "        vertical-align: middle;\n",
       "    }\n",
       "\n",
       "    .dataframe tbody tr th {\n",
       "        vertical-align: top;\n",
       "    }\n",
       "\n",
       "    .dataframe thead th {\n",
       "        text-align: right;\n",
       "    }\n",
       "</style>\n",
       "<table border=\"1\" class=\"dataframe\">\n",
       "  <thead>\n",
       "    <tr style=\"text-align: right;\">\n",
       "      <th></th>\n",
       "      <th>ridge_regression__alpha</th>\n",
       "      <th>scores</th>\n",
       "    </tr>\n",
       "  </thead>\n",
       "  <tbody>\n",
       "    <tr>\n",
       "      <th>0</th>\n",
       "      <td>0.001</td>\n",
       "      <td>0.122213</td>\n",
       "    </tr>\n",
       "    <tr>\n",
       "      <th>1</th>\n",
       "      <td>0.010</td>\n",
       "      <td>0.122213</td>\n",
       "    </tr>\n",
       "    <tr>\n",
       "      <th>2</th>\n",
       "      <td>0.100</td>\n",
       "      <td>0.122213</td>\n",
       "    </tr>\n",
       "    <tr>\n",
       "      <th>3</th>\n",
       "      <td>1.000</td>\n",
       "      <td>0.122213</td>\n",
       "    </tr>\n",
       "    <tr>\n",
       "      <th>4</th>\n",
       "      <td>10.000</td>\n",
       "      <td>0.122215</td>\n",
       "    </tr>\n",
       "  </tbody>\n",
       "</table>\n",
       "</div>"
      ],
      "text/plain": [
       "   ridge_regression__alpha    scores\n",
       "0                    0.001  0.122213\n",
       "1                    0.010  0.122213\n",
       "2                    0.100  0.122213\n",
       "3                    1.000  0.122213\n",
       "4                   10.000  0.122215"
      ]
     },
     "execution_count": 48,
     "metadata": {},
     "output_type": "execute_result"
    }
   ],
   "source": [
    "ridge_pipeline_2 = Pipeline(\n",
    "  [\n",
    "  (\"ridge_regression\", Ridge())]\n",
    ")\n",
    "\n",
    "degrees = {'ridge_regression__alpha': [0.001, 0.01, 0.1, 1, 10]}\n",
    "\n",
    "gscv = GridSearchCV(ridge_pipeline_2, degrees, cv = 5, scoring='r2')\n",
    "\n",
    "gscv_fitted = gscv.fit(X_1, y_1)\n",
    "\n",
    "gscv_fitted.cv_results_['mean_test_score']\n",
    "pd.DataFrame(data = {'ridge_regression__alpha': [0.001, 0.01, 0.1, 1, 10], \"scores\": gscv_fitted.cv_results_['mean_test_score']})"
   ]
  },
  {
   "cell_type": "markdown",
   "id": "609d734d",
   "metadata": {},
   "source": [
    "alpha = 10 gives the highest r2."
   ]
  },
  {
   "cell_type": "code",
   "execution_count": 52,
   "id": "ce911fad",
   "metadata": {},
   "outputs": [
    {
     "data": {
      "text/plain": [
       "173088.7284555155"
      ]
     },
     "execution_count": 52,
     "metadata": {},
     "output_type": "execute_result"
    }
   ],
   "source": [
    "ridge_pipeline_tuned = Pipeline(\n",
    "  [\n",
    "  (\"ridge_regression\", Ridge(10))]\n",
    ")\n",
    "ridge_tuned_fitted = ridge_pipeline_tuned.fit(X_1, y_1)\n",
    "ridge_tuned_cof = ridge_tuned_fitted.named_steps ['ridge_regression'].coef_\n",
    "ridge_tuned_cof\n",
    "\n",
    "\n",
    "mse_scores_negative = cross_val_score(ridge_pipeline_tuned, X_1, y_1, cv = 5, scoring = 'neg_mean_squared_error')\n",
    "mse_scores_positive = -mse_scores_negative\n",
    "mse_hits_ridge = np.mean(mse_scores_positive)\n",
    "mse_hits_ridge"
   ]
  },
  {
   "cell_type": "markdown",
   "id": "5ff534b4",
   "metadata": {},
   "source": [
    "lasso with hits"
   ]
  },
  {
   "cell_type": "code",
   "execution_count": 58,
   "id": "12f080f7",
   "metadata": {},
   "outputs": [
    {
     "data": {
      "text/html": [
       "<div>\n",
       "<style scoped>\n",
       "    .dataframe tbody tr th:only-of-type {\n",
       "        vertical-align: middle;\n",
       "    }\n",
       "\n",
       "    .dataframe tbody tr th {\n",
       "        vertical-align: top;\n",
       "    }\n",
       "\n",
       "    .dataframe thead th {\n",
       "        text-align: right;\n",
       "    }\n",
       "</style>\n",
       "<table border=\"1\" class=\"dataframe\">\n",
       "  <thead>\n",
       "    <tr style=\"text-align: right;\">\n",
       "      <th></th>\n",
       "      <th>lasso_regression__alpha</th>\n",
       "      <th>scores</th>\n",
       "    </tr>\n",
       "  </thead>\n",
       "  <tbody>\n",
       "    <tr>\n",
       "      <th>0</th>\n",
       "      <td>0.001</td>\n",
       "      <td>0.122213</td>\n",
       "    </tr>\n",
       "    <tr>\n",
       "      <th>1</th>\n",
       "      <td>0.010</td>\n",
       "      <td>0.122213</td>\n",
       "    </tr>\n",
       "    <tr>\n",
       "      <th>2</th>\n",
       "      <td>0.100</td>\n",
       "      <td>0.122213</td>\n",
       "    </tr>\n",
       "    <tr>\n",
       "      <th>3</th>\n",
       "      <td>1.000</td>\n",
       "      <td>0.122219</td>\n",
       "    </tr>\n",
       "    <tr>\n",
       "      <th>4</th>\n",
       "      <td>10.000</td>\n",
       "      <td>0.122278</td>\n",
       "    </tr>\n",
       "  </tbody>\n",
       "</table>\n",
       "</div>"
      ],
      "text/plain": [
       "   lasso_regression__alpha    scores\n",
       "0                    0.001  0.122213\n",
       "1                    0.010  0.122213\n",
       "2                    0.100  0.122213\n",
       "3                    1.000  0.122219\n",
       "4                   10.000  0.122278"
      ]
     },
     "execution_count": 58,
     "metadata": {},
     "output_type": "execute_result"
    }
   ],
   "source": [
    "lasso_pipeline_2 = Pipeline([\n",
    "    (\"lasso_regression\", Lasso())\n",
    "])\n",
    "\n",
    "degrees = {'lasso_regression__alpha': [0.001, 0.01, 0.1, 1, 10] }\n",
    "gscv_lasso = GridSearchCV(lasso_pipeline_2, degrees, cv=5, scoring='r2')\n",
    "gscv_lasso_fitted = gscv_lasso.fit(X_1, y_1)\n",
    "\n",
    "mean_test_scores_lasso = gscv_lasso_fitted.cv_results_['mean_test_score']\n",
    "\n",
    "results_df_lasso = pd.DataFrame(data={'lasso_regression__alpha': [0.001, 0.01, 0.1, 1, 10] , \"scores\": mean_test_scores_lasso})\n",
    "results_df_lasso"
   ]
  },
  {
   "cell_type": "markdown",
   "id": "031a2842",
   "metadata": {},
   "source": [
    "alpha = 10 gives the highest r2"
   ]
  },
  {
   "cell_type": "code",
   "execution_count": 59,
   "id": "18c2276f",
   "metadata": {},
   "outputs": [
    {
     "data": {
      "text/plain": [
       "173085.44899961445"
      ]
     },
     "execution_count": 59,
     "metadata": {},
     "output_type": "execute_result"
    }
   ],
   "source": [
    "lasso_pipeline_tuned = Pipeline(\n",
    "  [\n",
    "  (\"lasso_regression\", Lasso(10))]\n",
    ")\n",
    "lasso_tuned_fitted = lasso_pipeline_tuned.fit(X_1, y_1)\n",
    "lasso_tuned_cof = lasso_tuned_fitted.named_steps['lasso_regression'].coef_\n",
    "lasso_tuned_cof\n",
    "\n",
    "\n",
    "mse_scores_negative_lasso = cross_val_score(lasso_pipeline_tuned, X_1, y_1, cv=5, scoring='neg_mean_squared_error')\n",
    "mse_scores_positive_lasso = -mse_scores_negative_lasso\n",
    "mse_hits_lasso = np.mean(mse_scores_positive_lasso)\n",
    "mse_hits_lasso\n"
   ]
  },
  {
   "cell_type": "markdown",
   "id": "80bd3985",
   "metadata": {},
   "source": [
    "elastic_net with hits"
   ]
  },
  {
   "cell_type": "code",
   "execution_count": 71,
   "id": "16f92a8d",
   "metadata": {
    "scrolled": true
   },
   "outputs": [
    {
     "data": {
      "text/html": [
       "<div>\n",
       "<style scoped>\n",
       "    .dataframe tbody tr th:only-of-type {\n",
       "        vertical-align: middle;\n",
       "    }\n",
       "\n",
       "    .dataframe tbody tr th {\n",
       "        vertical-align: top;\n",
       "    }\n",
       "\n",
       "    .dataframe thead th {\n",
       "        text-align: right;\n",
       "    }\n",
       "</style>\n",
       "<table border=\"1\" class=\"dataframe\">\n",
       "  <thead>\n",
       "    <tr style=\"text-align: right;\">\n",
       "      <th></th>\n",
       "      <th>elastic_net_regression__alpha</th>\n",
       "      <th>elastic_net_regression__l1_ratio</th>\n",
       "      <th>scores</th>\n",
       "    </tr>\n",
       "  </thead>\n",
       "  <tbody>\n",
       "    <tr>\n",
       "      <th>0</th>\n",
       "      <td>0.001</td>\n",
       "      <td>0.0001</td>\n",
       "      <td>0.122213</td>\n",
       "    </tr>\n",
       "    <tr>\n",
       "      <th>1</th>\n",
       "      <td>0.001</td>\n",
       "      <td>0.0010</td>\n",
       "      <td>0.122213</td>\n",
       "    </tr>\n",
       "    <tr>\n",
       "      <th>2</th>\n",
       "      <td>0.001</td>\n",
       "      <td>0.0100</td>\n",
       "      <td>0.122213</td>\n",
       "    </tr>\n",
       "    <tr>\n",
       "      <th>3</th>\n",
       "      <td>0.001</td>\n",
       "      <td>0.1000</td>\n",
       "      <td>0.122213</td>\n",
       "    </tr>\n",
       "    <tr>\n",
       "      <th>4</th>\n",
       "      <td>0.001</td>\n",
       "      <td>1.0000</td>\n",
       "      <td>0.122213</td>\n",
       "    </tr>\n",
       "    <tr>\n",
       "      <th>5</th>\n",
       "      <td>0.010</td>\n",
       "      <td>0.0001</td>\n",
       "      <td>0.122213</td>\n",
       "    </tr>\n",
       "    <tr>\n",
       "      <th>6</th>\n",
       "      <td>0.010</td>\n",
       "      <td>0.0010</td>\n",
       "      <td>0.122213</td>\n",
       "    </tr>\n",
       "    <tr>\n",
       "      <th>7</th>\n",
       "      <td>0.010</td>\n",
       "      <td>0.0100</td>\n",
       "      <td>0.122213</td>\n",
       "    </tr>\n",
       "    <tr>\n",
       "      <th>8</th>\n",
       "      <td>0.010</td>\n",
       "      <td>0.1000</td>\n",
       "      <td>0.122213</td>\n",
       "    </tr>\n",
       "    <tr>\n",
       "      <th>9</th>\n",
       "      <td>0.010</td>\n",
       "      <td>1.0000</td>\n",
       "      <td>0.122213</td>\n",
       "    </tr>\n",
       "    <tr>\n",
       "      <th>10</th>\n",
       "      <td>0.100</td>\n",
       "      <td>0.0001</td>\n",
       "      <td>0.122217</td>\n",
       "    </tr>\n",
       "    <tr>\n",
       "      <th>11</th>\n",
       "      <td>0.100</td>\n",
       "      <td>0.0010</td>\n",
       "      <td>0.122217</td>\n",
       "    </tr>\n",
       "    <tr>\n",
       "      <th>12</th>\n",
       "      <td>0.100</td>\n",
       "      <td>0.0100</td>\n",
       "      <td>0.122217</td>\n",
       "    </tr>\n",
       "    <tr>\n",
       "      <th>13</th>\n",
       "      <td>0.100</td>\n",
       "      <td>0.1000</td>\n",
       "      <td>0.122217</td>\n",
       "    </tr>\n",
       "    <tr>\n",
       "      <th>14</th>\n",
       "      <td>0.100</td>\n",
       "      <td>1.0000</td>\n",
       "      <td>0.122213</td>\n",
       "    </tr>\n",
       "    <tr>\n",
       "      <th>15</th>\n",
       "      <td>1.000</td>\n",
       "      <td>0.0001</td>\n",
       "      <td>0.122259</td>\n",
       "    </tr>\n",
       "    <tr>\n",
       "      <th>16</th>\n",
       "      <td>1.000</td>\n",
       "      <td>0.0010</td>\n",
       "      <td>0.122259</td>\n",
       "    </tr>\n",
       "    <tr>\n",
       "      <th>17</th>\n",
       "      <td>1.000</td>\n",
       "      <td>0.0100</td>\n",
       "      <td>0.122258</td>\n",
       "    </tr>\n",
       "    <tr>\n",
       "      <th>18</th>\n",
       "      <td>1.000</td>\n",
       "      <td>0.1000</td>\n",
       "      <td>0.122255</td>\n",
       "    </tr>\n",
       "    <tr>\n",
       "      <th>19</th>\n",
       "      <td>1.000</td>\n",
       "      <td>1.0000</td>\n",
       "      <td>0.122219</td>\n",
       "    </tr>\n",
       "    <tr>\n",
       "      <th>20</th>\n",
       "      <td>10.000</td>\n",
       "      <td>0.0001</td>\n",
       "      <td>0.122666</td>\n",
       "    </tr>\n",
       "    <tr>\n",
       "      <th>21</th>\n",
       "      <td>10.000</td>\n",
       "      <td>0.0010</td>\n",
       "      <td>0.122665</td>\n",
       "    </tr>\n",
       "    <tr>\n",
       "      <th>22</th>\n",
       "      <td>10.000</td>\n",
       "      <td>0.0100</td>\n",
       "      <td>0.122662</td>\n",
       "    </tr>\n",
       "    <tr>\n",
       "      <th>23</th>\n",
       "      <td>10.000</td>\n",
       "      <td>0.1000</td>\n",
       "      <td>0.122627</td>\n",
       "    </tr>\n",
       "    <tr>\n",
       "      <th>24</th>\n",
       "      <td>10.000</td>\n",
       "      <td>1.0000</td>\n",
       "      <td>0.122278</td>\n",
       "    </tr>\n",
       "  </tbody>\n",
       "</table>\n",
       "</div>"
      ],
      "text/plain": [
       "    elastic_net_regression__alpha  elastic_net_regression__l1_ratio    scores\n",
       "0                           0.001                            0.0001  0.122213\n",
       "1                           0.001                            0.0010  0.122213\n",
       "2                           0.001                            0.0100  0.122213\n",
       "3                           0.001                            0.1000  0.122213\n",
       "4                           0.001                            1.0000  0.122213\n",
       "5                           0.010                            0.0001  0.122213\n",
       "6                           0.010                            0.0010  0.122213\n",
       "7                           0.010                            0.0100  0.122213\n",
       "8                           0.010                            0.1000  0.122213\n",
       "9                           0.010                            1.0000  0.122213\n",
       "10                          0.100                            0.0001  0.122217\n",
       "11                          0.100                            0.0010  0.122217\n",
       "12                          0.100                            0.0100  0.122217\n",
       "13                          0.100                            0.1000  0.122217\n",
       "14                          0.100                            1.0000  0.122213\n",
       "15                          1.000                            0.0001  0.122259\n",
       "16                          1.000                            0.0010  0.122259\n",
       "17                          1.000                            0.0100  0.122258\n",
       "18                          1.000                            0.1000  0.122255\n",
       "19                          1.000                            1.0000  0.122219\n",
       "20                         10.000                            0.0001  0.122666\n",
       "21                         10.000                            0.0010  0.122665\n",
       "22                         10.000                            0.0100  0.122662\n",
       "23                         10.000                            0.1000  0.122627\n",
       "24                         10.000                            1.0000  0.122278"
      ]
     },
     "execution_count": 71,
     "metadata": {},
     "output_type": "execute_result"
    }
   ],
   "source": [
    "elastic_net_pipeline_2 = Pipeline([\n",
    "    (\"elastic_net_regression\", ElasticNet())\n",
    "])\n",
    "\n",
    "alphas = [0.001, 0.01, 0.1, 1, 10]\n",
    "l1_ratios = [0.0001, 0.001, 0.01, 0.1, 1]\n",
    "\n",
    "parameters = {\n",
    "    'elastic_net_regression__alpha': alphas,\n",
    "    'elastic_net_regression__l1_ratio': l1_ratios\n",
    "}\n",
    "\n",
    "gscv_elastic_net = GridSearchCV(elastic_net_pipeline_2, parameters, cv=5, scoring='r2')\n",
    "gscv_elastic_net_fitted = gscv_elastic_net.fit(X_1, y_1)\n",
    "\n",
    "mean_test_scores_elastic_net = gscv_elastic_net_fitted.cv_results_['mean_test_score']\n",
    "\n",
    "results_df_elastic_net = pd.DataFrame(data={\n",
    "    'elastic_net_regression__alpha': [params['elastic_net_regression__alpha'] for params in gscv_elastic_net_fitted.cv_results_['params']],\n",
    "    'elastic_net_regression__l1_ratio': [params['elastic_net_regression__l1_ratio'] for params in gscv_elastic_net_fitted.cv_results_['params']],\n",
    "    \"scores\": mean_test_scores_elastic_net\n",
    "})\n",
    "results_df_elastic_net\n"
   ]
  },
  {
   "cell_type": "code",
   "execution_count": 72,
   "id": "dbc7fe04",
   "metadata": {},
   "outputs": [
    {
     "name": "stdout",
     "output_type": "stream",
     "text": [
      "elastic_net_regression__alpha       10.000000\n",
      "elastic_net_regression__l1_ratio     0.000100\n",
      "scores                               0.122666\n",
      "Name: 20, dtype: float64\n"
     ]
    }
   ],
   "source": [
    "max_index = results_df_elastic_net['scores'].idxmax()\n",
    "\n",
    "row_with_max_value = results_df_elastic_net.loc[max_index]\n",
    "\n",
    "print(row_with_max_value)"
   ]
  },
  {
   "cell_type": "markdown",
   "id": "80d257d1",
   "metadata": {},
   "source": [
    "alpha = 10, l1 ratio = 0.0001 gives the best r2."
   ]
  },
  {
   "cell_type": "code",
   "execution_count": 93,
   "id": "c3b9e979",
   "metadata": {},
   "outputs": [
    {
     "data": {
      "text/plain": [
       "173038.33541686094"
      ]
     },
     "execution_count": 93,
     "metadata": {},
     "output_type": "execute_result"
    }
   ],
   "source": [
    "elastic_net_pipeline_tuned = Pipeline(\n",
    "  [\n",
    "  (\"elastic_net\", ElasticNet(alpha=10, l1_ratio=0.0001))]\n",
    ")\n",
    "\n",
    "elastic_net_tuned_fitted = elastic_net_pipeline_tuned.fit(X_1, y_1)\n",
    "elastic_net_tuned_cof = elastic_net_tuned_fitted.named_steps['elastic_net'].coef_\n",
    "elastic_net_tuned_cof\n",
    "\n",
    "\n",
    "mse_scores_negative_elastic_net = cross_val_score(elastic_net_pipeline_tuned, X_1, y_1, cv=5, scoring='neg_mean_squared_error')\n",
    "mse_scores_positive_elastic_net = -mse_scores_negative_elastic_net\n",
    "mse_hits_elastic_net = np.mean(mse_scores_positive_elastic_net)\n",
    "mse_hits_elastic_net"
   ]
  },
  {
   "cell_type": "markdown",
   "id": "babfef6f",
   "metadata": {},
   "source": [
    "Using the five most important numeric vars are Hits, CRuns, CRBI, Putouts, Walks."
   ]
  },
  {
   "cell_type": "code",
   "execution_count": 80,
   "id": "b64617ce",
   "metadata": {},
   "outputs": [],
   "source": [
    "#Using the five most important numeric\n",
    "X_2 = myData[['Hits','CRuns','CRBI','PutOuts','Walks']]\n",
    "y_2 = myData[\"Salary\"]"
   ]
  },
  {
   "cell_type": "code",
   "execution_count": 84,
   "id": "d4ee351c",
   "metadata": {},
   "outputs": [],
   "source": [
    "ct_sd = ColumnTransformer(\n",
    "    transformers=[\n",
    "        (\"standardize\", StandardScaler(), ['Hits', 'CRuns', 'CRBI', 'PutOuts', 'Walks'])\n",
    "    ],\n",
    "    remainder='passthrough' \n",
    ")"
   ]
  },
  {
   "cell_type": "code",
   "execution_count": 85,
   "id": "719475f0",
   "metadata": {},
   "outputs": [
    {
     "data": {
      "text/plain": [
       "121332.85377811702"
      ]
     },
     "execution_count": 85,
     "metadata": {},
     "output_type": "execute_result"
    }
   ],
   "source": [
    "lr_pipeline_3 = Pipeline(\n",
    "  [(\"standardized\", ct_sd),\n",
    "  (\"linear_regression\", LinearRegression())]\n",
    ")\n",
    "mse_scores_negative = cross_val_score(lr_pipeline_3, X_2, y_2, cv = 5, scoring = 'neg_mean_squared_error')\n",
    "mse_scores_positive = -mse_scores_negative\n",
    "mse_five_ln = np.mean(mse_scores_positive)\n",
    "mse_five_ln"
   ]
  },
  {
   "cell_type": "code",
   "execution_count": 89,
   "id": "ebaae7cc",
   "metadata": {},
   "outputs": [
    {
     "data": {
      "text/html": [
       "<div>\n",
       "<style scoped>\n",
       "    .dataframe tbody tr th:only-of-type {\n",
       "        vertical-align: middle;\n",
       "    }\n",
       "\n",
       "    .dataframe tbody tr th {\n",
       "        vertical-align: top;\n",
       "    }\n",
       "\n",
       "    .dataframe thead th {\n",
       "        text-align: right;\n",
       "    }\n",
       "</style>\n",
       "<table border=\"1\" class=\"dataframe\">\n",
       "  <thead>\n",
       "    <tr style=\"text-align: right;\">\n",
       "      <th></th>\n",
       "      <th>ridge_regression__alpha</th>\n",
       "      <th>scores</th>\n",
       "    </tr>\n",
       "  </thead>\n",
       "  <tbody>\n",
       "    <tr>\n",
       "      <th>0</th>\n",
       "      <td>0.001</td>\n",
       "      <td>0.377228</td>\n",
       "    </tr>\n",
       "    <tr>\n",
       "      <th>1</th>\n",
       "      <td>0.010</td>\n",
       "      <td>0.377241</td>\n",
       "    </tr>\n",
       "    <tr>\n",
       "      <th>2</th>\n",
       "      <td>0.100</td>\n",
       "      <td>0.377371</td>\n",
       "    </tr>\n",
       "    <tr>\n",
       "      <th>3</th>\n",
       "      <td>1.000</td>\n",
       "      <td>0.378566</td>\n",
       "    </tr>\n",
       "    <tr>\n",
       "      <th>4</th>\n",
       "      <td>10.000</td>\n",
       "      <td>0.385945</td>\n",
       "    </tr>\n",
       "  </tbody>\n",
       "</table>\n",
       "</div>"
      ],
      "text/plain": [
       "   ridge_regression__alpha    scores\n",
       "0                    0.001  0.377228\n",
       "1                    0.010  0.377241\n",
       "2                    0.100  0.377371\n",
       "3                    1.000  0.378566\n",
       "4                   10.000  0.385945"
      ]
     },
     "execution_count": 89,
     "metadata": {},
     "output_type": "execute_result"
    }
   ],
   "source": [
    "#ridge with five most important numeric\n",
    "ridge_pipeline_3 = Pipeline(\n",
    "  [('standardized', ct_sd),\n",
    "    (\"ridge_regression\", Ridge())]\n",
    ")\n",
    "\n",
    "degrees = {'ridge_regression__alpha': [0.001, 0.01, 0.1, 1, 10]}\n",
    "\n",
    "gscv = GridSearchCV(ridge_pipeline_3, degrees, cv = 5, scoring='r2')\n",
    "\n",
    "gscv_fitted = gscv.fit(X_2, y_2)\n",
    "\n",
    "gscv_fitted.cv_results_['mean_test_score']\n",
    "pd.DataFrame(data = {'ridge_regression__alpha': [0.001, 0.01, 0.1, 1, 10], \"scores\": gscv_fitted.cv_results_['mean_test_score']})"
   ]
  },
  {
   "cell_type": "markdown",
   "id": "e7621751",
   "metadata": {},
   "source": [
    "degree of 10 gives the highest score"
   ]
  },
  {
   "cell_type": "code",
   "execution_count": 90,
   "id": "98e5fac7",
   "metadata": {},
   "outputs": [
    {
     "data": {
      "text/plain": [
       "119969.29494808064"
      ]
     },
     "execution_count": 90,
     "metadata": {},
     "output_type": "execute_result"
    }
   ],
   "source": [
    "ridge_pipeline_tuned = Pipeline(\n",
    "  [('standardized', ct_sd),\n",
    "  (\"ridge_regression\", Ridge(10))]\n",
    ")\n",
    "ridge_tuned_fitted = ridge_pipeline_tuned.fit(X_2, y_2)\n",
    "ridge_tuned_cof = ridge_tuned_fitted.named_steps ['ridge_regression'].coef_\n",
    "ridge_tuned_cof\n",
    "\n",
    "\n",
    "mse_scores_negative = cross_val_score(ridge_pipeline_tuned, X_2, y_2, cv = 5, scoring = 'neg_mean_squared_error')\n",
    "mse_scores_positive = -mse_scores_negative\n",
    "mse_five_ridge = np.mean(mse_scores_positive)\n",
    "mse_five_ridge"
   ]
  },
  {
   "cell_type": "code",
   "execution_count": 91,
   "id": "cbaad08a",
   "metadata": {},
   "outputs": [
    {
     "data": {
      "text/html": [
       "<div>\n",
       "<style scoped>\n",
       "    .dataframe tbody tr th:only-of-type {\n",
       "        vertical-align: middle;\n",
       "    }\n",
       "\n",
       "    .dataframe tbody tr th {\n",
       "        vertical-align: top;\n",
       "    }\n",
       "\n",
       "    .dataframe thead th {\n",
       "        text-align: right;\n",
       "    }\n",
       "</style>\n",
       "<table border=\"1\" class=\"dataframe\">\n",
       "  <thead>\n",
       "    <tr style=\"text-align: right;\">\n",
       "      <th></th>\n",
       "      <th>lasso_regression__alpha</th>\n",
       "      <th>scores</th>\n",
       "    </tr>\n",
       "  </thead>\n",
       "  <tbody>\n",
       "    <tr>\n",
       "      <th>0</th>\n",
       "      <td>0.001</td>\n",
       "      <td>0.377228</td>\n",
       "    </tr>\n",
       "    <tr>\n",
       "      <th>1</th>\n",
       "      <td>0.010</td>\n",
       "      <td>0.377237</td>\n",
       "    </tr>\n",
       "    <tr>\n",
       "      <th>2</th>\n",
       "      <td>0.100</td>\n",
       "      <td>0.377284</td>\n",
       "    </tr>\n",
       "    <tr>\n",
       "      <th>3</th>\n",
       "      <td>1.000</td>\n",
       "      <td>0.377710</td>\n",
       "    </tr>\n",
       "    <tr>\n",
       "      <th>4</th>\n",
       "      <td>10.000</td>\n",
       "      <td>0.380769</td>\n",
       "    </tr>\n",
       "  </tbody>\n",
       "</table>\n",
       "</div>"
      ],
      "text/plain": [
       "   lasso_regression__alpha    scores\n",
       "0                    0.001  0.377228\n",
       "1                    0.010  0.377237\n",
       "2                    0.100  0.377284\n",
       "3                    1.000  0.377710\n",
       "4                   10.000  0.380769"
      ]
     },
     "execution_count": 91,
     "metadata": {},
     "output_type": "execute_result"
    }
   ],
   "source": [
    "# Lasso with five most important numeric\n",
    "lasso_pipeline_3 = Pipeline([\n",
    "    ('standardized', ct_sd),\n",
    "    (\"lasso_regression\", Lasso())\n",
    "])\n",
    "\n",
    "alphas = [0.001, 0.01, 0.1, 1, 10]\n",
    "\n",
    "degrees = {'lasso_regression__alpha': alphas}\n",
    "\n",
    "gscv_lasso = GridSearchCV(lasso_pipeline_3, degrees, cv=5, scoring='r2')\n",
    "\n",
    "gscv_lasso_fitted = gscv_lasso.fit(X_2, y_2)\n",
    "\n",
    "gscv_lasso_fitted.cv_results_['mean_test_score']\n",
    "pd.DataFrame(data={'lasso_regression__alpha': [0.001, 0.01, 0.1, 1, 10], \"scores\": gscv_lasso_fitted.cv_results_['mean_test_score']})\n"
   ]
  },
  {
   "cell_type": "markdown",
   "id": "431f0374",
   "metadata": {},
   "source": [
    "degrees of 10 gives the highest r2 again"
   ]
  },
  {
   "cell_type": "code",
   "execution_count": 92,
   "id": "a8200e9d",
   "metadata": {},
   "outputs": [
    {
     "data": {
      "text/plain": [
       "121599.94503850487"
      ]
     },
     "execution_count": 92,
     "metadata": {},
     "output_type": "execute_result"
    }
   ],
   "source": [
    "lasso_pipeline_tuned = Pipeline([\n",
    "    ('standardized', ct_sd),\n",
    "    (\"lasso_regression\", Lasso(alpha=10)) \n",
    "])\n",
    "\n",
    "lasso_tuned_fitted = lasso_pipeline_tuned.fit(X_2, y_2)\n",
    "lasso_tuned_cof = lasso_tuned_fitted.named_steps['lasso_regression'].coef_\n",
    "lasso_tuned_cof\n",
    "\n",
    "mse_scores_negative_lasso = cross_val_score(lasso_pipeline_tuned, X_2, y_2, cv=5, scoring='neg_mean_squared_error')\n",
    "mse_scores_positive_lasso = -mse_scores_negative_lasso\n",
    "mse_five_lasso = np.mean(mse_scores_positive_lasso)\n",
    "mse_five_lasso\n"
   ]
  },
  {
   "cell_type": "code",
   "execution_count": 94,
   "id": "9f43b73c",
   "metadata": {
    "scrolled": true
   },
   "outputs": [
    {
     "data": {
      "text/html": [
       "<div>\n",
       "<style scoped>\n",
       "    .dataframe tbody tr th:only-of-type {\n",
       "        vertical-align: middle;\n",
       "    }\n",
       "\n",
       "    .dataframe tbody tr th {\n",
       "        vertical-align: top;\n",
       "    }\n",
       "\n",
       "    .dataframe thead th {\n",
       "        text-align: right;\n",
       "    }\n",
       "</style>\n",
       "<table border=\"1\" class=\"dataframe\">\n",
       "  <thead>\n",
       "    <tr style=\"text-align: right;\">\n",
       "      <th></th>\n",
       "      <th>elastic_net_regression__alpha</th>\n",
       "      <th>elastic_net_regression__l1_ratio</th>\n",
       "      <th>scores</th>\n",
       "    </tr>\n",
       "  </thead>\n",
       "  <tbody>\n",
       "    <tr>\n",
       "      <th>0</th>\n",
       "      <td>0.001</td>\n",
       "      <td>0.0001</td>\n",
       "      <td>0.377527</td>\n",
       "    </tr>\n",
       "    <tr>\n",
       "      <th>1</th>\n",
       "      <td>0.001</td>\n",
       "      <td>0.0010</td>\n",
       "      <td>0.377527</td>\n",
       "    </tr>\n",
       "    <tr>\n",
       "      <th>2</th>\n",
       "      <td>0.001</td>\n",
       "      <td>0.0100</td>\n",
       "      <td>0.377524</td>\n",
       "    </tr>\n",
       "    <tr>\n",
       "      <th>3</th>\n",
       "      <td>0.001</td>\n",
       "      <td>0.1000</td>\n",
       "      <td>0.377498</td>\n",
       "    </tr>\n",
       "    <tr>\n",
       "      <th>4</th>\n",
       "      <td>0.001</td>\n",
       "      <td>1.0000</td>\n",
       "      <td>0.377228</td>\n",
       "    </tr>\n",
       "    <tr>\n",
       "      <th>5</th>\n",
       "      <td>0.010</td>\n",
       "      <td>0.0001</td>\n",
       "      <td>0.379840</td>\n",
       "    </tr>\n",
       "    <tr>\n",
       "      <th>6</th>\n",
       "      <td>0.010</td>\n",
       "      <td>0.0010</td>\n",
       "      <td>0.379838</td>\n",
       "    </tr>\n",
       "    <tr>\n",
       "      <th>7</th>\n",
       "      <td>0.010</td>\n",
       "      <td>0.0100</td>\n",
       "      <td>0.379818</td>\n",
       "    </tr>\n",
       "    <tr>\n",
       "      <th>8</th>\n",
       "      <td>0.010</td>\n",
       "      <td>0.1000</td>\n",
       "      <td>0.379613</td>\n",
       "    </tr>\n",
       "    <tr>\n",
       "      <th>9</th>\n",
       "      <td>0.010</td>\n",
       "      <td>1.0000</td>\n",
       "      <td>0.377237</td>\n",
       "    </tr>\n",
       "    <tr>\n",
       "      <th>10</th>\n",
       "      <td>0.100</td>\n",
       "      <td>0.0001</td>\n",
       "      <td>0.391121</td>\n",
       "    </tr>\n",
       "    <tr>\n",
       "      <th>11</th>\n",
       "      <td>0.100</td>\n",
       "      <td>0.0010</td>\n",
       "      <td>0.391114</td>\n",
       "    </tr>\n",
       "    <tr>\n",
       "      <th>12</th>\n",
       "      <td>0.100</td>\n",
       "      <td>0.0100</td>\n",
       "      <td>0.391043</td>\n",
       "    </tr>\n",
       "    <tr>\n",
       "      <th>13</th>\n",
       "      <td>0.100</td>\n",
       "      <td>0.1000</td>\n",
       "      <td>0.390304</td>\n",
       "    </tr>\n",
       "    <tr>\n",
       "      <th>14</th>\n",
       "      <td>0.100</td>\n",
       "      <td>1.0000</td>\n",
       "      <td>0.377284</td>\n",
       "    </tr>\n",
       "    <tr>\n",
       "      <th>15</th>\n",
       "      <td>1.000</td>\n",
       "      <td>0.0001</td>\n",
       "      <td>0.385378</td>\n",
       "    </tr>\n",
       "    <tr>\n",
       "      <th>16</th>\n",
       "      <td>1.000</td>\n",
       "      <td>0.0010</td>\n",
       "      <td>0.385413</td>\n",
       "    </tr>\n",
       "    <tr>\n",
       "      <th>17</th>\n",
       "      <td>1.000</td>\n",
       "      <td>0.0100</td>\n",
       "      <td>0.385771</td>\n",
       "    </tr>\n",
       "    <tr>\n",
       "      <th>18</th>\n",
       "      <td>1.000</td>\n",
       "      <td>0.1000</td>\n",
       "      <td>0.389208</td>\n",
       "    </tr>\n",
       "    <tr>\n",
       "      <th>19</th>\n",
       "      <td>1.000</td>\n",
       "      <td>1.0000</td>\n",
       "      <td>0.377710</td>\n",
       "    </tr>\n",
       "    <tr>\n",
       "      <th>20</th>\n",
       "      <td>10.000</td>\n",
       "      <td>0.0001</td>\n",
       "      <td>0.131496</td>\n",
       "    </tr>\n",
       "    <tr>\n",
       "      <th>21</th>\n",
       "      <td>10.000</td>\n",
       "      <td>0.0010</td>\n",
       "      <td>0.131601</td>\n",
       "    </tr>\n",
       "    <tr>\n",
       "      <th>22</th>\n",
       "      <td>10.000</td>\n",
       "      <td>0.0100</td>\n",
       "      <td>0.132656</td>\n",
       "    </tr>\n",
       "    <tr>\n",
       "      <th>23</th>\n",
       "      <td>10.000</td>\n",
       "      <td>0.1000</td>\n",
       "      <td>0.143984</td>\n",
       "    </tr>\n",
       "    <tr>\n",
       "      <th>24</th>\n",
       "      <td>10.000</td>\n",
       "      <td>1.0000</td>\n",
       "      <td>0.380769</td>\n",
       "    </tr>\n",
       "  </tbody>\n",
       "</table>\n",
       "</div>"
      ],
      "text/plain": [
       "    elastic_net_regression__alpha  elastic_net_regression__l1_ratio    scores\n",
       "0                           0.001                            0.0001  0.377527\n",
       "1                           0.001                            0.0010  0.377527\n",
       "2                           0.001                            0.0100  0.377524\n",
       "3                           0.001                            0.1000  0.377498\n",
       "4                           0.001                            1.0000  0.377228\n",
       "5                           0.010                            0.0001  0.379840\n",
       "6                           0.010                            0.0010  0.379838\n",
       "7                           0.010                            0.0100  0.379818\n",
       "8                           0.010                            0.1000  0.379613\n",
       "9                           0.010                            1.0000  0.377237\n",
       "10                          0.100                            0.0001  0.391121\n",
       "11                          0.100                            0.0010  0.391114\n",
       "12                          0.100                            0.0100  0.391043\n",
       "13                          0.100                            0.1000  0.390304\n",
       "14                          0.100                            1.0000  0.377284\n",
       "15                          1.000                            0.0001  0.385378\n",
       "16                          1.000                            0.0010  0.385413\n",
       "17                          1.000                            0.0100  0.385771\n",
       "18                          1.000                            0.1000  0.389208\n",
       "19                          1.000                            1.0000  0.377710\n",
       "20                         10.000                            0.0001  0.131496\n",
       "21                         10.000                            0.0010  0.131601\n",
       "22                         10.000                            0.0100  0.132656\n",
       "23                         10.000                            0.1000  0.143984\n",
       "24                         10.000                            1.0000  0.380769"
      ]
     },
     "execution_count": 94,
     "metadata": {},
     "output_type": "execute_result"
    }
   ],
   "source": [
    "elastic_net_pipeline_3 = Pipeline([\n",
    "        ('standardized', ct_sd),\n",
    "    (\"elastic_net_regression\", ElasticNet())\n",
    "])\n",
    "\n",
    "alphas = [0.001, 0.01, 0.1, 1, 10]\n",
    "l1_ratios = [0.0001, 0.001, 0.01, 0.1, 1]\n",
    "\n",
    "parameters = {\n",
    "    'elastic_net_regression__alpha': alphas,\n",
    "    'elastic_net_regression__l1_ratio': l1_ratios\n",
    "}\n",
    "\n",
    "gscv_elastic_net = GridSearchCV(elastic_net_pipeline_3, parameters, cv=5, scoring='r2')\n",
    "gscv_elastic_net_fitted = gscv_elastic_net.fit(X_2, y_2)\n",
    "\n",
    "mean_test_scores_elastic_net = gscv_elastic_net_fitted.cv_results_['mean_test_score']\n",
    "\n",
    "results_df_elastic_net = pd.DataFrame(data={\n",
    "    'elastic_net_regression__alpha': [params['elastic_net_regression__alpha'] for params in gscv_elastic_net_fitted.cv_results_['params']],\n",
    "    'elastic_net_regression__l1_ratio': [params['elastic_net_regression__l1_ratio'] for params in gscv_elastic_net_fitted.cv_results_['params']],\n",
    "    \"scores\": mean_test_scores_elastic_net\n",
    "})\n",
    "results_df_elastic_net"
   ]
  },
  {
   "cell_type": "code",
   "execution_count": 95,
   "id": "a5b61eac",
   "metadata": {},
   "outputs": [
    {
     "name": "stdout",
     "output_type": "stream",
     "text": [
      "elastic_net_regression__alpha       0.100000\n",
      "elastic_net_regression__l1_ratio    0.000100\n",
      "scores                              0.391121\n",
      "Name: 10, dtype: float64\n"
     ]
    }
   ],
   "source": [
    "max_index = results_df_elastic_net['scores'].idxmax()\n",
    "\n",
    "row_with_max_value = results_df_elastic_net.loc[max_index]\n",
    "\n",
    "print(row_with_max_value)"
   ]
  },
  {
   "cell_type": "markdown",
   "id": "cef7a209",
   "metadata": {},
   "source": [
    "alpha of .1 and l1 ratio of .0001 gives the highest r2"
   ]
  },
  {
   "cell_type": "code",
   "execution_count": 96,
   "id": "4f51df47",
   "metadata": {},
   "outputs": [
    {
     "data": {
      "text/plain": [
       "119322.56779138888"
      ]
     },
     "execution_count": 96,
     "metadata": {},
     "output_type": "execute_result"
    }
   ],
   "source": [
    "elastic_net_pipeline_tuned = Pipeline(\n",
    "  [        ('standardized', ct_sd),\n",
    "  (\"elastic_net\", ElasticNet(alpha=0.1, l1_ratio=0.0001))]\n",
    ")\n",
    "\n",
    "elastic_net_tuned_fitted = elastic_net_pipeline_tuned.fit(X_2, y_2)\n",
    "elastic_net_tuned_cof = elastic_net_tuned_fitted.named_steps['elastic_net'].coef_\n",
    "elastic_net_tuned_cof\n",
    "\n",
    "\n",
    "mse_scores_negative_elastic_net = cross_val_score(elastic_net_pipeline_tuned, X_2, y_2, cv=5, scoring='neg_mean_squared_error')\n",
    "mse_scores_positive_elastic_net = -mse_scores_negative_elastic_net\n",
    "mse_five_elastic_net = np.mean(mse_scores_positive_elastic_net)\n",
    "mse_five_elastic_net"
   ]
  },
  {
   "cell_type": "markdown",
   "id": "f71ea6d5",
   "metadata": {},
   "source": [
    "Using the five best numeric variables and their interactions with the one best categorical variable.\n",
    "\n"
   ]
  },
  {
   "cell_type": "code",
   "execution_count": 132,
   "id": "ab57bbb9",
   "metadata": {},
   "outputs": [],
   "source": [
    "#Using the five most important numeric and best categorical\n",
    "X_3 = myData[['Hits','CRuns','CRBI','PutOuts','Walks','Division']]\n",
    "y_3 = myData[\"Salary\"]"
   ]
  },
  {
   "cell_type": "code",
   "execution_count": 129,
   "id": "7c21083d",
   "metadata": {},
   "outputs": [],
   "source": [
    "ct_dummies = ColumnTransformer(\n",
    "  [(\"dummify\", OneHotEncoder(sparse_output = False), [\"Division\"])],\n",
    "  remainder = \"passthrough\"\n",
    ").set_output(transform = \"pandas\")\n",
    "\n",
    "ct_sd = ColumnTransformer(\n",
    "    transformers=[\n",
    "        (\"standardize\", StandardScaler(), ['remainder__Hits', 'remainder__CRuns', 'remainder__CRBI', 'remainder__PutOuts', 'remainder__Walks'])\n",
    "    ],\n",
    "    remainder='passthrough' \n",
    ").set_output(transform = \"pandas\")\n",
    "\n",
    "ct_inter = ColumnTransformer(\n",
    "    [\n",
    "        (\"interaction\", PolynomialFeatures(interaction_only=True), ['standardize__remainder__Hits', 'standardize__remainder__CRuns', 'standardize__remainder__CRBI', 'standardize__remainder__PutOuts', 'standardize__remainder__Walks','remainder__dummify__Division_E'])],\n",
    "    remainder=\"drop\"\n",
    ").set_output(transform=\"pandas\")"
   ]
  },
  {
   "cell_type": "code",
   "execution_count": 130,
   "id": "82cf6540",
   "metadata": {},
   "outputs": [
    {
     "data": {
      "text/plain": [
       "105677.17614174401"
      ]
     },
     "execution_count": 130,
     "metadata": {},
     "output_type": "execute_result"
    }
   ],
   "source": [
    "lr_pipeline_4 = Pipeline(\n",
    "  [(\"dummified\", ct_dummies),\n",
    "   ('standardized', ct_sd),\n",
    "   ('interaction',ct_inter),\n",
    "  (\"linear_regression\", LinearRegression())]\n",
    ")\n",
    "mse_scores_negative = cross_val_score(lr_pipeline_4, X_3, y_3, cv = 5, scoring = 'neg_mean_squared_error')\n",
    "mse_scores_positive = -mse_scores_negative\n",
    "mse_interaction_ln = np.mean(mse_scores_positive)\n",
    "mse_interaction_ln"
   ]
  },
  {
   "cell_type": "markdown",
   "id": "06fc642c",
   "metadata": {},
   "source": [
    "ridge for interaction"
   ]
  },
  {
   "cell_type": "code",
   "execution_count": 133,
   "id": "19f5512d",
   "metadata": {},
   "outputs": [
    {
     "data": {
      "text/html": [
       "<div>\n",
       "<style scoped>\n",
       "    .dataframe tbody tr th:only-of-type {\n",
       "        vertical-align: middle;\n",
       "    }\n",
       "\n",
       "    .dataframe tbody tr th {\n",
       "        vertical-align: top;\n",
       "    }\n",
       "\n",
       "    .dataframe thead th {\n",
       "        text-align: right;\n",
       "    }\n",
       "</style>\n",
       "<table border=\"1\" class=\"dataframe\">\n",
       "  <thead>\n",
       "    <tr style=\"text-align: right;\">\n",
       "      <th></th>\n",
       "      <th>ridge_regression__alpha</th>\n",
       "      <th>scores</th>\n",
       "    </tr>\n",
       "  </thead>\n",
       "  <tbody>\n",
       "    <tr>\n",
       "      <th>0</th>\n",
       "      <td>0.001</td>\n",
       "      <td>0.427368</td>\n",
       "    </tr>\n",
       "    <tr>\n",
       "      <th>1</th>\n",
       "      <td>0.010</td>\n",
       "      <td>0.427874</td>\n",
       "    </tr>\n",
       "    <tr>\n",
       "      <th>2</th>\n",
       "      <td>0.100</td>\n",
       "      <td>0.432542</td>\n",
       "    </tr>\n",
       "    <tr>\n",
       "      <th>3</th>\n",
       "      <td>1.000</td>\n",
       "      <td>0.458940</td>\n",
       "    </tr>\n",
       "    <tr>\n",
       "      <th>4</th>\n",
       "      <td>10.000</td>\n",
       "      <td>0.501947</td>\n",
       "    </tr>\n",
       "  </tbody>\n",
       "</table>\n",
       "</div>"
      ],
      "text/plain": [
       "   ridge_regression__alpha    scores\n",
       "0                    0.001  0.427368\n",
       "1                    0.010  0.427874\n",
       "2                    0.100  0.432542\n",
       "3                    1.000  0.458940\n",
       "4                   10.000  0.501947"
      ]
     },
     "execution_count": 133,
     "metadata": {},
     "output_type": "execute_result"
    }
   ],
   "source": [
    "#ridge with five most important numeric\n",
    "ridge_pipeline_4 = Pipeline(\n",
    "  [(\"dummified\", ct_dummies),\n",
    "   ('standardized', ct_sd),\n",
    "   ('interaction',ct_inter),\n",
    "    (\"ridge_regression\", Ridge())]\n",
    ")\n",
    "\n",
    "degrees = {'ridge_regression__alpha': [0.001, 0.01, 0.1, 1, 10]}\n",
    "\n",
    "gscv = GridSearchCV(ridge_pipeline_4, degrees, cv = 5, scoring='r2')\n",
    "\n",
    "gscv_fitted = gscv.fit(X_3, y_3)\n",
    "\n",
    "gscv_fitted.cv_results_['mean_test_score']\n",
    "pd.DataFrame(data = {'ridge_regression__alpha': [0.001, 0.01, 0.1, 1, 10], \"scores\": gscv_fitted.cv_results_['mean_test_score']})"
   ]
  },
  {
   "cell_type": "markdown",
   "id": "d0567376",
   "metadata": {},
   "source": [
    "alpha = 10, gives the highest r2."
   ]
  },
  {
   "cell_type": "code",
   "execution_count": 134,
   "id": "0fc62252",
   "metadata": {},
   "outputs": [
    {
     "data": {
      "text/plain": [
       "92882.04260654692"
      ]
     },
     "execution_count": 134,
     "metadata": {},
     "output_type": "execute_result"
    }
   ],
   "source": [
    "ridge_pipeline_tuned = Pipeline(\n",
    "  [(\"dummified\", ct_dummies),\n",
    "   ('standardized', ct_sd),\n",
    "   ('interaction',ct_inter),\n",
    "  (\"ridge_regression\", Ridge(10))]\n",
    ")\n",
    "ridge_tuned_fitted = ridge_pipeline_tuned.fit(X_3, y_3)\n",
    "ridge_tuned_cof = ridge_tuned_fitted.named_steps ['ridge_regression'].coef_\n",
    "ridge_tuned_cof\n",
    "\n",
    "\n",
    "mse_scores_negative = cross_val_score(ridge_pipeline_tuned, X_3, y_3, cv = 5, scoring = 'neg_mean_squared_error')\n",
    "mse_scores_positive = -mse_scores_negative\n",
    "mse_interaction_ridge = np.mean(mse_scores_positive)\n",
    "mse_interaction_ridge"
   ]
  },
  {
   "cell_type": "markdown",
   "id": "3c18aab5",
   "metadata": {},
   "source": [
    "lasso for interaction"
   ]
  },
  {
   "cell_type": "code",
   "execution_count": 135,
   "id": "d2ea86da",
   "metadata": {
    "scrolled": true
   },
   "outputs": [
    {
     "data": {
      "text/html": [
       "<div>\n",
       "<style scoped>\n",
       "    .dataframe tbody tr th:only-of-type {\n",
       "        vertical-align: middle;\n",
       "    }\n",
       "\n",
       "    .dataframe tbody tr th {\n",
       "        vertical-align: top;\n",
       "    }\n",
       "\n",
       "    .dataframe thead th {\n",
       "        text-align: right;\n",
       "    }\n",
       "</style>\n",
       "<table border=\"1\" class=\"dataframe\">\n",
       "  <thead>\n",
       "    <tr style=\"text-align: right;\">\n",
       "      <th></th>\n",
       "      <th>lasso_regression__alpha</th>\n",
       "      <th>scores</th>\n",
       "    </tr>\n",
       "  </thead>\n",
       "  <tbody>\n",
       "    <tr>\n",
       "      <th>0</th>\n",
       "      <td>0.001</td>\n",
       "      <td>0.427348</td>\n",
       "    </tr>\n",
       "    <tr>\n",
       "      <th>1</th>\n",
       "      <td>0.010</td>\n",
       "      <td>0.427680</td>\n",
       "    </tr>\n",
       "    <tr>\n",
       "      <th>2</th>\n",
       "      <td>0.100</td>\n",
       "      <td>0.430922</td>\n",
       "    </tr>\n",
       "    <tr>\n",
       "      <th>3</th>\n",
       "      <td>1.000</td>\n",
       "      <td>0.449212</td>\n",
       "    </tr>\n",
       "    <tr>\n",
       "      <th>4</th>\n",
       "      <td>10.000</td>\n",
       "      <td>0.503465</td>\n",
       "    </tr>\n",
       "  </tbody>\n",
       "</table>\n",
       "</div>"
      ],
      "text/plain": [
       "   lasso_regression__alpha    scores\n",
       "0                    0.001  0.427348\n",
       "1                    0.010  0.427680\n",
       "2                    0.100  0.430922\n",
       "3                    1.000  0.449212\n",
       "4                   10.000  0.503465"
      ]
     },
     "execution_count": 135,
     "metadata": {},
     "output_type": "execute_result"
    }
   ],
   "source": [
    "# Lasso with five most important numeric\n",
    "lasso_pipeline_4 = Pipeline(\n",
    "    [(\"dummified\", ct_dummies),\n",
    "     ('standardized', ct_sd),\n",
    "     ('interaction', ct_inter),\n",
    "     (\"lasso_regression\", Lasso())]\n",
    ")\n",
    "\n",
    "degrees = {'lasso_regression__alpha': [0.001, 0.01, 0.1, 1, 10]}\n",
    "\n",
    "gscv = GridSearchCV(lasso_pipeline_4, degrees, cv=5, scoring='r2')\n",
    "\n",
    "gscv_fitted = gscv.fit(X_3, y_3)\n",
    "\n",
    "gscv_fitted.cv_results_['mean_test_score']\n",
    "pd.DataFrame(data={'lasso_regression__alpha': [0.001, 0.01, 0.1, 1, 10], \"scores\": gscv_fitted.cv_results_['mean_test_score']})\n"
   ]
  },
  {
   "cell_type": "markdown",
   "id": "f786e730",
   "metadata": {},
   "source": [
    "alpha of 10 gives me the highest r2 again."
   ]
  },
  {
   "cell_type": "code",
   "execution_count": 137,
   "id": "600e7ab3",
   "metadata": {},
   "outputs": [
    {
     "data": {
      "text/plain": [
       "92882.04260654692"
      ]
     },
     "execution_count": 137,
     "metadata": {},
     "output_type": "execute_result"
    }
   ],
   "source": [
    "lasso_pipeline_tuned = Pipeline(\n",
    "  [(\"dummified\", ct_dummies),\n",
    "   ('standardized', ct_sd),\n",
    "   ('interaction',ct_inter),\n",
    "  (\"lasso_regression\", Ridge(10))]\n",
    ")\n",
    "lasso_tuned_fitted = lasso_pipeline_tuned.fit(X_3, y_3)\n",
    "lasso_tuned_cof = lasso_tuned_fitted.named_steps ['lasso_regression'].coef_\n",
    "lasso_tuned_cof\n",
    "\n",
    "\n",
    "mse_scores_negative = cross_val_score(lasso_pipeline_tuned, X_3, y_3, cv = 5, scoring = 'neg_mean_squared_error')\n",
    "mse_scores_positive = -mse_scores_negative\n",
    "mse_interaction_lasso = np.mean(mse_scores_positive)\n",
    "mse_interaction_lasso"
   ]
  },
  {
   "cell_type": "markdown",
   "id": "2ece543e",
   "metadata": {},
   "source": [
    "elastic_net for interaction"
   ]
  },
  {
   "cell_type": "code",
   "execution_count": 144,
   "id": "f99448a0",
   "metadata": {
    "scrolled": true
   },
   "outputs": [
    {
     "name": "stderr",
     "output_type": "stream",
     "text": [
      "/Users/richlegendary/anaconda3/lib/python3.11/site-packages/sklearn/linear_model/_coordinate_descent.py:628: ConvergenceWarning: Objective did not converge. You might want to increase the number of iterations, check the scale of the features or consider increasing regularisation. Duality gap: 3.811e+04, tolerance: 4.708e+03\n",
      "  model = cd_fast.enet_coordinate_descent(\n",
      "/Users/richlegendary/anaconda3/lib/python3.11/site-packages/sklearn/linear_model/_coordinate_descent.py:628: ConvergenceWarning: Objective did not converge. You might want to increase the number of iterations, check the scale of the features or consider increasing regularisation. Duality gap: 1.515e+04, tolerance: 3.606e+03\n",
      "  model = cd_fast.enet_coordinate_descent(\n",
      "/Users/richlegendary/anaconda3/lib/python3.11/site-packages/sklearn/linear_model/_coordinate_descent.py:628: ConvergenceWarning: Objective did not converge. You might want to increase the number of iterations, check the scale of the features or consider increasing regularisation. Duality gap: 3.388e+05, tolerance: 4.137e+03\n",
      "  model = cd_fast.enet_coordinate_descent(\n",
      "/Users/richlegendary/anaconda3/lib/python3.11/site-packages/sklearn/linear_model/_coordinate_descent.py:628: ConvergenceWarning: Objective did not converge. You might want to increase the number of iterations, check the scale of the features or consider increasing regularisation. Duality gap: 1.056e+06, tolerance: 4.281e+03\n",
      "  model = cd_fast.enet_coordinate_descent(\n",
      "/Users/richlegendary/anaconda3/lib/python3.11/site-packages/sklearn/linear_model/_coordinate_descent.py:628: ConvergenceWarning: Objective did not converge. You might want to increase the number of iterations, check the scale of the features or consider increasing regularisation. Duality gap: 2.341e+05, tolerance: 4.558e+03\n",
      "  model = cd_fast.enet_coordinate_descent(\n",
      "/Users/richlegendary/anaconda3/lib/python3.11/site-packages/sklearn/linear_model/_coordinate_descent.py:628: ConvergenceWarning: Objective did not converge. You might want to increase the number of iterations, check the scale of the features or consider increasing regularisation. Duality gap: 5.229e+03, tolerance: 4.137e+03\n",
      "  model = cd_fast.enet_coordinate_descent(\n",
      "/Users/richlegendary/anaconda3/lib/python3.11/site-packages/sklearn/linear_model/_coordinate_descent.py:628: ConvergenceWarning: Objective did not converge. You might want to increase the number of iterations, check the scale of the features or consider increasing regularisation. Duality gap: 3.146e+04, tolerance: 4.281e+03\n",
      "  model = cd_fast.enet_coordinate_descent(\n"
     ]
    },
    {
     "data": {
      "text/html": [
       "<div>\n",
       "<style scoped>\n",
       "    .dataframe tbody tr th:only-of-type {\n",
       "        vertical-align: middle;\n",
       "    }\n",
       "\n",
       "    .dataframe tbody tr th {\n",
       "        vertical-align: top;\n",
       "    }\n",
       "\n",
       "    .dataframe thead th {\n",
       "        text-align: right;\n",
       "    }\n",
       "</style>\n",
       "<table border=\"1\" class=\"dataframe\">\n",
       "  <thead>\n",
       "    <tr style=\"text-align: right;\">\n",
       "      <th></th>\n",
       "      <th>elastic_net_regression__alpha</th>\n",
       "      <th>elastic_net_regression__l1_ratio</th>\n",
       "      <th>scores</th>\n",
       "    </tr>\n",
       "  </thead>\n",
       "  <tbody>\n",
       "    <tr>\n",
       "      <th>0</th>\n",
       "      <td>0.001</td>\n",
       "      <td>0.0001</td>\n",
       "      <td>0.437479</td>\n",
       "    </tr>\n",
       "    <tr>\n",
       "      <th>1</th>\n",
       "      <td>0.001</td>\n",
       "      <td>0.0010</td>\n",
       "      <td>0.437471</td>\n",
       "    </tr>\n",
       "    <tr>\n",
       "      <th>2</th>\n",
       "      <td>0.001</td>\n",
       "      <td>0.0100</td>\n",
       "      <td>0.437393</td>\n",
       "    </tr>\n",
       "    <tr>\n",
       "      <th>3</th>\n",
       "      <td>0.001</td>\n",
       "      <td>0.1000</td>\n",
       "      <td>0.436603</td>\n",
       "    </tr>\n",
       "    <tr>\n",
       "      <th>4</th>\n",
       "      <td>0.001</td>\n",
       "      <td>1.0000</td>\n",
       "      <td>0.427348</td>\n",
       "    </tr>\n",
       "    <tr>\n",
       "      <th>5</th>\n",
       "      <td>0.010</td>\n",
       "      <td>0.0001</td>\n",
       "      <td>0.473409</td>\n",
       "    </tr>\n",
       "    <tr>\n",
       "      <th>6</th>\n",
       "      <td>0.010</td>\n",
       "      <td>0.0010</td>\n",
       "      <td>0.473391</td>\n",
       "    </tr>\n",
       "    <tr>\n",
       "      <th>7</th>\n",
       "      <td>0.010</td>\n",
       "      <td>0.0100</td>\n",
       "      <td>0.473211</td>\n",
       "    </tr>\n",
       "    <tr>\n",
       "      <th>8</th>\n",
       "      <td>0.010</td>\n",
       "      <td>0.1000</td>\n",
       "      <td>0.471322</td>\n",
       "    </tr>\n",
       "    <tr>\n",
       "      <th>9</th>\n",
       "      <td>0.010</td>\n",
       "      <td>1.0000</td>\n",
       "      <td>0.427680</td>\n",
       "    </tr>\n",
       "    <tr>\n",
       "      <th>10</th>\n",
       "      <td>0.100</td>\n",
       "      <td>0.0001</td>\n",
       "      <td>0.510913</td>\n",
       "    </tr>\n",
       "    <tr>\n",
       "      <th>11</th>\n",
       "      <td>0.100</td>\n",
       "      <td>0.0010</td>\n",
       "      <td>0.510906</td>\n",
       "    </tr>\n",
       "    <tr>\n",
       "      <th>12</th>\n",
       "      <td>0.100</td>\n",
       "      <td>0.0100</td>\n",
       "      <td>0.510835</td>\n",
       "    </tr>\n",
       "    <tr>\n",
       "      <th>13</th>\n",
       "      <td>0.100</td>\n",
       "      <td>0.1000</td>\n",
       "      <td>0.510022</td>\n",
       "    </tr>\n",
       "    <tr>\n",
       "      <th>14</th>\n",
       "      <td>0.100</td>\n",
       "      <td>1.0000</td>\n",
       "      <td>0.430922</td>\n",
       "    </tr>\n",
       "    <tr>\n",
       "      <th>15</th>\n",
       "      <td>1.000</td>\n",
       "      <td>0.0001</td>\n",
       "      <td>0.464721</td>\n",
       "    </tr>\n",
       "    <tr>\n",
       "      <th>16</th>\n",
       "      <td>1.000</td>\n",
       "      <td>0.0010</td>\n",
       "      <td>0.464775</td>\n",
       "    </tr>\n",
       "    <tr>\n",
       "      <th>17</th>\n",
       "      <td>1.000</td>\n",
       "      <td>0.0100</td>\n",
       "      <td>0.465317</td>\n",
       "    </tr>\n",
       "    <tr>\n",
       "      <th>18</th>\n",
       "      <td>1.000</td>\n",
       "      <td>0.1000</td>\n",
       "      <td>0.470816</td>\n",
       "    </tr>\n",
       "    <tr>\n",
       "      <th>19</th>\n",
       "      <td>1.000</td>\n",
       "      <td>1.0000</td>\n",
       "      <td>0.449212</td>\n",
       "    </tr>\n",
       "    <tr>\n",
       "      <th>20</th>\n",
       "      <td>10.000</td>\n",
       "      <td>0.0001</td>\n",
       "      <td>0.206404</td>\n",
       "    </tr>\n",
       "    <tr>\n",
       "      <th>21</th>\n",
       "      <td>10.000</td>\n",
       "      <td>0.0010</td>\n",
       "      <td>0.206518</td>\n",
       "    </tr>\n",
       "    <tr>\n",
       "      <th>22</th>\n",
       "      <td>10.000</td>\n",
       "      <td>0.0100</td>\n",
       "      <td>0.207671</td>\n",
       "    </tr>\n",
       "    <tr>\n",
       "      <th>23</th>\n",
       "      <td>10.000</td>\n",
       "      <td>0.1000</td>\n",
       "      <td>0.219900</td>\n",
       "    </tr>\n",
       "    <tr>\n",
       "      <th>24</th>\n",
       "      <td>10.000</td>\n",
       "      <td>1.0000</td>\n",
       "      <td>0.503465</td>\n",
       "    </tr>\n",
       "  </tbody>\n",
       "</table>\n",
       "</div>"
      ],
      "text/plain": [
       "    elastic_net_regression__alpha  elastic_net_regression__l1_ratio    scores\n",
       "0                           0.001                            0.0001  0.437479\n",
       "1                           0.001                            0.0010  0.437471\n",
       "2                           0.001                            0.0100  0.437393\n",
       "3                           0.001                            0.1000  0.436603\n",
       "4                           0.001                            1.0000  0.427348\n",
       "5                           0.010                            0.0001  0.473409\n",
       "6                           0.010                            0.0010  0.473391\n",
       "7                           0.010                            0.0100  0.473211\n",
       "8                           0.010                            0.1000  0.471322\n",
       "9                           0.010                            1.0000  0.427680\n",
       "10                          0.100                            0.0001  0.510913\n",
       "11                          0.100                            0.0010  0.510906\n",
       "12                          0.100                            0.0100  0.510835\n",
       "13                          0.100                            0.1000  0.510022\n",
       "14                          0.100                            1.0000  0.430922\n",
       "15                          1.000                            0.0001  0.464721\n",
       "16                          1.000                            0.0010  0.464775\n",
       "17                          1.000                            0.0100  0.465317\n",
       "18                          1.000                            0.1000  0.470816\n",
       "19                          1.000                            1.0000  0.449212\n",
       "20                         10.000                            0.0001  0.206404\n",
       "21                         10.000                            0.0010  0.206518\n",
       "22                         10.000                            0.0100  0.207671\n",
       "23                         10.000                            0.1000  0.219900\n",
       "24                         10.000                            1.0000  0.503465"
      ]
     },
     "execution_count": 144,
     "metadata": {},
     "output_type": "execute_result"
    }
   ],
   "source": [
    "elastic_net_pipeline_4 = Pipeline([\n",
    "    (\"dummified\", ct_dummies),\n",
    "     ('standardized', ct_sd),\n",
    "     ('interaction', ct_inter),\n",
    "    (\"elastic_net_regression\", ElasticNet())])\n",
    "\n",
    "\n",
    "alphas = [0.001, 0.01, 0.1, 1, 10]\n",
    "l1_ratios = [0.0001, 0.001, 0.01, 0.1, 1]\n",
    "\n",
    "parameters = {\n",
    "    'elastic_net_regression__alpha': alphas,\n",
    "    'elastic_net_regression__l1_ratio': l1_ratios\n",
    "}\n",
    "\n",
    "gscv_elastic_net = GridSearchCV(elastic_net_pipeline_4, parameters, cv=5, scoring='r2')\n",
    "gscv_elastic_net_fitted = gscv_elastic_net.fit(X_3, y_3)\n",
    "\n",
    "mean_test_scores_elastic_net = gscv_elastic_net_fitted.cv_results_['mean_test_score']\n",
    "\n",
    "results_df_elastic_net = pd.DataFrame(data={\n",
    "    'elastic_net_regression__alpha': [params['elastic_net_regression__alpha'] for params in gscv_elastic_net_fitted.cv_results_['params']],\n",
    "    'elastic_net_regression__l1_ratio': [params['elastic_net_regression__l1_ratio'] for params in gscv_elastic_net_fitted.cv_results_['params']],\n",
    "    \"scores\": mean_test_scores_elastic_net\n",
    "})\n",
    "results_df_elastic_net"
   ]
  },
  {
   "cell_type": "code",
   "execution_count": 145,
   "id": "3d70a88a",
   "metadata": {},
   "outputs": [
    {
     "name": "stdout",
     "output_type": "stream",
     "text": [
      "elastic_net_regression__alpha       0.100000\n",
      "elastic_net_regression__l1_ratio    0.000100\n",
      "scores                              0.510913\n",
      "Name: 10, dtype: float64\n"
     ]
    }
   ],
   "source": [
    "max_index = results_df_elastic_net['scores'].idxmax()\n",
    "\n",
    "row_with_max_value = results_df_elastic_net.loc[max_index]\n",
    "\n",
    "print(row_with_max_value)"
   ]
  },
  {
   "cell_type": "markdown",
   "id": "b41299d0",
   "metadata": {},
   "source": [
    "alpha of 0.1, l1 ratio of 0.0001 gives me the highest r2."
   ]
  },
  {
   "cell_type": "code",
   "execution_count": 146,
   "id": "3bc75117",
   "metadata": {},
   "outputs": [
    {
     "data": {
      "text/plain": [
       "91612.0473246538"
      ]
     },
     "execution_count": 146,
     "metadata": {},
     "output_type": "execute_result"
    }
   ],
   "source": [
    "elastic_net_pipeline_tuned = Pipeline(\n",
    "    [(\"dummified\", ct_dummies),\n",
    "     ('standardized', ct_sd),\n",
    "     ('interaction', ct_inter),\n",
    "     (\"elastic_net_regression\", ElasticNet(alpha=0.1, l1_ratio=0.0001))]\n",
    ")\n",
    "\n",
    "elastic_net_tuned_fitted = elastic_net_pipeline_tuned.fit(X_3, y_3)\n",
    "elastic_net_tuned_cof = elastic_net_tuned_fitted.named_steps['elastic_net_regression'].coef_\n",
    "elastic_net_tuned_cof\n",
    "\n",
    "mse_scores_negative_elastic_net = cross_val_score(elastic_net_pipeline_tuned, X_3, y_3, cv=5, scoring='neg_mean_squared_error')\n",
    "mse_scores_positive_elastic_net = -mse_scores_negative_elastic_net\n",
    "mse_interaction_elastic_net = np.mean(mse_scores_positive_elastic_net)\n",
    "mse_interaction_elastic_net\n"
   ]
  },
  {
   "cell_type": "code",
   "execution_count": 149,
   "id": "6e28d8b8",
   "metadata": {},
   "outputs": [
    {
     "data": {
      "text/plain": [
       "91612.0473246538"
      ]
     },
     "execution_count": 149,
     "metadata": {},
     "output_type": "execute_result"
    }
   ],
   "source": [
    "min(mse_interaction_elastic_net,mse_interaction_ridge,mse_interaction_lasso,mse_interaction_ln,\n",
    "    mse_five_elastic_net,mse_five_ridge,mse_five_lasso,mse_five_ln,mse_hits_elastic_net,mse_hits_ridge,\n",
    "   mse_hits_lasso,mse_hits_ridge,mse_hits_1)"
   ]
  },
  {
   "cell_type": "markdown",
   "id": "bd4c681c",
   "metadata": {},
   "source": [
    "my elastic_net with five best numeric variables and their interactions with the one best categorical variable model gives me the smallest MSE, indicating it performed the best"
   ]
  },
  {
   "cell_type": "markdown",
   "id": "887e8488",
   "metadata": {},
   "source": [
    "Part III. Discussion"
   ]
  },
  {
   "cell_type": "markdown",
   "id": "9f3b2ae5",
   "metadata": {},
   "source": [
    "A. Ridge\n",
    "Compare your Ridge models with your ordinary regression models. How did your coefficients compare? Why does this make sense?"
   ]
  },
  {
   "cell_type": "markdown",
   "id": "7002f47f",
   "metadata": {},
   "source": [
    "My ridge regression models' coefficient tends to be smaller than linear. The top biggest coefficents for linear were all in 300s, while ridge is only like 100s. This is because ridge model penalizes large coefficients. "
   ]
  },
  {
   "cell_type": "markdown",
   "id": "48daacae",
   "metadata": {},
   "source": [
    "B. LASSO\n",
    "Compare your LASSO model in I with your three LASSO models in II. Did you get the same \n",
    " results? Why does this make sense? Did you get the same MSEs? Why does this make sense?\n",
    "\n"
   ]
  },
  {
   "cell_type": "markdown",
   "id": "b2af6095",
   "metadata": {},
   "source": [
    "I got 10 every single time, for both ridge and lasso. The variables I used to predict salary are all good statistic to use, it makes sense that they are tuned in the same manner every time. I got different MSE. It's literally all different variables I used every single time, it would make no sense if I get the same MSE.\n"
   ]
  },
  {
   "cell_type": "markdown",
   "id": "c2ab6640",
   "metadata": {},
   "source": [
    "C. Elastic Net\n",
    "Compare your MSEs for the Elastic Net models with those for the Ridge and LASSO models. Why does it make sense that Elastic Net always “wins”?"
   ]
  },
  {
   "cell_type": "markdown",
   "id": "1a1b91e8",
   "metadata": {},
   "source": [
    "Because it takes both regularization terms from lasso and ridge. It takes a balance approach on the metric, so that it can get benefits from both models."
   ]
  },
  {
   "cell_type": "markdown",
   "id": "ff466563",
   "metadata": {},
   "source": [
    "Part IV: Final Model\n",
    "Fit your final best pipeline on the full dataset, and summarize your results in a few short sentences and a plot."
   ]
  },
  {
   "cell_type": "code",
   "execution_count": 161,
   "id": "b1a4af10",
   "metadata": {
    "scrolled": true
   },
   "outputs": [
    {
     "data": {
      "image/png": "[encoded data removed]",
      "text/plain": [
       "<Figure size 640x480 with 1 Axes>"
      ]
     },
     "metadata": {
      "image/png": {
       "height": 480,
       "width": 640
      }
     },
     "output_type": "display_data"
    },
    {
     "data": {
      "text/plain": [
       "<Figure Size: (640 x 480)>"
      ]
     },
     "execution_count": 161,
     "metadata": {},
     "output_type": "execute_result"
    }
   ],
   "source": [
    "elastic_net_pipeline_tuned = Pipeline(\n",
    "    [(\"dummified\", ct_dummies),\n",
    "     ('standardized', ct_sd),\n",
    "     ('interaction', ct_inter),\n",
    "     (\"elastic_net_regression\", ElasticNet(alpha=0.1, l1_ratio=0.0001))]\n",
    ")\n",
    "\n",
    "elastic_net_tuned_fitted = elastic_net_pipeline_tuned.fit(X_3, y_3)\n",
    "\n",
    "elastic_net_tuned_fitted.predict(X_3)\n",
    "\n",
    "graph_data = pd.DataFrame(data={\n",
    "    'salary_actual':y_3,'salary_predict':elastic_net_tuned_fitted.predict(X_3)})\n",
    "\n",
    "\n",
    "from plotnine import ggplot, aes, geom_point\n",
    "\n",
    "p = (ggplot(graph_data, aes(x='salary_actual')) +\n",
    "     geom_point(aes(y='salary_predict'), color='orange') )\n",
    "p"
   ]
  },
  {
   "cell_type": "markdown",
   "id": "06faba23",
   "metadata": {},
   "source": [
    "My final best pipeline is a elastic_net with alpha=0.1, l1_ratio=0.0001. It has a mse of 91612, which is the smallest out of all my models. The graph I made compared the actual salry versus the salary that is predicted by this model. If the y=x for the data point, it indicates that it did a perfect prediction. In our case, our data points are all spread around y=x, meaning we relatively did a good job on predicting."
   ]
  }
 ],
 "metadata": {
  "kernelspec": {
   "display_name": "Python 3 (ipykernel)",
   "language": "python",
   "name": "python3"
  },
  "language_info": {
   "codemirror_mode": {
    "name": "ipython",
    "version": 3
   },
   "file_extension": ".py",
   "mimetype": "text/x-python",
   "name": "python",
   "nbconvert_exporter": "python",
   "pygments_lexer": "ipython3",
   "version": "3.11.5"
  }
 },
 "nbformat": 4,
 "nbformat_minor": 5
}
